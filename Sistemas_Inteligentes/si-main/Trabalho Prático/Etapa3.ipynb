{
 "cells": [
  {
   "cell_type": "markdown",
   "metadata": {},
   "source": [
    "# Etapa 3 - Machine Learning\n",
    "\n",
    "Na etapa 3, os dados do Dataframe de Classificação Binária e dos Dataframe de Classificação multivariada serão usados para desenvolver diversos modelos de Machine Learning (ML). A criação destes modelos tem como objetivo selecionar o mais adequado para a previsão dos dados em estudo.\n",
    "Nesta etapa gerar-se-á atributos relativos ao encoding das sequências para a determinação das classes de proteínas transportadoras. O processo de encoding utilizado foi o One-hot-encoding, este irá converter cada variável categórica (aminoácido da sequência) em vetores binários representativos de cada aminoácido.\n",
    "\n",
    "\n",
    "Para tal, serão analisados 3 tipos de classificação: Classificação binária; Classificação multiclasse balanceada; Classificação multiclasse de transportadores. Para cada classificação serão gerados modelos baseados nas 100 melhores features fisico-quimicas (utilizadas no processo de unsupervised learning da etapa 2) e modelos baseados nas sequência codificadas através do one-hot-encoding.\n",
    "\n",
    "\n",
    "Para a criação de modelos, recorremos à classe **ShallowML** presente no package Propythia. Esta classe irá construir modelos de previsão de Random Forest, Support Vecto Machine (SVM) e k-nearest neighbors (KNN) para os dados presentes nos diferentes dataframes.\n",
    "O __init__ da classe necessita primeiramente de receber os dados que serão utilizados para a etapa de treino e os dados que serão utilizados para o teste do modelo. Esta divisão foi realizada com recurso à função **train_test_split** do Sklearn, dividindo 75 % do dataset para treino e 25% para a fase de teste. Adicionalmente, foram recolhidos dos dataframes estratificadamente (garantindo a presença de todas as classes no dataset de treino e de teste) e utilizado sempre o mesmo random_state na divisão do dataset (garantindo que as entradas são divididas de igual forma para o modelo baseado em features e **one-hot-encoding**).\n",
    "\n",
    "Tendo em conta que o objetivo principal ao longo desta etapa será a previsão de diferentes classificações (Binária ou multiclasse), os modelos de Machine Learning escolhidos para cada classificação foram:\n",
    "\n",
    "•\tRandom Forest – Modelo de Machine Learning supervisionado que consiste na construção de múltiplas árvores de decisão, fundindo-as de forma a obter uma melhor e mais estável previsão. Este modelo geralmente é utilizado para problemas de regressão ou classificação.\n",
    "\n",
    "•\tSVM - “Support Vector Machine” é um modelo de Machine Learning supervisionado para problemas de regressão e classificação, sendo mais usual a utilização deste para problemas de classificação, que consiste na representação dos dados em um espaço n-dimensional onde cada valor corresponde a uma coordenada especifica. A previsão é obtida a partir do melhor hiperplano encontrado para diferenciação significativa das diferentes classes.\n",
    "\n",
    "•\tKNN - “K-nearest neighbors” é um modelo supervisionado de Machine Learning utilizado para problemas de classificação e regressão, este modelo agrupa os dados nas diferentes K classificações consoante a sua distância de proximidade. Este modelo é considerado um “lazy learner algorithm” uma vez que o conjunto de treino não será imediatamente utilizado, mas sim armazenado, sendo apenas utilizado quando surge uma nova classificação.\n",
    "\n",
    "De modo a obtermos o modelo mais eficiente, esta classe tem a implementação de um método de otimização de hiperparâmentros chamada de **Grid-Search** implementada no ProPythia.\n",
    "Grid-Searching consiste na análise de dados de modo a otimizar os hiperparâmetros usados no desenvolvimento de modelos de machine learning. Este processo pode ser computacionalmente custoso. Uma vez que o processo de Grid-Search irá construir diferentes modelos atravez de cross-validation utilizando apenas dados os dados de treino, para cada combinação de hiperparâmetros possível. Adicionalmente, durante todas as iterações, são guardadas as combinações dos hiperparâmetros usados, bem como os modelos delas resultantes, para que no final seja determinado qual é que é o modelo com melhor capacidade de corretamente classificar os dados em análise. Este modelo no fim será avaliado pelo dataset de teste, dataset com um dataset de input nunca utilizado no processo de treino do GridSearch.\n",
    "No Grid-Search foram utilizados o conjunto de hiperparametros pré-definidos no Package.\n",
    "\n",
    "\n",
    "Primeiramente foi realizado o import dos packages necessários assim como a definição da função **encode_sequence** para realizar o processo de one-hot-encoding das sequências dos datasets. Resultará num vector em que as dimesões são de 21000 entradas e 1 linha (flatten da matriz de one-hot-encoding).\n",
    "\n",
    "\n"
   ]
  },
  {
   "cell_type": "code",
   "execution_count": 1,
   "metadata": {
    "pycharm": {
     "name": "#%%\n"
    }
   },
   "outputs": [],
   "source": [
    "import pandas as pd\n",
    "import numpy as np\n",
    "from tensorflow.keras.utils import to_categorical\n",
    "from tensorflow.keras.preprocessing.sequence import pad_sequences\n",
    "import os\n",
    "from sklearn.model_selection import train_test_split\n",
    "from sklearn.metrics import make_scorer\n",
    "from sklearn.metrics import matthews_corrcoef\n",
    "from propythia.shallow_ml import ShallowML\n",
    "os.environ['TF_XLA_FLAGS'] = '--tf_xla_enable_xla_devices'\n",
    "\n",
    "def encode_sequence(sequences, seq_len, padding_truncating='post'):\n",
    "    # define a mapping of chars to integers\n",
    "    alphabet = \"XARNDCEQGHILKMFPSTWYV\"\n",
    "    char_to_int = dict((c, i) for i, c in enumerate(alphabet))\n",
    "    int_to_char = dict((i, c) for i, c in enumerate(alphabet))\n",
    "\n",
    "    sequences_integer_ecoded = []\n",
    "    for seq in sequences:\n",
    "        # if 'X' not in alphabet:\n",
    "        seq = seq.replace('X', '')  # unknown character eliminated\n",
    "        # integer encode input data\n",
    "        integer_encoded = [char_to_int[char] for char in seq]\n",
    "        sequences_integer_ecoded.append(integer_encoded)\n",
    "    list_of_sequences_integer = pad_sequences(sequences_integer_ecoded, maxlen=seq_len, dtype='int32',\n",
    "                                              padding=padding_truncating, truncating=padding_truncating, value=0.0)\n",
    "    list_of_sequences_aa = []\n",
    "    for seq in list_of_sequences_integer:\n",
    "        pad_aa_list = [int_to_char[char] for char in seq]\n",
    "        pad_aa = ''.join(pad_aa_list)\n",
    "        list_of_sequences_aa.append(pad_aa)\n",
    "\n",
    "\n",
    "    # one hot encoding\n",
    "    shape_hot = len(alphabet) * seq_len  # 20000\n",
    "    fps_x_2d = to_categorical(list_of_sequences_integer)  # shape (samples, 1000,20)\n",
    "    fps_x_1d = pd.DataFrame(fps_x_2d.reshape(fps_x_2d.shape[0], shape_hot))  # shape (samples, 20000)\n",
    "    # return fps_x_1d\n",
    "    return fps_x_1d"
   ]
  },
  {
   "cell_type": "markdown",
   "source": [
    "# Classificação Binária\n",
    "Nesta secção será realizada a classificação binária, transportador ou não transportadores, com recurso ao dataset gerado na etapa 1.\n",
    "## Features físico-químicas\n",
    "Primeiramente, foi construido os modelos RF, SVM e KNN baseado nas 100 features selecionadas na etapa anterior. O dataset df_tra foi importado e as labels fora condificadas para 0 - Não transportador e 1- Transportador. Pode ser tambem verificada a distribuição entre as duas classes"
   ],
   "metadata": {
    "collapsed": false
   }
  },
  {
   "cell_type": "code",
   "execution_count": 2,
   "outputs": [
    {
     "name": "stdout",
     "output_type": "stream",
     "text": [
      "transporter\n",
      "0    16457\n",
      "1    14048\n",
      "dtype: int64\n"
     ]
    },
    {
     "data": {
      "text/plain": "                                                sequence  transporter  \\\n0      MSYKPIAPAPSSTPGSSTPGPGTPVPTGSVPSPSGSVPGAGAPFRP...            0   \n1      MSDDLPIDIHSSKLLDWLVSRRHCNKDWQKSVVAIREKIKHAILDM...            0   \n2      MPFDPAASPLSPSQARVLATLMEKARTVPDSYPMSLNGLLTGCNQK...            0   \n3      MIHFTKMHGLGNDFMVVDGVTQNVFFSPEQIRRLADRNFGIGFDQL...            0   \n4      MGSSTTEPDVGTTSNIETTTTLQNKNVNEVDQNKKSEQSNPSFKEV...            0   \n...                                                  ...          ...   \n30500  MPEGKFCNRKPVNTEEDLKALLGDKGGAQYYKEMEELEVDQEALWA...            1   \n30501  MQHANTNKSLMTPGNIITGIILVMGLVLTVLRFTKGIGAVSNLDDN...            1   \n30502  MRFGVVVLAIILLTGCSAMSAISDLLPSKDGIEATAQAGESNQKTG...            1   \n30503  MILLTQSRFFSQKARCYITDNKRLFLPLLILIALVVPATRGFTLQA...            1   \n30504  MRYVRSLLGVGALLVGAGGAAAQPGAFPGAGERAPGGAPSAPVSAP...            1   \n\n       _ChargeD2100  bomanindex     Gravy  _HydrophobicityD3100  _ChargeC2  \\\n0         -0.663266    0.224854 -0.728483              2.080290   0.656979   \n1          1.572972    0.917296 -0.899206              0.433034  -1.479925   \n2         -0.436835    0.281929 -0.414872              0.694912   0.401152   \n3         -0.117689    0.280997 -0.368043             -0.083867   0.055034   \n4         -0.613676    1.574354 -1.987419              1.986828   0.611833   \n...             ...         ...       ...                   ...        ...   \n30500      0.607386    0.510703 -0.801156              0.064474  -0.727494   \n30501     -1.315992   -1.581525  1.513113             -1.290844   1.469604   \n30502     -0.604466   -0.090436  0.218970              0.259392   0.596784   \n30503     -1.496199   -1.693440  1.827002             -1.129750   1.710382   \n30504     -0.821776   -0.068580 -0.013619              1.291862   0.852611   \n\n       _HydrophobicityD1100  _SolventAccessibilityD2100  _ChargeD2075  ...  \\\n0                  0.738313                    0.738313     -1.628206  ...   \n1                 -0.903760                   -0.903760      1.628170  ...   \n2                 -0.130083                   -0.130083     -0.094844  ...   \n3                 -0.488394                   -0.488394      0.020678  ...   \n4                 -0.916583                   -0.916583     -0.260411  ...   \n...                     ...                         ...           ...  ...   \n30500             -0.557507                   -0.557507      0.611736  ...   \n30501              1.822963                    1.822963     -1.377985  ...   \n30502              0.074191                    0.074191     -0.236207  ...   \n30503              1.309433                    1.309433     -1.234283  ...   \n30504              0.663791                    0.663791     -0.810078  ...   \n\n             WC        HY        FC        MH        TP  _NormalizedVDWVC1  \\\n0     -0.159045 -0.387705 -0.337443 -0.308190  5.663457           3.035941   \n1     -0.159045 -0.387705 -0.337443 -0.308190 -0.746678          -0.726321   \n2     -0.159045 -0.387705 -0.337443 -0.308190  0.375096           1.411704   \n3     -0.159045  1.676105 -0.337443  2.207031  0.214843          -0.394844   \n4     -0.159045  2.306713 -0.337443 -0.308190  0.508641          -0.427992   \n...         ...       ...       ...       ...       ...                ...   \n30500 -0.159045  2.077401  0.722249  1.228890  0.401805          -0.792616   \n30501 -0.159045  1.102824 -0.337443  1.508359 -0.052246          -0.461140   \n30502 -0.159045 -0.387705 -0.337443 -0.308190 -0.746678           1.743181   \n30503 -0.159045 -0.387705 -0.337443 -0.308190 -0.052246           0.102371   \n30504 -0.159045 -0.387705 -0.337443 -0.308190 -0.105664           2.522152   \n\n             YK        KY        CN        QY  \n0      2.249176 -0.551078 -0.255895 -0.479138  \n1      0.890937  0.731924  0.681034  1.386198  \n2     -0.536955 -0.551078  1.711655 -0.479138  \n3     -0.536955 -0.551078 -0.255895 -0.479138  \n4     -0.536955 -0.551078  0.868420  0.612766  \n...         ...       ...       ...       ...  \n30500  0.960590 -0.551078  2.789123  1.477190  \n30501  0.368538 -0.551078 -0.255895 -0.479138  \n30502 -0.536955 -0.551078 -0.255895 -0.479138  \n30503  0.368538 -0.551078 -0.255895 -0.479138  \n30504 -0.536955  0.199947 -0.255895  1.750166  \n\n[30505 rows x 642 columns]",
      "text/html": "<div>\n<style scoped>\n    .dataframe tbody tr th:only-of-type {\n        vertical-align: middle;\n    }\n\n    .dataframe tbody tr th {\n        vertical-align: top;\n    }\n\n    .dataframe thead th {\n        text-align: right;\n    }\n</style>\n<table border=\"1\" class=\"dataframe\">\n  <thead>\n    <tr style=\"text-align: right;\">\n      <th></th>\n      <th>sequence</th>\n      <th>transporter</th>\n      <th>_ChargeD2100</th>\n      <th>bomanindex</th>\n      <th>Gravy</th>\n      <th>_HydrophobicityD3100</th>\n      <th>_ChargeC2</th>\n      <th>_HydrophobicityD1100</th>\n      <th>_SolventAccessibilityD2100</th>\n      <th>_ChargeD2075</th>\n      <th>...</th>\n      <th>WC</th>\n      <th>HY</th>\n      <th>FC</th>\n      <th>MH</th>\n      <th>TP</th>\n      <th>_NormalizedVDWVC1</th>\n      <th>YK</th>\n      <th>KY</th>\n      <th>CN</th>\n      <th>QY</th>\n    </tr>\n  </thead>\n  <tbody>\n    <tr>\n      <th>0</th>\n      <td>MSYKPIAPAPSSTPGSSTPGPGTPVPTGSVPSPSGSVPGAGAPFRP...</td>\n      <td>0</td>\n      <td>-0.663266</td>\n      <td>0.224854</td>\n      <td>-0.728483</td>\n      <td>2.080290</td>\n      <td>0.656979</td>\n      <td>0.738313</td>\n      <td>0.738313</td>\n      <td>-1.628206</td>\n      <td>...</td>\n      <td>-0.159045</td>\n      <td>-0.387705</td>\n      <td>-0.337443</td>\n      <td>-0.308190</td>\n      <td>5.663457</td>\n      <td>3.035941</td>\n      <td>2.249176</td>\n      <td>-0.551078</td>\n      <td>-0.255895</td>\n      <td>-0.479138</td>\n    </tr>\n    <tr>\n      <th>1</th>\n      <td>MSDDLPIDIHSSKLLDWLVSRRHCNKDWQKSVVAIREKIKHAILDM...</td>\n      <td>0</td>\n      <td>1.572972</td>\n      <td>0.917296</td>\n      <td>-0.899206</td>\n      <td>0.433034</td>\n      <td>-1.479925</td>\n      <td>-0.903760</td>\n      <td>-0.903760</td>\n      <td>1.628170</td>\n      <td>...</td>\n      <td>-0.159045</td>\n      <td>-0.387705</td>\n      <td>-0.337443</td>\n      <td>-0.308190</td>\n      <td>-0.746678</td>\n      <td>-0.726321</td>\n      <td>0.890937</td>\n      <td>0.731924</td>\n      <td>0.681034</td>\n      <td>1.386198</td>\n    </tr>\n    <tr>\n      <th>2</th>\n      <td>MPFDPAASPLSPSQARVLATLMEKARTVPDSYPMSLNGLLTGCNQK...</td>\n      <td>0</td>\n      <td>-0.436835</td>\n      <td>0.281929</td>\n      <td>-0.414872</td>\n      <td>0.694912</td>\n      <td>0.401152</td>\n      <td>-0.130083</td>\n      <td>-0.130083</td>\n      <td>-0.094844</td>\n      <td>...</td>\n      <td>-0.159045</td>\n      <td>-0.387705</td>\n      <td>-0.337443</td>\n      <td>-0.308190</td>\n      <td>0.375096</td>\n      <td>1.411704</td>\n      <td>-0.536955</td>\n      <td>-0.551078</td>\n      <td>1.711655</td>\n      <td>-0.479138</td>\n    </tr>\n    <tr>\n      <th>3</th>\n      <td>MIHFTKMHGLGNDFMVVDGVTQNVFFSPEQIRRLADRNFGIGFDQL...</td>\n      <td>0</td>\n      <td>-0.117689</td>\n      <td>0.280997</td>\n      <td>-0.368043</td>\n      <td>-0.083867</td>\n      <td>0.055034</td>\n      <td>-0.488394</td>\n      <td>-0.488394</td>\n      <td>0.020678</td>\n      <td>...</td>\n      <td>-0.159045</td>\n      <td>1.676105</td>\n      <td>-0.337443</td>\n      <td>2.207031</td>\n      <td>0.214843</td>\n      <td>-0.394844</td>\n      <td>-0.536955</td>\n      <td>-0.551078</td>\n      <td>-0.255895</td>\n      <td>-0.479138</td>\n    </tr>\n    <tr>\n      <th>4</th>\n      <td>MGSSTTEPDVGTTSNIETTTTLQNKNVNEVDQNKKSEQSNPSFKEV...</td>\n      <td>0</td>\n      <td>-0.613676</td>\n      <td>1.574354</td>\n      <td>-1.987419</td>\n      <td>1.986828</td>\n      <td>0.611833</td>\n      <td>-0.916583</td>\n      <td>-0.916583</td>\n      <td>-0.260411</td>\n      <td>...</td>\n      <td>-0.159045</td>\n      <td>2.306713</td>\n      <td>-0.337443</td>\n      <td>-0.308190</td>\n      <td>0.508641</td>\n      <td>-0.427992</td>\n      <td>-0.536955</td>\n      <td>-0.551078</td>\n      <td>0.868420</td>\n      <td>0.612766</td>\n    </tr>\n    <tr>\n      <th>...</th>\n      <td>...</td>\n      <td>...</td>\n      <td>...</td>\n      <td>...</td>\n      <td>...</td>\n      <td>...</td>\n      <td>...</td>\n      <td>...</td>\n      <td>...</td>\n      <td>...</td>\n      <td>...</td>\n      <td>...</td>\n      <td>...</td>\n      <td>...</td>\n      <td>...</td>\n      <td>...</td>\n      <td>...</td>\n      <td>...</td>\n      <td>...</td>\n      <td>...</td>\n      <td>...</td>\n    </tr>\n    <tr>\n      <th>30500</th>\n      <td>MPEGKFCNRKPVNTEEDLKALLGDKGGAQYYKEMEELEVDQEALWA...</td>\n      <td>1</td>\n      <td>0.607386</td>\n      <td>0.510703</td>\n      <td>-0.801156</td>\n      <td>0.064474</td>\n      <td>-0.727494</td>\n      <td>-0.557507</td>\n      <td>-0.557507</td>\n      <td>0.611736</td>\n      <td>...</td>\n      <td>-0.159045</td>\n      <td>2.077401</td>\n      <td>0.722249</td>\n      <td>1.228890</td>\n      <td>0.401805</td>\n      <td>-0.792616</td>\n      <td>0.960590</td>\n      <td>-0.551078</td>\n      <td>2.789123</td>\n      <td>1.477190</td>\n    </tr>\n    <tr>\n      <th>30501</th>\n      <td>MQHANTNKSLMTPGNIITGIILVMGLVLTVLRFTKGIGAVSNLDDN...</td>\n      <td>1</td>\n      <td>-1.315992</td>\n      <td>-1.581525</td>\n      <td>1.513113</td>\n      <td>-1.290844</td>\n      <td>1.469604</td>\n      <td>1.822963</td>\n      <td>1.822963</td>\n      <td>-1.377985</td>\n      <td>...</td>\n      <td>-0.159045</td>\n      <td>1.102824</td>\n      <td>-0.337443</td>\n      <td>1.508359</td>\n      <td>-0.052246</td>\n      <td>-0.461140</td>\n      <td>0.368538</td>\n      <td>-0.551078</td>\n      <td>-0.255895</td>\n      <td>-0.479138</td>\n    </tr>\n    <tr>\n      <th>30502</th>\n      <td>MRFGVVVLAIILLTGCSAMSAISDLLPSKDGIEATAQAGESNQKTG...</td>\n      <td>1</td>\n      <td>-0.604466</td>\n      <td>-0.090436</td>\n      <td>0.218970</td>\n      <td>0.259392</td>\n      <td>0.596784</td>\n      <td>0.074191</td>\n      <td>0.074191</td>\n      <td>-0.236207</td>\n      <td>...</td>\n      <td>-0.159045</td>\n      <td>-0.387705</td>\n      <td>-0.337443</td>\n      <td>-0.308190</td>\n      <td>-0.746678</td>\n      <td>1.743181</td>\n      <td>-0.536955</td>\n      <td>-0.551078</td>\n      <td>-0.255895</td>\n      <td>-0.479138</td>\n    </tr>\n    <tr>\n      <th>30503</th>\n      <td>MILLTQSRFFSQKARCYITDNKRLFLPLLILIALVVPATRGFTLQA...</td>\n      <td>1</td>\n      <td>-1.496199</td>\n      <td>-1.693440</td>\n      <td>1.827002</td>\n      <td>-1.129750</td>\n      <td>1.710382</td>\n      <td>1.309433</td>\n      <td>1.309433</td>\n      <td>-1.234283</td>\n      <td>...</td>\n      <td>-0.159045</td>\n      <td>-0.387705</td>\n      <td>-0.337443</td>\n      <td>-0.308190</td>\n      <td>-0.052246</td>\n      <td>0.102371</td>\n      <td>0.368538</td>\n      <td>-0.551078</td>\n      <td>-0.255895</td>\n      <td>-0.479138</td>\n    </tr>\n    <tr>\n      <th>30504</th>\n      <td>MRYVRSLLGVGALLVGAGGAAAQPGAFPGAGERAPGGAPSAPVSAP...</td>\n      <td>1</td>\n      <td>-0.821776</td>\n      <td>-0.068580</td>\n      <td>-0.013619</td>\n      <td>1.291862</td>\n      <td>0.852611</td>\n      <td>0.663791</td>\n      <td>0.663791</td>\n      <td>-0.810078</td>\n      <td>...</td>\n      <td>-0.159045</td>\n      <td>-0.387705</td>\n      <td>-0.337443</td>\n      <td>-0.308190</td>\n      <td>-0.105664</td>\n      <td>2.522152</td>\n      <td>-0.536955</td>\n      <td>0.199947</td>\n      <td>-0.255895</td>\n      <td>1.750166</td>\n    </tr>\n  </tbody>\n</table>\n<p>30505 rows × 642 columns</p>\n</div>"
     },
     "execution_count": 2,
     "metadata": {},
     "output_type": "execute_result"
    }
   ],
   "source": [
    "df_tra = pd.read_csv('df_Tra.csv', sep= ',')\n",
    "df_tra = df_tra.drop(columns='Unnamed: 0')\n",
    "dici = {'NonTra':0, 'Tra':1}\n",
    "df_tra.transporter = df_tra.transporter.apply(lambda x: dici[x])\n",
    "print(df_tra.groupby('transporter').size())\n",
    "df_tra"
   ],
   "metadata": {
    "collapsed": false,
    "pycharm": {
     "name": "#%%\n"
    }
   }
  },
  {
   "cell_type": "markdown",
   "source": [
    "### Pré-preparação para o split do dataset\n",
    "Das 30505 entradas foram mantidas as 100 features selecionadas. Gerando como dados de entrada uma matriz com 100 colunas e 30505 entradas (cada uma das sequências). Foi também isolado as labels apartir do dataset."
   ],
   "metadata": {
    "collapsed": false
   }
  },
  {
   "cell_type": "code",
   "execution_count": 3,
   "metadata": {
    "pycharm": {
     "name": "#%%\n"
    }
   },
   "outputs": [
    {
     "name": "stdout",
     "output_type": "stream",
     "text": [
      "(30505, 100)\n"
     ]
    },
    {
     "data": {
      "text/plain": "array([[-0.66326571,  0.22485399, -0.72848277, ...,  0.36082671,\n        -0.57862866,  0.41571143],\n       [ 1.572972  ,  0.91729598, -0.89920574, ...,  0.14714935,\n        -0.22572944,  0.14744127],\n       [-0.4368348 ,  0.28192886, -0.41487247, ...,  0.7555982 ,\n        -0.42612783,  0.84436049],\n       ...,\n       [-0.60446629, -0.09043552,  0.21897018, ..., -0.79296243,\n         0.50394728, -0.86403931],\n       [-1.49619851, -1.69343959,  1.82700193, ..., -0.67360493,\n         0.46107586, -0.74594211],\n       [-0.82177621, -0.06858006, -0.01361906, ...,  0.50865165,\n        -0.21208589,  0.59905367]])"
     },
     "execution_count": 3,
     "metadata": {},
     "output_type": "execute_result"
    }
   ],
   "source": [
    "fps_x=[]\n",
    "for i in range(df_tra.shape[0]):\n",
    "    fps_x.append(list(df_tra.iloc[i,2:102].to_numpy().flatten()))\n",
    "fps_x_traf = np.array(fps_x)\n",
    "print(fps_x_traf.shape)\n",
    "fps_x_traf"
   ]
  },
  {
   "cell_type": "code",
   "execution_count": 4,
   "metadata": {
    "pycharm": {
     "name": "#%%\n"
    }
   },
   "outputs": [
    {
     "name": "stdout",
     "output_type": "stream",
     "text": [
      "(30505,)\n"
     ]
    },
    {
     "data": {
      "text/plain": "array([0, 0, 0, ..., 1, 1, 1], dtype=int64)"
     },
     "execution_count": 4,
     "metadata": {},
     "output_type": "execute_result"
    }
   ],
   "source": [
    "fps_y_traf =df_tra['transporter'].to_numpy().flatten()\n",
    "print(fps_y_traf.shape)\n",
    "fps_y_traf"
   ]
  },
  {
   "cell_type": "markdown",
   "source": [
    "### Split do dataset\n",
    "O split foi realizado como indicado na introdução."
   ],
   "metadata": {
    "collapsed": false,
    "pycharm": {
     "name": "#%% md\n"
    }
   }
  },
  {
   "cell_type": "code",
   "source": [
    "X_train_traf, X_test_traf, y_train_traf, y_test_traf = train_test_split(fps_x_traf, fps_y_traf, test_size=0.25, random_state = 42,stratify=fps_y_traf)\n",
    "print(X_train_traf.shape, y_train_traf.shape)\n",
    "print(X_test_traf.shape, y_test_traf.shape)"
   ],
   "metadata": {
    "collapsed": false,
    "pycharm": {
     "name": "#%%\n"
    }
   },
   "execution_count": 5,
   "outputs": [
    {
     "name": "stdout",
     "output_type": "stream",
     "text": [
      "(22878, 100) (22878,)\n",
      "(7627, 100) (7627,)\n"
     ]
    }
   ]
  },
  {
   "cell_type": "markdown",
   "source": [
    "Para os modelos serão utilizadas 22878 entradas para treino e 7627 entradas para teste dos modelos.\n",
    "### RF\n",
    "O primeiro modelo treinado foi o Random Forest (RF) com os parametros pré-defenidos para o Grid Search."
   ],
   "metadata": {
    "collapsed": false,
    "pycharm": {
     "name": "#%% md\n"
    }
   }
  },
  {
   "cell_type": "code",
   "source": [
    "RF = ShallowML(X_train_traf, X_test_traf, y_train_traf, y_test_traf, report_name='rfx_traf', columns_names = list(df_tra.columns))\n",
    "best_rf_model = RF.train_best_model(model_name='rf',model=None, scaler=None,score=make_scorer(matthews_corrcoef),\n",
    "                         cv=5, optType='gridSearch', param_grid=None,\n",
    "                         n_jobs=5,random_state=1, n_iter=15, refit=True)\n",
    "\n",
    "scores, scores_per_class, cm, cm2 = RF.score_testset()\n",
    "print(scores)\n",
    "print(scores_per_class)\n",
    "print(cm)"
   ],
   "metadata": {
    "collapsed": false,
    "pycharm": {
     "name": "#%%\n"
    }
   },
   "execution_count": 6,
   "outputs": [
    {
     "name": "stdout",
     "output_type": "stream",
     "text": [
      "performing gridSearch...\n",
      "GridSearchCV took 224.51 seconds for 6 candidate parameter settings.\n",
      "GridSearchCV(cv=5,\n",
      "             estimator=Pipeline(steps=[('scl', None),\n",
      "                                       ('clf',\n",
      "                                        RandomForestClassifier(random_state=1))]),\n",
      "             n_jobs=5,\n",
      "             param_grid=[{'clf__bootstrap': [True], 'clf__criterion': ['gini'],\n",
      "                          'clf__max_features': ['sqrt', 'log2'],\n",
      "                          'clf__n_estimators': [10, 100, 500]}],\n",
      "             scoring=make_scorer(matthews_corrcoef))\n",
      "Model with rank: 1\n",
      " Mean validation score: 0.715 (std: 0.006)\n",
      " Parameters: {'clf__bootstrap': True, 'clf__criterion': 'gini', 'clf__max_features': 'sqrt', 'clf__n_estimators': 500}\n",
      " \n",
      "\n",
      "Model with rank: 2\n",
      " Mean validation score: 0.709 (std: 0.006)\n",
      " Parameters: {'clf__bootstrap': True, 'clf__criterion': 'gini', 'clf__max_features': 'log2', 'clf__n_estimators': 500}\n",
      " \n",
      "\n",
      "Model with rank: 3\n",
      " Mean validation score: 0.708 (std: 0.006)\n",
      " Parameters: {'clf__bootstrap': True, 'clf__criterion': 'gini', 'clf__max_features': 'sqrt', 'clf__n_estimators': 100}\n",
      " \n",
      "\n",
      "make_scorer(matthews_corrcoef)\n",
      "5\n",
      "Best score (scorer: make_scorer(matthews_corrcoef)) and parameters from a 5-fold cross validation:\n",
      " MCC score:\t0.715\n",
      " Parameters:\t{'clf__bootstrap': True, 'clf__criterion': 'gini', 'clf__max_features': 'sqrt', 'clf__n_estimators': 500}\n",
      "\n",
      "0.670555 (0.006753) with: {'clf__bootstrap': True, 'clf__criterion': 'gini', 'clf__max_features': 'sqrt', 'clf__n_estimators': 10}\n",
      "0.708317 (0.005808) with: {'clf__bootstrap': True, 'clf__criterion': 'gini', 'clf__max_features': 'sqrt', 'clf__n_estimators': 100}\n",
      "0.714917 (0.005778) with: {'clf__bootstrap': True, 'clf__criterion': 'gini', 'clf__max_features': 'sqrt', 'clf__n_estimators': 500}\n",
      "0.667419 (0.007455) with: {'clf__bootstrap': True, 'clf__criterion': 'gini', 'clf__max_features': 'log2', 'clf__n_estimators': 10}\n",
      "0.701892 (0.005871) with: {'clf__bootstrap': True, 'clf__criterion': 'gini', 'clf__max_features': 'log2', 'clf__n_estimators': 100}\n",
      "0.709042 (0.005961) with: {'clf__bootstrap': True, 'clf__criterion': 'gini', 'clf__max_features': 'log2', 'clf__n_estimators': 500}\n",
      "   clf__bootstrap clf__criterion clf__max_features  clf__n_estimators  \\\n",
      "0            True           gini              sqrt                 10   \n",
      "1            True           gini              sqrt                100   \n",
      "2            True           gini              sqrt                500   \n",
      "3            True           gini              log2                 10   \n",
      "4            True           gini              log2                100   \n",
      "5            True           gini              log2                500   \n",
      "\n",
      "      means      stds  \n",
      "0  0.670555  0.006753  \n",
      "1  0.708317  0.005808  \n",
      "2  0.714917  0.005778  \n",
      "3  0.667419  0.007455  \n",
      "4  0.701892  0.005871  \n",
      "5  0.709042  0.005961  \n",
      "{'Accuracy': 0.8547266290808968, 'MCC': 0.7124564623209635, 'log_loss': 0.3424929596254317, 'f1 score': 0.828270303781773, 'roc_auc': 0.8478462317705378, 'Precision': array([0.46046939, 0.90884354, 1.        ]), 'Recall': array([1.        , 0.76082005, 0.        ]), 'fdr': 0.09115646258503401, 'sn': 0.7608200455580866, 'sp': 0.934872417982989}\n",
      "              precision    recall  f1-score   support\n",
      "\n",
      "           0       0.82      0.93      0.87      4115\n",
      "           1       0.91      0.76      0.83      3512\n",
      "\n",
      "    accuracy                           0.85      7627\n",
      "   macro avg       0.86      0.85      0.85      7627\n",
      "weighted avg       0.86      0.85      0.85      7627\n",
      "\n",
      "[[3847  268]\n",
      " [ 840 2672]]\n"
     ]
    },
    {
     "data": {
      "text/plain": "<Figure size 432x288 with 0 Axes>"
     },
     "metadata": {},
     "output_type": "display_data"
    }
   ]
  },
  {
   "cell_type": "markdown",
   "source": [
    "O melhor modelo obtido obteve um MCC score de 0.708 e accuracy de 85.2 %, com o seguinte dicionário de hiperparametros {'clf__bootstrap': True, 'clf__criterion': 'gini', 'clf__max_features': 'sqrt', 'clf__n_estimators': 500}\n",
    "### SVM\n",
    "Para todos os modelos de SVM, a Grid de hiperparâmentros utilizada foi testar o parametro C para os valores 0.1,1.0 e 10 e a opção de realizar o kernel linear ou através da Radial basis function (rbf)."
   ],
   "metadata": {
    "collapsed": false,
    "pycharm": {
     "name": "#%% md\n"
    }
   }
  },
  {
   "cell_type": "code",
   "source": [
    "SVM = ShallowML(X_train_traf, X_test_traf, y_train_traf, y_test_traf, report_name='svmx_traf', columns_names=list(df_tra.columns))\n",
    "param_grid ={'clf__C': [0.1,1.0,10],\n",
    "                        'clf__kernel': ['linear', 'rbf']}\n",
    "best_svm_model = SVM.train_best_model(model_name='svm',model=None, scaler=None,score=make_scorer(matthews_corrcoef),\n",
    "                         cv=3, optType='gridSearch', param_grid=param_grid,\n",
    "                         n_jobs=5,random_state=1, n_iter=15, refit=True, probability=True)\n",
    "\n",
    "print(best_svm_model)\n",
    "scores, scores_per_class, cm, cm2 = SVM.score_testset()\n",
    "print(scores)\n",
    "print(scores_per_class)\n",
    "print(cm)"
   ],
   "metadata": {
    "collapsed": false,
    "pycharm": {
     "name": "#%%\n"
    }
   },
   "execution_count": 7,
   "outputs": [
    {
     "name": "stdout",
     "output_type": "stream",
     "text": [
      "performing gridSearch...\n",
      "GridSearchCV took 1196.63 seconds for 6 candidate parameter settings.\n",
      "GridSearchCV(cv=3,\n",
      "             estimator=Pipeline(steps=[('scl', None),\n",
      "                                       ('clf',\n",
      "                                        SVC(probability=True,\n",
      "                                            random_state=1))]),\n",
      "             n_jobs=5,\n",
      "             param_grid={'clf__C': [0.1, 1.0, 10],\n",
      "                         'clf__kernel': ['linear', 'rbf']},\n",
      "             scoring=make_scorer(matthews_corrcoef))\n",
      "Model with rank: 1\n",
      " Mean validation score: 0.737 (std: 0.001)\n",
      " Parameters: {'clf__C': 10, 'clf__kernel': 'rbf'}\n",
      " \n",
      "\n",
      "Model with rank: 2\n",
      " Mean validation score: 0.719 (std: 0.002)\n",
      " Parameters: {'clf__C': 1.0, 'clf__kernel': 'rbf'}\n",
      " \n",
      "\n",
      "Model with rank: 3\n",
      " Mean validation score: 0.692 (std: 0.002)\n",
      " Parameters: {'clf__C': 10, 'clf__kernel': 'linear'}\n",
      " \n",
      "\n",
      "make_scorer(matthews_corrcoef)\n",
      "3\n",
      "Best score (scorer: make_scorer(matthews_corrcoef)) and parameters from a 3-fold cross validation:\n",
      " MCC score:\t0.737\n",
      " Parameters:\t{'clf__C': 10, 'clf__kernel': 'rbf'}\n",
      "\n",
      "0.686238 (0.002775) with: {'clf__C': 0.1, 'clf__kernel': 'linear'}\n",
      "0.689321 (0.006131) with: {'clf__C': 0.1, 'clf__kernel': 'rbf'}\n",
      "0.691345 (0.003177) with: {'clf__C': 1.0, 'clf__kernel': 'linear'}\n",
      "0.719003 (0.001937) with: {'clf__C': 1.0, 'clf__kernel': 'rbf'}\n",
      "0.692490 (0.002451) with: {'clf__C': 10, 'clf__kernel': 'linear'}\n",
      "0.736556 (0.000863) with: {'clf__C': 10, 'clf__kernel': 'rbf'}\n",
      "   clf__C clf__kernel     means      stds\n",
      "0     0.1      linear  0.686238  0.002775\n",
      "1     0.1         rbf  0.689321  0.006131\n",
      "2     1.0      linear  0.691345  0.003177\n",
      "3     1.0         rbf  0.719003  0.001937\n",
      "4    10.0      linear  0.692490  0.002451\n",
      "5    10.0         rbf  0.736556  0.000863\n",
      "Pipeline(steps=[('scl', None),\n",
      "                ('clf', SVC(C=10, probability=True, random_state=1))])\n",
      "{'Accuracy': 0.8750491674314934, 'MCC': 0.7505617825615142, 'log_loss': 0.30385507663791844, 'f1 score': 0.8562811039058965, 'roc_auc': 0.8701637779998173, 'Precision': array([0.46046939, 0.91022764, 1.        ]), 'Recall': array([1.       , 0.8083713, 0.       ]), 'fdr': 0.08977236293683873, 'sn': 0.808371298405467, 'sp': 0.9319562575941677}\n",
      "              precision    recall  f1-score   support\n",
      "\n",
      "           0       0.85      0.93      0.89      4115\n",
      "           1       0.91      0.81      0.86      3512\n",
      "\n",
      "    accuracy                           0.88      7627\n",
      "   macro avg       0.88      0.87      0.87      7627\n",
      "weighted avg       0.88      0.88      0.87      7627\n",
      "\n",
      "[[3835  280]\n",
      " [ 673 2839]]\n"
     ]
    },
    {
     "data": {
      "text/plain": "<Figure size 432x288 with 0 Axes>"
     },
     "metadata": {},
     "output_type": "display_data"
    }
   ]
  },
  {
   "cell_type": "markdown",
   "source": [
    "O melhor modelo obtido obteve um MCC score de 0.737 e accuracy de 87.5 %, com o seguinte dicionário de hiperparametros {'clf__C': 10, 'clf__kernel': 'rbf'}\n",
    "### KNN"
   ],
   "metadata": {
    "collapsed": false,
    "pycharm": {
     "name": "#%% md\n"
    }
   }
  },
  {
   "cell_type": "code",
   "metadata": {
    "pycharm": {
     "name": "#%%\n"
    }
   },
   "source": [
    "KNN = ShallowML(X_train_traf, X_test_traf, y_train_traf, y_test_traf, report_name='knnx_traf', columns_names = list(df_tra.columns))\n",
    "best_knn_model = KNN.train_best_model(model_name='knn',model=None, scaler=None,score=make_scorer(matthews_corrcoef),\n",
    "                         cv=5, optType='gridSearch', param_grid=None,\n",
    "                         n_jobs=4,random_state=1, n_iter=15, refit=True)\n",
    "\n",
    "scores, scores_per_class, cm, cm2 = KNN.score_testset()\n",
    "print(scores)\n",
    "print(scores_per_class)\n",
    "print(cm)"
   ],
   "execution_count": 8,
   "outputs": [
    {
     "name": "stdout",
     "output_type": "stream",
     "text": [
      "performing gridSearch...\n",
      "GridSearchCV took 91.26 seconds for 24 candidate parameter settings.\n",
      "GridSearchCV(cv=5,\n",
      "             estimator=Pipeline(steps=[('scl', None),\n",
      "                                       ('clf', KNeighborsClassifier())]),\n",
      "             n_jobs=4,\n",
      "             param_grid=[{'clf__leaf_size': [15, 30, 60],\n",
      "                          'clf__n_neighbors': [2, 5, 10, 15],\n",
      "                          'clf__weights': ['uniform', 'distance']}],\n",
      "             scoring=make_scorer(matthews_corrcoef))\n",
      "Model with rank: 1\n",
      " Mean validation score: 0.707 (std: 0.005)\n",
      " Parameters: {'clf__leaf_size': 15, 'clf__n_neighbors': 10, 'clf__weights': 'distance'}\n",
      " \n",
      "\n",
      "Model with rank: 1\n",
      " Mean validation score: 0.707 (std: 0.005)\n",
      " Parameters: {'clf__leaf_size': 30, 'clf__n_neighbors': 10, 'clf__weights': 'distance'}\n",
      " \n",
      "\n",
      "Model with rank: 1\n",
      " Mean validation score: 0.707 (std: 0.005)\n",
      " Parameters: {'clf__leaf_size': 60, 'clf__n_neighbors': 10, 'clf__weights': 'distance'}\n",
      " \n",
      "\n",
      "make_scorer(matthews_corrcoef)\n",
      "5\n",
      "Best score (scorer: make_scorer(matthews_corrcoef)) and parameters from a 5-fold cross validation:\n",
      " MCC score:\t0.707\n",
      " Parameters:\t{'clf__leaf_size': 15, 'clf__n_neighbors': 10, 'clf__weights': 'distance'}\n",
      "\n",
      "0.683862 (0.008724) with: {'clf__leaf_size': 15, 'clf__n_neighbors': 2, 'clf__weights': 'uniform'}\n",
      "0.672066 (0.008297) with: {'clf__leaf_size': 15, 'clf__n_neighbors': 2, 'clf__weights': 'distance'}\n",
      "0.694808 (0.006146) with: {'clf__leaf_size': 15, 'clf__n_neighbors': 5, 'clf__weights': 'uniform'}\n",
      "0.698945 (0.007795) with: {'clf__leaf_size': 15, 'clf__n_neighbors': 5, 'clf__weights': 'distance'}\n",
      "0.698498 (0.006634) with: {'clf__leaf_size': 15, 'clf__n_neighbors': 10, 'clf__weights': 'uniform'}\n",
      "0.706903 (0.004780) with: {'clf__leaf_size': 15, 'clf__n_neighbors': 10, 'clf__weights': 'distance'}\n",
      "0.694435 (0.007959) with: {'clf__leaf_size': 15, 'clf__n_neighbors': 15, 'clf__weights': 'uniform'}\n",
      "0.697407 (0.008106) with: {'clf__leaf_size': 15, 'clf__n_neighbors': 15, 'clf__weights': 'distance'}\n",
      "0.683862 (0.008724) with: {'clf__leaf_size': 30, 'clf__n_neighbors': 2, 'clf__weights': 'uniform'}\n",
      "0.672066 (0.008297) with: {'clf__leaf_size': 30, 'clf__n_neighbors': 2, 'clf__weights': 'distance'}\n",
      "0.694808 (0.006146) with: {'clf__leaf_size': 30, 'clf__n_neighbors': 5, 'clf__weights': 'uniform'}\n",
      "0.698945 (0.007795) with: {'clf__leaf_size': 30, 'clf__n_neighbors': 5, 'clf__weights': 'distance'}\n",
      "0.698498 (0.006634) with: {'clf__leaf_size': 30, 'clf__n_neighbors': 10, 'clf__weights': 'uniform'}\n",
      "0.706903 (0.004780) with: {'clf__leaf_size': 30, 'clf__n_neighbors': 10, 'clf__weights': 'distance'}\n",
      "0.694435 (0.007959) with: {'clf__leaf_size': 30, 'clf__n_neighbors': 15, 'clf__weights': 'uniform'}\n",
      "0.697407 (0.008106) with: {'clf__leaf_size': 30, 'clf__n_neighbors': 15, 'clf__weights': 'distance'}\n",
      "0.683862 (0.008724) with: {'clf__leaf_size': 60, 'clf__n_neighbors': 2, 'clf__weights': 'uniform'}\n",
      "0.672066 (0.008297) with: {'clf__leaf_size': 60, 'clf__n_neighbors': 2, 'clf__weights': 'distance'}\n",
      "0.694808 (0.006146) with: {'clf__leaf_size': 60, 'clf__n_neighbors': 5, 'clf__weights': 'uniform'}\n",
      "0.698945 (0.007795) with: {'clf__leaf_size': 60, 'clf__n_neighbors': 5, 'clf__weights': 'distance'}\n",
      "0.698498 (0.006634) with: {'clf__leaf_size': 60, 'clf__n_neighbors': 10, 'clf__weights': 'uniform'}\n",
      "0.706903 (0.004780) with: {'clf__leaf_size': 60, 'clf__n_neighbors': 10, 'clf__weights': 'distance'}\n",
      "0.694435 (0.007959) with: {'clf__leaf_size': 60, 'clf__n_neighbors': 15, 'clf__weights': 'uniform'}\n",
      "0.697407 (0.008106) with: {'clf__leaf_size': 60, 'clf__n_neighbors': 15, 'clf__weights': 'distance'}\n",
      "    clf__leaf_size  clf__n_neighbors clf__weights     means      stds\n",
      "0               15                 2      uniform  0.683862  0.008724\n",
      "1               15                 2     distance  0.672066  0.008297\n",
      "2               15                 5      uniform  0.694808  0.006146\n",
      "3               15                 5     distance  0.698945  0.007795\n",
      "4               15                10      uniform  0.698498  0.006634\n",
      "5               15                10     distance  0.706903  0.004780\n",
      "6               15                15      uniform  0.694435  0.007959\n",
      "7               15                15     distance  0.697407  0.008106\n",
      "8               30                 2      uniform  0.683862  0.008724\n",
      "9               30                 2     distance  0.672066  0.008297\n",
      "10              30                 5      uniform  0.694808  0.006146\n",
      "11              30                 5     distance  0.698945  0.007795\n",
      "12              30                10      uniform  0.698498  0.006634\n",
      "13              30                10     distance  0.706903  0.004780\n",
      "14              30                15      uniform  0.694435  0.007959\n",
      "15              30                15     distance  0.697407  0.008106\n",
      "16              60                 2      uniform  0.683862  0.008724\n",
      "17              60                 2     distance  0.672066  0.008297\n",
      "18              60                 5      uniform  0.694808  0.006146\n",
      "19              60                 5     distance  0.698945  0.007795\n",
      "20              60                10      uniform  0.698498  0.006634\n",
      "21              60                10     distance  0.706903  0.004780\n",
      "22              60                15      uniform  0.694435  0.007959\n",
      "23              60                15     distance  0.697407  0.008106\n",
      "{'Accuracy': 0.8468598400419562, 'MCC': 0.695054695716051, 'log_loss': 0.737994200165707, 'f1 score': 0.8205285802089736, 'roc_auc': 0.8405141061232172, 'Precision': array([0.46046939, 0.89118825, 1.        ]), 'Recall': array([1.        , 0.76025057, 0.        ]), 'fdr': 0.10881174899866489, 'sn': 0.760250569476082, 'sp': 0.9207776427703523}\n",
      "              precision    recall  f1-score   support\n",
      "\n",
      "           0       0.82      0.92      0.87      4115\n",
      "           1       0.89      0.76      0.82      3512\n",
      "\n",
      "    accuracy                           0.85      7627\n",
      "   macro avg       0.85      0.84      0.84      7627\n",
      "weighted avg       0.85      0.85      0.85      7627\n",
      "\n",
      "[[3789  326]\n",
      " [ 842 2670]]\n"
     ]
    },
    {
     "data": {
      "text/plain": "<Figure size 432x288 with 0 Axes>"
     },
     "metadata": {},
     "output_type": "display_data"
    }
   ]
  },
  {
   "cell_type": "markdown",
   "source": [
    "O melhor modelo obtido obteve um MCC score de 0.707 e accuracy de 84.7 %, com o seguinte dicionário de hiperparametros {'clf__leaf_size': 15, 'clf__n_neighbors': 10, 'clf__weights': 'distance'}\n",
    "\n",
    "Resumindo, o melhor score obtido atraves das features para a classificação binária foi obtido pelo modelo de SVM com um MCC de 0.737 e accuracy de 87.5%.\n",
    "\n",
    "## One-Hot-Enconding\n",
    "### Pré-preparação para o split do dataset\n",
    "As 30 505 sequencias foram transformadas segundo a tecnica de one-hor-encoding. Gerando como dados de entrada uma matriz com 21 000 colunas e 30 505 entradas (cada uma das sequencias). Foi também isolado as labels apartir do dataset."
   ],
   "metadata": {
    "collapsed": false,
    "pycharm": {
     "name": "#%% md\n"
    }
   }
  },
  {
   "cell_type": "code",
   "execution_count": 9,
   "metadata": {},
   "outputs": [
    {
     "name": "stdout",
     "output_type": "stream",
     "text": [
      "(30505, 21000)\n",
      "(30505,)\n"
     ]
    },
    {
     "data": {
      "text/plain": "       0      1      2      3      4      5      6      7      8      9      \\\n0        0.0    0.0    0.0    0.0    0.0    0.0    0.0    0.0    0.0    0.0   \n1        0.0    0.0    0.0    0.0    0.0    0.0    0.0    0.0    0.0    0.0   \n2        0.0    0.0    0.0    0.0    0.0    0.0    0.0    0.0    0.0    0.0   \n3        0.0    0.0    0.0    0.0    0.0    0.0    0.0    0.0    0.0    0.0   \n4        0.0    0.0    0.0    0.0    0.0    0.0    0.0    0.0    0.0    0.0   \n...      ...    ...    ...    ...    ...    ...    ...    ...    ...    ...   \n30500    0.0    0.0    0.0    0.0    0.0    0.0    0.0    0.0    0.0    0.0   \n30501    0.0    0.0    0.0    0.0    0.0    0.0    0.0    0.0    0.0    0.0   \n30502    0.0    0.0    0.0    0.0    0.0    0.0    0.0    0.0    0.0    0.0   \n30503    0.0    0.0    0.0    0.0    0.0    0.0    0.0    0.0    0.0    0.0   \n30504    0.0    0.0    0.0    0.0    0.0    0.0    0.0    0.0    0.0    0.0   \n\n       ...  20990  20991  20992  20993  20994  20995  20996  20997  20998  \\\n0      ...    0.0    0.0    0.0    0.0    0.0    0.0    0.0    0.0    0.0   \n1      ...    0.0    0.0    0.0    0.0    0.0    0.0    0.0    0.0    0.0   \n2      ...    0.0    0.0    0.0    0.0    0.0    0.0    0.0    0.0    0.0   \n3      ...    0.0    0.0    0.0    0.0    0.0    0.0    0.0    0.0    0.0   \n4      ...    0.0    0.0    0.0    0.0    0.0    0.0    0.0    0.0    0.0   \n...    ...    ...    ...    ...    ...    ...    ...    ...    ...    ...   \n30500  ...    0.0    0.0    0.0    0.0    0.0    0.0    0.0    0.0    0.0   \n30501  ...    0.0    0.0    0.0    0.0    0.0    0.0    0.0    0.0    0.0   \n30502  ...    0.0    0.0    0.0    0.0    0.0    0.0    0.0    0.0    0.0   \n30503  ...    0.0    0.0    0.0    0.0    0.0    0.0    0.0    0.0    0.0   \n30504  ...    0.0    0.0    0.0    0.0    0.0    0.0    0.0    0.0    0.0   \n\n       20999  \n0        0.0  \n1        0.0  \n2        0.0  \n3        0.0  \n4        0.0  \n...      ...  \n30500    0.0  \n30501    0.0  \n30502    0.0  \n30503    0.0  \n30504    0.0  \n\n[30505 rows x 21000 columns]",
      "text/html": "<div>\n<style scoped>\n    .dataframe tbody tr th:only-of-type {\n        vertical-align: middle;\n    }\n\n    .dataframe tbody tr th {\n        vertical-align: top;\n    }\n\n    .dataframe thead th {\n        text-align: right;\n    }\n</style>\n<table border=\"1\" class=\"dataframe\">\n  <thead>\n    <tr style=\"text-align: right;\">\n      <th></th>\n      <th>0</th>\n      <th>1</th>\n      <th>2</th>\n      <th>3</th>\n      <th>4</th>\n      <th>5</th>\n      <th>6</th>\n      <th>7</th>\n      <th>8</th>\n      <th>9</th>\n      <th>...</th>\n      <th>20990</th>\n      <th>20991</th>\n      <th>20992</th>\n      <th>20993</th>\n      <th>20994</th>\n      <th>20995</th>\n      <th>20996</th>\n      <th>20997</th>\n      <th>20998</th>\n      <th>20999</th>\n    </tr>\n  </thead>\n  <tbody>\n    <tr>\n      <th>0</th>\n      <td>0.0</td>\n      <td>0.0</td>\n      <td>0.0</td>\n      <td>0.0</td>\n      <td>0.0</td>\n      <td>0.0</td>\n      <td>0.0</td>\n      <td>0.0</td>\n      <td>0.0</td>\n      <td>0.0</td>\n      <td>...</td>\n      <td>0.0</td>\n      <td>0.0</td>\n      <td>0.0</td>\n      <td>0.0</td>\n      <td>0.0</td>\n      <td>0.0</td>\n      <td>0.0</td>\n      <td>0.0</td>\n      <td>0.0</td>\n      <td>0.0</td>\n    </tr>\n    <tr>\n      <th>1</th>\n      <td>0.0</td>\n      <td>0.0</td>\n      <td>0.0</td>\n      <td>0.0</td>\n      <td>0.0</td>\n      <td>0.0</td>\n      <td>0.0</td>\n      <td>0.0</td>\n      <td>0.0</td>\n      <td>0.0</td>\n      <td>...</td>\n      <td>0.0</td>\n      <td>0.0</td>\n      <td>0.0</td>\n      <td>0.0</td>\n      <td>0.0</td>\n      <td>0.0</td>\n      <td>0.0</td>\n      <td>0.0</td>\n      <td>0.0</td>\n      <td>0.0</td>\n    </tr>\n    <tr>\n      <th>2</th>\n      <td>0.0</td>\n      <td>0.0</td>\n      <td>0.0</td>\n      <td>0.0</td>\n      <td>0.0</td>\n      <td>0.0</td>\n      <td>0.0</td>\n      <td>0.0</td>\n      <td>0.0</td>\n      <td>0.0</td>\n      <td>...</td>\n      <td>0.0</td>\n      <td>0.0</td>\n      <td>0.0</td>\n      <td>0.0</td>\n      <td>0.0</td>\n      <td>0.0</td>\n      <td>0.0</td>\n      <td>0.0</td>\n      <td>0.0</td>\n      <td>0.0</td>\n    </tr>\n    <tr>\n      <th>3</th>\n      <td>0.0</td>\n      <td>0.0</td>\n      <td>0.0</td>\n      <td>0.0</td>\n      <td>0.0</td>\n      <td>0.0</td>\n      <td>0.0</td>\n      <td>0.0</td>\n      <td>0.0</td>\n      <td>0.0</td>\n      <td>...</td>\n      <td>0.0</td>\n      <td>0.0</td>\n      <td>0.0</td>\n      <td>0.0</td>\n      <td>0.0</td>\n      <td>0.0</td>\n      <td>0.0</td>\n      <td>0.0</td>\n      <td>0.0</td>\n      <td>0.0</td>\n    </tr>\n    <tr>\n      <th>4</th>\n      <td>0.0</td>\n      <td>0.0</td>\n      <td>0.0</td>\n      <td>0.0</td>\n      <td>0.0</td>\n      <td>0.0</td>\n      <td>0.0</td>\n      <td>0.0</td>\n      <td>0.0</td>\n      <td>0.0</td>\n      <td>...</td>\n      <td>0.0</td>\n      <td>0.0</td>\n      <td>0.0</td>\n      <td>0.0</td>\n      <td>0.0</td>\n      <td>0.0</td>\n      <td>0.0</td>\n      <td>0.0</td>\n      <td>0.0</td>\n      <td>0.0</td>\n    </tr>\n    <tr>\n      <th>...</th>\n      <td>...</td>\n      <td>...</td>\n      <td>...</td>\n      <td>...</td>\n      <td>...</td>\n      <td>...</td>\n      <td>...</td>\n      <td>...</td>\n      <td>...</td>\n      <td>...</td>\n      <td>...</td>\n      <td>...</td>\n      <td>...</td>\n      <td>...</td>\n      <td>...</td>\n      <td>...</td>\n      <td>...</td>\n      <td>...</td>\n      <td>...</td>\n      <td>...</td>\n      <td>...</td>\n    </tr>\n    <tr>\n      <th>30500</th>\n      <td>0.0</td>\n      <td>0.0</td>\n      <td>0.0</td>\n      <td>0.0</td>\n      <td>0.0</td>\n      <td>0.0</td>\n      <td>0.0</td>\n      <td>0.0</td>\n      <td>0.0</td>\n      <td>0.0</td>\n      <td>...</td>\n      <td>0.0</td>\n      <td>0.0</td>\n      <td>0.0</td>\n      <td>0.0</td>\n      <td>0.0</td>\n      <td>0.0</td>\n      <td>0.0</td>\n      <td>0.0</td>\n      <td>0.0</td>\n      <td>0.0</td>\n    </tr>\n    <tr>\n      <th>30501</th>\n      <td>0.0</td>\n      <td>0.0</td>\n      <td>0.0</td>\n      <td>0.0</td>\n      <td>0.0</td>\n      <td>0.0</td>\n      <td>0.0</td>\n      <td>0.0</td>\n      <td>0.0</td>\n      <td>0.0</td>\n      <td>...</td>\n      <td>0.0</td>\n      <td>0.0</td>\n      <td>0.0</td>\n      <td>0.0</td>\n      <td>0.0</td>\n      <td>0.0</td>\n      <td>0.0</td>\n      <td>0.0</td>\n      <td>0.0</td>\n      <td>0.0</td>\n    </tr>\n    <tr>\n      <th>30502</th>\n      <td>0.0</td>\n      <td>0.0</td>\n      <td>0.0</td>\n      <td>0.0</td>\n      <td>0.0</td>\n      <td>0.0</td>\n      <td>0.0</td>\n      <td>0.0</td>\n      <td>0.0</td>\n      <td>0.0</td>\n      <td>...</td>\n      <td>0.0</td>\n      <td>0.0</td>\n      <td>0.0</td>\n      <td>0.0</td>\n      <td>0.0</td>\n      <td>0.0</td>\n      <td>0.0</td>\n      <td>0.0</td>\n      <td>0.0</td>\n      <td>0.0</td>\n    </tr>\n    <tr>\n      <th>30503</th>\n      <td>0.0</td>\n      <td>0.0</td>\n      <td>0.0</td>\n      <td>0.0</td>\n      <td>0.0</td>\n      <td>0.0</td>\n      <td>0.0</td>\n      <td>0.0</td>\n      <td>0.0</td>\n      <td>0.0</td>\n      <td>...</td>\n      <td>0.0</td>\n      <td>0.0</td>\n      <td>0.0</td>\n      <td>0.0</td>\n      <td>0.0</td>\n      <td>0.0</td>\n      <td>0.0</td>\n      <td>0.0</td>\n      <td>0.0</td>\n      <td>0.0</td>\n    </tr>\n    <tr>\n      <th>30504</th>\n      <td>0.0</td>\n      <td>0.0</td>\n      <td>0.0</td>\n      <td>0.0</td>\n      <td>0.0</td>\n      <td>0.0</td>\n      <td>0.0</td>\n      <td>0.0</td>\n      <td>0.0</td>\n      <td>0.0</td>\n      <td>...</td>\n      <td>0.0</td>\n      <td>0.0</td>\n      <td>0.0</td>\n      <td>0.0</td>\n      <td>0.0</td>\n      <td>0.0</td>\n      <td>0.0</td>\n      <td>0.0</td>\n      <td>0.0</td>\n      <td>0.0</td>\n    </tr>\n  </tbody>\n</table>\n<p>30505 rows × 21000 columns</p>\n</div>"
     },
     "execution_count": 9,
     "metadata": {},
     "output_type": "execute_result"
    }
   ],
   "source": [
    "fps_x_traH = encode_sequence(sequences = df_tra['sequence'], seq_len=1000, padding_truncating='post')\n",
    "print(fps_x_traH.shape)\n",
    "fps_y_traH = df_tra['transporter']\n",
    "print(fps_y_traH.shape)\n",
    "fps_x_traH"
   ]
  },
  {
   "cell_type": "markdown",
   "source": [
    "### Split do dataset\n",
    "O split foi realizado como indicado na introdução."
   ],
   "metadata": {
    "collapsed": false
   }
  },
  {
   "cell_type": "code",
   "source": [
    "X_train_traH, X_test_traH, y_train_traH, y_test_traH = train_test_split(fps_x_traH, fps_y_traH, test_size=0.25, random_state = 42,stratify=fps_y_traH)\n",
    "colnames = []\n",
    "for i in range(500):\n",
    "    for j in range(20):\n",
    "        colnames.append(str(i)+'_'+str(j))\n",
    "print(X_train_traH.shape, y_train_traH.shape)\n",
    "print(X_test_traH.shape, y_test_traH.shape)\n"
   ],
   "metadata": {
    "collapsed": false,
    "pycharm": {
     "name": "#%%\n"
    }
   },
   "execution_count": 10,
   "outputs": [
    {
     "name": "stdout",
     "output_type": "stream",
     "text": [
      "(22878, 21000) (22878,)\n",
      "(7627, 21000) (7627,)\n"
     ]
    }
   ]
  },
  {
   "cell_type": "markdown",
   "metadata": {
    "pycharm": {
     "name": "#%% md\n"
    }
   },
   "source": [
    "Para os modelos serão utilizadas 22878 sequências codificadas para treino e 7627 sequências codificadas para teste dos modelos. Com a utilização do Random_State tentamos que fossem selecionadas as mesmas entradas (features/ sequencia codificada) para o treino do modelo\n",
    "\n",
    "### RF\n",
    "O primeiro modelo treinado foi o Random Forest (RF) com os parametros pré-defenidos para o Grid Search."
   ]
  },
  {
   "cell_type": "code",
   "execution_count": 11,
   "metadata": {},
   "outputs": [
    {
     "name": "stdout",
     "output_type": "stream",
     "text": [
      "performing gridSearch...\n",
      "GridSearchCV took 1127.70 seconds for 6 candidate parameter settings.\n",
      "GridSearchCV(cv=5,\n",
      "             estimator=Pipeline(steps=[('scl', None),\n",
      "                                       ('clf',\n",
      "                                        RandomForestClassifier(random_state=1))]),\n",
      "             n_jobs=5,\n",
      "             param_grid=[{'clf__bootstrap': [True], 'clf__criterion': ['gini'],\n",
      "                          'clf__max_features': ['sqrt', 'log2'],\n",
      "                          'clf__n_estimators': [10, 100, 500]}],\n",
      "             scoring=make_scorer(matthews_corrcoef))\n",
      "Model with rank: 1\n",
      " Mean validation score: 0.482 (std: 0.018)\n",
      " Parameters: {'clf__bootstrap': True, 'clf__criterion': 'gini', 'clf__max_features': 'sqrt', 'clf__n_estimators': 500}\n",
      " \n",
      "\n",
      "Model with rank: 2\n",
      " Mean validation score: 0.454 (std: 0.005)\n",
      " Parameters: {'clf__bootstrap': True, 'clf__criterion': 'gini', 'clf__max_features': 'sqrt', 'clf__n_estimators': 100}\n",
      " \n",
      "\n",
      "Model with rank: 3\n",
      " Mean validation score: 0.371 (std: 0.014)\n",
      " Parameters: {'clf__bootstrap': True, 'clf__criterion': 'gini', 'clf__max_features': 'log2', 'clf__n_estimators': 500}\n",
      " \n",
      "\n",
      "make_scorer(matthews_corrcoef)\n",
      "5\n",
      "Best score (scorer: make_scorer(matthews_corrcoef)) and parameters from a 5-fold cross validation:\n",
      " MCC score:\t0.482\n",
      " Parameters:\t{'clf__bootstrap': True, 'clf__criterion': 'gini', 'clf__max_features': 'sqrt', 'clf__n_estimators': 500}\n",
      "\n",
      "0.291300 (0.015086) with: {'clf__bootstrap': True, 'clf__criterion': 'gini', 'clf__max_features': 'sqrt', 'clf__n_estimators': 10}\n",
      "0.454065 (0.004971) with: {'clf__bootstrap': True, 'clf__criterion': 'gini', 'clf__max_features': 'sqrt', 'clf__n_estimators': 100}\n",
      "0.482303 (0.017873) with: {'clf__bootstrap': True, 'clf__criterion': 'gini', 'clf__max_features': 'sqrt', 'clf__n_estimators': 500}\n",
      "0.243547 (0.019405) with: {'clf__bootstrap': True, 'clf__criterion': 'gini', 'clf__max_features': 'log2', 'clf__n_estimators': 10}\n",
      "0.352945 (0.003908) with: {'clf__bootstrap': True, 'clf__criterion': 'gini', 'clf__max_features': 'log2', 'clf__n_estimators': 100}\n",
      "0.370538 (0.014302) with: {'clf__bootstrap': True, 'clf__criterion': 'gini', 'clf__max_features': 'log2', 'clf__n_estimators': 500}\n",
      "   clf__bootstrap clf__criterion clf__max_features  clf__n_estimators  \\\n",
      "0            True           gini              sqrt                 10   \n",
      "1            True           gini              sqrt                100   \n",
      "2            True           gini              sqrt                500   \n",
      "3            True           gini              log2                 10   \n",
      "4            True           gini              log2                100   \n",
      "5            True           gini              log2                500   \n",
      "\n",
      "      means      stds  \n",
      "0  0.291300  0.015086  \n",
      "1  0.454065  0.004971  \n",
      "2  0.482303  0.017873  \n",
      "3  0.243547  0.019405  \n",
      "4  0.352945  0.003908  \n",
      "5  0.370538  0.014302  \n",
      "{'Accuracy': 0.7481316376032516, 'MCC': 0.49243428245017484, 'log_loss': 0.5580102026033801, 'f1 score': 0.7038692770155696, 'roc_auc': 0.7409458492597503, 'Precision': array([0.46046939, 0.76739496, 1.        ]), 'Recall': array([1.        , 0.65005695, 0.        ]), 'fdr': 0.23260504201680673, 'sn': 0.6500569476082004, 'sp': 0.8318347509113001}\n",
      "              precision    recall  f1-score   support\n",
      "\n",
      "           0       0.74      0.83      0.78      4115\n",
      "           1       0.77      0.65      0.70      3512\n",
      "\n",
      "    accuracy                           0.75      7627\n",
      "   macro avg       0.75      0.74      0.74      7627\n",
      "weighted avg       0.75      0.75      0.75      7627\n",
      "\n",
      "[[3423  692]\n",
      " [1229 2283]]\n"
     ]
    },
    {
     "data": {
      "text/plain": "<Figure size 432x288 with 0 Axes>"
     },
     "metadata": {},
     "output_type": "display_data"
    }
   ],
   "source": [
    "RF = ShallowML(X_train_traH, X_test_traH, y_train_traH, y_test_traH, report_name='rfx_traH', columns_names = colnames)\n",
    "best_rf_model = RF.train_best_model(model_name='rf',model=None, scaler=None,score=make_scorer(matthews_corrcoef),\n",
    "                         cv=5, optType='gridSearch', param_grid=None,\n",
    "                         n_jobs=5,random_state=1, n_iter=15, refit=True)\n",
    "\n",
    "scores, scores_per_class, cm, cm2 = RF.score_testset()\n",
    "print(scores)\n",
    "print(scores_per_class)\n",
    "print(cm)"
   ]
  },
  {
   "cell_type": "markdown",
   "metadata": {
    "pycharm": {
     "name": "#%% md\n"
    }
   },
   "source": [
    "O melhor modelo obtido obteve um MCC score de 0.482 e accuracy de 74.8 %, com o seguinte dicionário de hiperparametros {'clf__bootstrap': True, 'clf__criterion': 'gini', 'clf__max_features': 'sqrt', 'clf__n_estimators': 500}. O dicionario de hiperparametros é igual ao dicionario obtido para as features.\n",
    "\n",
    "### SVM"
   ]
  },
  {
   "cell_type": "code",
   "execution_count": 12,
   "metadata": {},
   "outputs": [
    {
     "name": "stdout",
     "output_type": "stream",
     "text": [
      "performing gridSearch...\n",
      "GridSearchCV took 77121.09 seconds for 6 candidate parameter settings.\n",
      "GridSearchCV(cv=3,\n",
      "             estimator=Pipeline(steps=[('scl', None),\n",
      "                                       ('clf',\n",
      "                                        SVC(probability=True,\n",
      "                                            random_state=1))]),\n",
      "             n_jobs=5,\n",
      "             param_grid={'clf__C': [0.1, 1.0, 10],\n",
      "                         'clf__kernel': ['linear', 'rbf']},\n",
      "             scoring=make_scorer(matthews_corrcoef))\n",
      "Model with rank: 1\n",
      " Mean validation score: 0.615 (std: 0.003)\n",
      " Parameters: {'clf__C': 1.0, 'clf__kernel': 'rbf'}\n",
      " \n",
      "\n",
      "Model with rank: 2\n",
      " Mean validation score: 0.589 (std: 0.006)\n",
      " Parameters: {'clf__C': 10, 'clf__kernel': 'rbf'}\n",
      " \n",
      "\n",
      "Model with rank: 3\n",
      " Mean validation score: 0.476 (std: 0.005)\n",
      " Parameters: {'clf__C': 0.1, 'clf__kernel': 'linear'}\n",
      " \n",
      "\n",
      "make_scorer(matthews_corrcoef)\n",
      "3\n",
      "Best score (scorer: make_scorer(matthews_corrcoef)) and parameters from a 3-fold cross validation:\n",
      " MCC score:\t0.615\n",
      " Parameters:\t{'clf__C': 1.0, 'clf__kernel': 'rbf'}\n",
      "\n",
      "0.476380 (0.005463) with: {'clf__C': 0.1, 'clf__kernel': 'linear'}\n",
      "0.209727 (0.016511) with: {'clf__C': 0.1, 'clf__kernel': 'rbf'}\n",
      "0.439044 (0.007474) with: {'clf__C': 1.0, 'clf__kernel': 'linear'}\n",
      "0.615101 (0.002985) with: {'clf__C': 1.0, 'clf__kernel': 'rbf'}\n",
      "0.436421 (0.007451) with: {'clf__C': 10, 'clf__kernel': 'linear'}\n",
      "0.589213 (0.005883) with: {'clf__C': 10, 'clf__kernel': 'rbf'}\n",
      "   clf__C clf__kernel     means      stds\n",
      "0     0.1      linear  0.476380  0.005463\n",
      "1     0.1         rbf  0.209727  0.016511\n",
      "2     1.0      linear  0.439044  0.007474\n",
      "3     1.0         rbf  0.615101  0.002985\n",
      "4    10.0      linear  0.436421  0.007451\n",
      "5    10.0         rbf  0.589213  0.005883\n",
      "Pipeline(steps=[('scl', None), ('clf', SVC(probability=True, random_state=1))])\n",
      "{'Accuracy': 0.8147371181329487, 'MCC': 0.6313502414480947, 'log_loss': 0.4225703658098153, 'f1 score': 0.7787693752935652, 'roc_auc': 0.80692716103372, 'Precision': array([0.46046939, 0.86504348, 1.        ]), 'Recall': array([1.        , 0.70814351, 0.        ]), 'fdr': 0.13495652173913045, 'sn': 0.7081435079726651, 'sp': 0.9057108140947752}\n",
      "              precision    recall  f1-score   support\n",
      "\n",
      "           0       0.78      0.91      0.84      4115\n",
      "           1       0.87      0.71      0.78      3512\n",
      "\n",
      "    accuracy                           0.81      7627\n",
      "   macro avg       0.82      0.81      0.81      7627\n",
      "weighted avg       0.82      0.81      0.81      7627\n",
      "\n",
      "[[3727  388]\n",
      " [1025 2487]]\n"
     ]
    },
    {
     "data": {
      "text/plain": "<Figure size 432x288 with 0 Axes>"
     },
     "metadata": {},
     "output_type": "display_data"
    }
   ],
   "source": [
    "SVM = ShallowML(X_train_traH, X_test_traH, y_train_traH, y_test_traH, report_name='svmx_traH', columns_names=colnames)\n",
    "best_svm_model = SVM.train_best_model(model_name='svm',model=None, scaler=None,score=make_scorer(matthews_corrcoef),\n",
    "                         cv=3, optType='gridSearch', param_grid=param_grid,\n",
    "                         n_jobs=5,random_state=1, n_iter=15, refit=True, probability=True)\n",
    "\n",
    "\n",
    "print(best_svm_model)\n",
    "scores, scores_per_class, cm, cm2 = SVM.score_testset()\n",
    "print(scores)\n",
    "print(scores_per_class)\n",
    "print(cm)"
   ]
  },
  {
   "cell_type": "markdown",
   "metadata": {
    "pycharm": {
     "name": "#%% md\n"
    }
   },
   "source": [
    "O melhor modelo obtido obteve um MCC score de 0.631 e accuracy de 81.5 %, com o seguinte dicionário de hiperparametros {'clf__C': 1.0, 'clf__kernel': 'rbf'}.\n",
    "### KNN"
   ]
  },
  {
   "cell_type": "code",
   "execution_count": 13,
   "metadata": {},
   "outputs": [
    {
     "name": "stdout",
     "output_type": "stream",
     "text": [
      "performing gridSearch...\n",
      "GridSearchCV took 2387.47 seconds for 24 candidate parameter settings.\n",
      "GridSearchCV(cv=5,\n",
      "             estimator=Pipeline(steps=[('scl', None),\n",
      "                                       ('clf', KNeighborsClassifier())]),\n",
      "             n_jobs=4,\n",
      "             param_grid=[{'clf__leaf_size': [15, 30, 60],\n",
      "                          'clf__n_neighbors': [2, 5, 10, 15],\n",
      "                          'clf__weights': ['uniform', 'distance']}],\n",
      "             scoring=make_scorer(matthews_corrcoef))\n",
      "Model with rank: 1\n",
      " Mean validation score: 0.528 (std: 0.004)\n",
      " Parameters: {'clf__leaf_size': 15, 'clf__n_neighbors': 10, 'clf__weights': 'distance'}\n",
      " \n",
      "\n",
      "Model with rank: 1\n",
      " Mean validation score: 0.528 (std: 0.004)\n",
      " Parameters: {'clf__leaf_size': 30, 'clf__n_neighbors': 10, 'clf__weights': 'distance'}\n",
      " \n",
      "\n",
      "Model with rank: 1\n",
      " Mean validation score: 0.528 (std: 0.004)\n",
      " Parameters: {'clf__leaf_size': 60, 'clf__n_neighbors': 10, 'clf__weights': 'distance'}\n",
      " \n",
      "\n",
      "make_scorer(matthews_corrcoef)\n",
      "5\n",
      "Best score (scorer: make_scorer(matthews_corrcoef)) and parameters from a 5-fold cross validation:\n",
      " MCC score:\t0.528\n",
      " Parameters:\t{'clf__leaf_size': 15, 'clf__n_neighbors': 10, 'clf__weights': 'distance'}\n",
      "\n",
      "0.483232 (0.011222) with: {'clf__leaf_size': 15, 'clf__n_neighbors': 2, 'clf__weights': 'uniform'}\n",
      "0.510437 (0.009328) with: {'clf__leaf_size': 15, 'clf__n_neighbors': 2, 'clf__weights': 'distance'}\n",
      "0.497420 (0.010067) with: {'clf__leaf_size': 15, 'clf__n_neighbors': 5, 'clf__weights': 'uniform'}\n",
      "0.507990 (0.008521) with: {'clf__leaf_size': 15, 'clf__n_neighbors': 5, 'clf__weights': 'distance'}\n",
      "0.500553 (0.007775) with: {'clf__leaf_size': 15, 'clf__n_neighbors': 10, 'clf__weights': 'uniform'}\n",
      "0.527918 (0.004284) with: {'clf__leaf_size': 15, 'clf__n_neighbors': 10, 'clf__weights': 'distance'}\n",
      "0.486534 (0.015059) with: {'clf__leaf_size': 15, 'clf__n_neighbors': 15, 'clf__weights': 'uniform'}\n",
      "0.500850 (0.013589) with: {'clf__leaf_size': 15, 'clf__n_neighbors': 15, 'clf__weights': 'distance'}\n",
      "0.483232 (0.011222) with: {'clf__leaf_size': 30, 'clf__n_neighbors': 2, 'clf__weights': 'uniform'}\n",
      "0.510437 (0.009328) with: {'clf__leaf_size': 30, 'clf__n_neighbors': 2, 'clf__weights': 'distance'}\n",
      "0.497420 (0.010067) with: {'clf__leaf_size': 30, 'clf__n_neighbors': 5, 'clf__weights': 'uniform'}\n",
      "0.507990 (0.008521) with: {'clf__leaf_size': 30, 'clf__n_neighbors': 5, 'clf__weights': 'distance'}\n",
      "0.500553 (0.007775) with: {'clf__leaf_size': 30, 'clf__n_neighbors': 10, 'clf__weights': 'uniform'}\n",
      "0.527918 (0.004284) with: {'clf__leaf_size': 30, 'clf__n_neighbors': 10, 'clf__weights': 'distance'}\n",
      "0.486534 (0.015059) with: {'clf__leaf_size': 30, 'clf__n_neighbors': 15, 'clf__weights': 'uniform'}\n",
      "0.500850 (0.013589) with: {'clf__leaf_size': 30, 'clf__n_neighbors': 15, 'clf__weights': 'distance'}\n",
      "0.483232 (0.011222) with: {'clf__leaf_size': 60, 'clf__n_neighbors': 2, 'clf__weights': 'uniform'}\n",
      "0.510437 (0.009328) with: {'clf__leaf_size': 60, 'clf__n_neighbors': 2, 'clf__weights': 'distance'}\n",
      "0.497420 (0.010067) with: {'clf__leaf_size': 60, 'clf__n_neighbors': 5, 'clf__weights': 'uniform'}\n",
      "0.507990 (0.008521) with: {'clf__leaf_size': 60, 'clf__n_neighbors': 5, 'clf__weights': 'distance'}\n",
      "0.500553 (0.007775) with: {'clf__leaf_size': 60, 'clf__n_neighbors': 10, 'clf__weights': 'uniform'}\n",
      "0.527918 (0.004284) with: {'clf__leaf_size': 60, 'clf__n_neighbors': 10, 'clf__weights': 'distance'}\n",
      "0.486534 (0.015059) with: {'clf__leaf_size': 60, 'clf__n_neighbors': 15, 'clf__weights': 'uniform'}\n",
      "0.500850 (0.013589) with: {'clf__leaf_size': 60, 'clf__n_neighbors': 15, 'clf__weights': 'distance'}\n",
      "    clf__leaf_size  clf__n_neighbors clf__weights     means      stds\n",
      "0               15                 2      uniform  0.483232  0.011222\n",
      "1               15                 2     distance  0.510437  0.009328\n",
      "2               15                 5      uniform  0.497420  0.010067\n",
      "3               15                 5     distance  0.507990  0.008521\n",
      "4               15                10      uniform  0.500553  0.007775\n",
      "5               15                10     distance  0.527918  0.004284\n",
      "6               15                15      uniform  0.486534  0.015059\n",
      "7               15                15     distance  0.500850  0.013589\n",
      "8               30                 2      uniform  0.483232  0.011222\n",
      "9               30                 2     distance  0.510437  0.009328\n",
      "10              30                 5      uniform  0.497420  0.010067\n",
      "11              30                 5     distance  0.507990  0.008521\n",
      "12              30                10      uniform  0.500553  0.007775\n",
      "13              30                10     distance  0.527918  0.004284\n",
      "14              30                15      uniform  0.486534  0.015059\n",
      "15              30                15     distance  0.500850  0.013589\n",
      "16              60                 2      uniform  0.483232  0.011222\n",
      "17              60                 2     distance  0.510437  0.009328\n",
      "18              60                 5      uniform  0.497420  0.010067\n",
      "19              60                 5     distance  0.507990  0.008521\n",
      "20              60                10      uniform  0.500553  0.007775\n",
      "21              60                10     distance  0.527918  0.004284\n",
      "22              60                15      uniform  0.486534  0.015059\n",
      "23              60                15     distance  0.500850  0.013589\n",
      "{'Accuracy': 0.7748787203356496, 'MCC': 0.5516829997274818, 'log_loss': 0.553629178139703, 'f1 score': 0.7659168370824813, 'roc_auc': 0.7767068021599958, 'Precision': array([0.46046939, 0.73476327, 1.        ]), 'Recall': array([1.        , 0.79982916, 0.        ]), 'fdr': 0.2652367250850118, 'sn': 0.7998291571753986, 'sp': 0.7535844471445929}\n",
      "              precision    recall  f1-score   support\n",
      "\n",
      "           0       0.82      0.75      0.78      4115\n",
      "           1       0.73      0.80      0.77      3512\n",
      "\n",
      "    accuracy                           0.77      7627\n",
      "   macro avg       0.77      0.78      0.77      7627\n",
      "weighted avg       0.78      0.77      0.78      7627\n",
      "\n",
      "[[3101 1014]\n",
      " [ 703 2809]]\n"
     ]
    },
    {
     "data": {
      "text/plain": "<Figure size 432x288 with 0 Axes>"
     },
     "metadata": {},
     "output_type": "display_data"
    }
   ],
   "source": [
    "KNN = ShallowML(X_train_traH, X_test_traH, y_train_traH, y_test_traH, report_name='knnx_traH', columns_names = colnames)\n",
    "best_knn_model = KNN.train_best_model(model_name='knn',model=None, scaler=None,score=make_scorer(matthews_corrcoef),\n",
    "                         cv=5, optType='gridSearch', param_grid=None,\n",
    "                         n_jobs=4,random_state=1, n_iter=15, refit=True)\n",
    "\n",
    "scores, scores_per_class, cm, cm2 = KNN.score_testset()\n",
    "print(scores)\n",
    "print(scores_per_class)\n",
    "print(cm)"
   ]
  },
  {
   "cell_type": "markdown",
   "source": [
    "O melhor modelo obtido obteve um MCC score de 0.551 e accuracy de 77.5 %, com o seguinte dicionário de hiperparametros {'clf__leaf_size': 15, 'clf__n_neighbors': 10, 'clf__weights': 'distance'}, o mesmo conjunto de hiperparametros obtido para as features.\n",
    "\n",
    "É de realçar, que neste processo os modelos obtidos com o treino através das features obteve sempre melhores scores que modelos treinados com a informação codificada da sequência, sendo o melhor modelo o SVM com a informação das features.\n",
    "\n",
    "\n",
    "# Classificação multiclass balanceada\n",
    "Nesta secção será realizada a classificação multivariada das classes de transportadores, do dataset balanceado gerado na etapa 1.\n",
    "## Features físico-químicas\n",
    "Este dataframe é constituido com as sequências de todos os aminoácidos provenientes do dataset original e com as 100 propriedades físico-químicas mais relevantes obtidas na análise de Feature Selection (etapa 2).\n",
    "Serão construidos modelos de RF, SVM e KNN com base nessas propriedades de modo a determinar classes de transportadores. As labels de cada classes foram codificadas onde a classe 0 (cls0) = 0, classe 1 (cl1) = 1, a classe (cl2) 2 = 2, a classe 3 (cl3) = 3, a classe 4 (cl4) = 4, a classe 5 (cl5) = 5 e a classe 8 (cl8) = 8."
   ],
   "metadata": {
    "collapsed": false,
    "pycharm": {
     "name": "#%% md\n"
    }
   }
  },
  {
   "cell_type": "code",
   "execution_count": 14,
   "outputs": [
    {
     "name": "stdout",
     "output_type": "stream",
     "text": [
      "TCDB_ID\n",
      "0    4000\n",
      "1    4631\n",
      "2    4026\n",
      "3    3902\n",
      "4     409\n",
      "5     202\n",
      "8     878\n",
      "dtype: int64\n"
     ]
    },
    {
     "data": {
      "text/plain": "                                                sequence  TCDB_ID  \\\n0      MDKLLQWSIAQQSGDKEAIQKLGQPDPKMLEQLFGGPDEPTLMKQA...        0   \n1      MNLKPLADRVIVKPAPAEEKTKGGLYIPDTGKEKPQYGEIVAVGTG...        0   \n2      MTTITTAAIIGAGLAGCECALRLARAGVRVTLFEMKPAAFSPAHSN...        0   \n3      MLIIDIKGTEISQQEIEILSHPLVAGLILFSRNFVDKAQLTALIKE...        0   \n4      MATFADLPDSVLLEIFSYLPVRDRIRISRVCHHWKKLVDDRWLWRH...        0   \n...                                                  ...      ...   \n18043  MAKSDTSNLGYAYHLPSGGCLMRIRNALSQFSDLFSEFNRYIAPAY...        8   \n18044  MWLSVFALQCALFAGFCFARDIRYSTGVSITLRNDAWTSPKKEPHR...        8   \n18045  MTATAKGINVMNTPLSTSQEPPIQFSTIASEFLHQQTDDVQPSGFQ...        8   \n18046  MSMFNILKQVVNLNKVQLCQKSFQVNSKSFAQYSYRLNSSYILNNS...        8   \n18047  MVAFQILSWFPAVITSLVVVYFIDILLKRGVVGLFKSFANAILLLP...        8   \n\n       _ChargeD2100  bomanindex  _HydrophobicityC1  \\\n0          0.756031    0.618030           1.444669   \n1          1.022890    0.210428           0.976942   \n2          0.409640    0.345211           0.028846   \n3          0.081658    0.335761           0.774681   \n4          0.204732    0.239145          -0.186056   \n...             ...         ...                ...   \n18043     -0.315822    0.026902          -0.236621   \n18044      1.366520    1.455074           1.128637   \n18045      0.342350    1.221102           0.686192   \n18046     -0.032946    0.349572           0.622986   \n18047     -0.144882    0.169722          -0.160774   \n\n       _SolventAccessibilityD2100  _HydrophobicityD1100  _ChargeC2  \\\n0                       -1.016714             -1.016714  -0.801670   \n1                       -0.811177             -0.811177  -1.162786   \n2                       -0.269359             -0.269359  -0.470647   \n3                       -0.734350             -0.734350  -0.139624   \n4                       -0.119168             -0.119168  -0.275042   \n...                           ...                   ...        ...   \n18043                   -0.055281             -0.055281   0.251586   \n18044                   -0.927649             -0.927649  -1.343345   \n18045                   -0.673203             -0.673203  -0.410461   \n18046                   -0.638882             -0.638882  -0.079438   \n18047                   -0.139639             -0.139639   0.086074   \n\n       _SolventAccessibilityC2     Gravy  ...        TH        NR        WC  \\\n0                     1.444669 -0.846988  ... -0.488784 -0.599495 -0.160959   \n1                     0.976942 -0.685853  ... -0.488784 -0.599495 -0.160959   \n2                     0.028846 -0.202590  ... -0.488784  0.887946 -0.160959   \n3                     0.774681 -0.566868  ...  0.920638 -0.599495 -0.160959   \n4                    -0.186056  0.005621  ... -0.488784 -0.599495 -0.160959   \n...                        ...       ...  ...       ...       ...       ...   \n18043                -0.236621  0.043334  ...  0.434630  1.383760 -0.160959   \n18044                 1.128637 -1.163155  ...  0.094425 -0.599495 -0.160959   \n18045                 0.686192 -1.160927  ...  0.240227  0.958777 -0.160959   \n18046                 0.622986 -0.443206  ...  1.358044 -0.599495 -0.160959   \n18047                -0.160774 -0.202620  ...  0.629033  0.215056 -0.160959   \n\n             NM        HK        HH        HW        WH        HM        HY  \n0      1.450868  1.288709 -0.297108 -0.250314 -0.244239 -0.290204  1.843871  \n1     -0.437560 -0.412516 -0.297108 -0.250314 -0.244239 -0.290204 -0.390558  \n2     -0.437560 -0.412516 -0.297108 -0.250314 -0.244239 -0.290204 -0.390558  \n3     -0.437560  0.997070 -0.297108 -0.250314 -0.244239 -0.290204 -0.390558  \n4     -0.437560  1.094283  1.426374  2.334925  2.539794 -0.290204 -0.390558  \n...         ...       ...       ...       ...       ...       ...       ...  \n18043 -0.437560  2.309444  0.759220 -0.250314 -0.244239 -0.290204  0.822418  \n18044 -0.437560  1.385921  0.370047 -0.250314 -0.244239 -0.290204  1.205462  \n18045  1.127137 -0.412516  0.536835 -0.250314 -0.244239 -0.290204  0.567054  \n18046 -0.437560 -0.412516 -0.297108 -0.250314 -0.244239 -0.290204 -0.390558  \n18047 -0.437560  0.122154 -0.297108 -0.250314 -0.244239 -0.290204  0.311691  \n\n[18048 rows x 642 columns]",
      "text/html": "<div>\n<style scoped>\n    .dataframe tbody tr th:only-of-type {\n        vertical-align: middle;\n    }\n\n    .dataframe tbody tr th {\n        vertical-align: top;\n    }\n\n    .dataframe thead th {\n        text-align: right;\n    }\n</style>\n<table border=\"1\" class=\"dataframe\">\n  <thead>\n    <tr style=\"text-align: right;\">\n      <th></th>\n      <th>sequence</th>\n      <th>TCDB_ID</th>\n      <th>_ChargeD2100</th>\n      <th>bomanindex</th>\n      <th>_HydrophobicityC1</th>\n      <th>_SolventAccessibilityD2100</th>\n      <th>_HydrophobicityD1100</th>\n      <th>_ChargeC2</th>\n      <th>_SolventAccessibilityC2</th>\n      <th>Gravy</th>\n      <th>...</th>\n      <th>TH</th>\n      <th>NR</th>\n      <th>WC</th>\n      <th>NM</th>\n      <th>HK</th>\n      <th>HH</th>\n      <th>HW</th>\n      <th>WH</th>\n      <th>HM</th>\n      <th>HY</th>\n    </tr>\n  </thead>\n  <tbody>\n    <tr>\n      <th>0</th>\n      <td>MDKLLQWSIAQQSGDKEAIQKLGQPDPKMLEQLFGGPDEPTLMKQA...</td>\n      <td>0</td>\n      <td>0.756031</td>\n      <td>0.618030</td>\n      <td>1.444669</td>\n      <td>-1.016714</td>\n      <td>-1.016714</td>\n      <td>-0.801670</td>\n      <td>1.444669</td>\n      <td>-0.846988</td>\n      <td>...</td>\n      <td>-0.488784</td>\n      <td>-0.599495</td>\n      <td>-0.160959</td>\n      <td>1.450868</td>\n      <td>1.288709</td>\n      <td>-0.297108</td>\n      <td>-0.250314</td>\n      <td>-0.244239</td>\n      <td>-0.290204</td>\n      <td>1.843871</td>\n    </tr>\n    <tr>\n      <th>1</th>\n      <td>MNLKPLADRVIVKPAPAEEKTKGGLYIPDTGKEKPQYGEIVAVGTG...</td>\n      <td>0</td>\n      <td>1.022890</td>\n      <td>0.210428</td>\n      <td>0.976942</td>\n      <td>-0.811177</td>\n      <td>-0.811177</td>\n      <td>-1.162786</td>\n      <td>0.976942</td>\n      <td>-0.685853</td>\n      <td>...</td>\n      <td>-0.488784</td>\n      <td>-0.599495</td>\n      <td>-0.160959</td>\n      <td>-0.437560</td>\n      <td>-0.412516</td>\n      <td>-0.297108</td>\n      <td>-0.250314</td>\n      <td>-0.244239</td>\n      <td>-0.290204</td>\n      <td>-0.390558</td>\n    </tr>\n    <tr>\n      <th>2</th>\n      <td>MTTITTAAIIGAGLAGCECALRLARAGVRVTLFEMKPAAFSPAHSN...</td>\n      <td>0</td>\n      <td>0.409640</td>\n      <td>0.345211</td>\n      <td>0.028846</td>\n      <td>-0.269359</td>\n      <td>-0.269359</td>\n      <td>-0.470647</td>\n      <td>0.028846</td>\n      <td>-0.202590</td>\n      <td>...</td>\n      <td>-0.488784</td>\n      <td>0.887946</td>\n      <td>-0.160959</td>\n      <td>-0.437560</td>\n      <td>-0.412516</td>\n      <td>-0.297108</td>\n      <td>-0.250314</td>\n      <td>-0.244239</td>\n      <td>-0.290204</td>\n      <td>-0.390558</td>\n    </tr>\n    <tr>\n      <th>3</th>\n      <td>MLIIDIKGTEISQQEIEILSHPLVAGLILFSRNFVDKAQLTALIKE...</td>\n      <td>0</td>\n      <td>0.081658</td>\n      <td>0.335761</td>\n      <td>0.774681</td>\n      <td>-0.734350</td>\n      <td>-0.734350</td>\n      <td>-0.139624</td>\n      <td>0.774681</td>\n      <td>-0.566868</td>\n      <td>...</td>\n      <td>0.920638</td>\n      <td>-0.599495</td>\n      <td>-0.160959</td>\n      <td>-0.437560</td>\n      <td>0.997070</td>\n      <td>-0.297108</td>\n      <td>-0.250314</td>\n      <td>-0.244239</td>\n      <td>-0.290204</td>\n      <td>-0.390558</td>\n    </tr>\n    <tr>\n      <th>4</th>\n      <td>MATFADLPDSVLLEIFSYLPVRDRIRISRVCHHWKKLVDDRWLWRH...</td>\n      <td>0</td>\n      <td>0.204732</td>\n      <td>0.239145</td>\n      <td>-0.186056</td>\n      <td>-0.119168</td>\n      <td>-0.119168</td>\n      <td>-0.275042</td>\n      <td>-0.186056</td>\n      <td>0.005621</td>\n      <td>...</td>\n      <td>-0.488784</td>\n      <td>-0.599495</td>\n      <td>-0.160959</td>\n      <td>-0.437560</td>\n      <td>1.094283</td>\n      <td>1.426374</td>\n      <td>2.334925</td>\n      <td>2.539794</td>\n      <td>-0.290204</td>\n      <td>-0.390558</td>\n    </tr>\n    <tr>\n      <th>...</th>\n      <td>...</td>\n      <td>...</td>\n      <td>...</td>\n      <td>...</td>\n      <td>...</td>\n      <td>...</td>\n      <td>...</td>\n      <td>...</td>\n      <td>...</td>\n      <td>...</td>\n      <td>...</td>\n      <td>...</td>\n      <td>...</td>\n      <td>...</td>\n      <td>...</td>\n      <td>...</td>\n      <td>...</td>\n      <td>...</td>\n      <td>...</td>\n      <td>...</td>\n      <td>...</td>\n    </tr>\n    <tr>\n      <th>18043</th>\n      <td>MAKSDTSNLGYAYHLPSGGCLMRIRNALSQFSDLFSEFNRYIAPAY...</td>\n      <td>8</td>\n      <td>-0.315822</td>\n      <td>0.026902</td>\n      <td>-0.236621</td>\n      <td>-0.055281</td>\n      <td>-0.055281</td>\n      <td>0.251586</td>\n      <td>-0.236621</td>\n      <td>0.043334</td>\n      <td>...</td>\n      <td>0.434630</td>\n      <td>1.383760</td>\n      <td>-0.160959</td>\n      <td>-0.437560</td>\n      <td>2.309444</td>\n      <td>0.759220</td>\n      <td>-0.250314</td>\n      <td>-0.244239</td>\n      <td>-0.290204</td>\n      <td>0.822418</td>\n    </tr>\n    <tr>\n      <th>18044</th>\n      <td>MWLSVFALQCALFAGFCFARDIRYSTGVSITLRNDAWTSPKKEPHR...</td>\n      <td>8</td>\n      <td>1.366520</td>\n      <td>1.455074</td>\n      <td>1.128637</td>\n      <td>-0.927649</td>\n      <td>-0.927649</td>\n      <td>-1.343345</td>\n      <td>1.128637</td>\n      <td>-1.163155</td>\n      <td>...</td>\n      <td>0.094425</td>\n      <td>-0.599495</td>\n      <td>-0.160959</td>\n      <td>-0.437560</td>\n      <td>1.385921</td>\n      <td>0.370047</td>\n      <td>-0.250314</td>\n      <td>-0.244239</td>\n      <td>-0.290204</td>\n      <td>1.205462</td>\n    </tr>\n    <tr>\n      <th>18045</th>\n      <td>MTATAKGINVMNTPLSTSQEPPIQFSTIASEFLHQQTDDVQPSGFQ...</td>\n      <td>8</td>\n      <td>0.342350</td>\n      <td>1.221102</td>\n      <td>0.686192</td>\n      <td>-0.673203</td>\n      <td>-0.673203</td>\n      <td>-0.410461</td>\n      <td>0.686192</td>\n      <td>-1.160927</td>\n      <td>...</td>\n      <td>0.240227</td>\n      <td>0.958777</td>\n      <td>-0.160959</td>\n      <td>1.127137</td>\n      <td>-0.412516</td>\n      <td>0.536835</td>\n      <td>-0.250314</td>\n      <td>-0.244239</td>\n      <td>-0.290204</td>\n      <td>0.567054</td>\n    </tr>\n    <tr>\n      <th>18046</th>\n      <td>MSMFNILKQVVNLNKVQLCQKSFQVNSKSFAQYSYRLNSSYILNNS...</td>\n      <td>8</td>\n      <td>-0.032946</td>\n      <td>0.349572</td>\n      <td>0.622986</td>\n      <td>-0.638882</td>\n      <td>-0.638882</td>\n      <td>-0.079438</td>\n      <td>0.622986</td>\n      <td>-0.443206</td>\n      <td>...</td>\n      <td>1.358044</td>\n      <td>-0.599495</td>\n      <td>-0.160959</td>\n      <td>-0.437560</td>\n      <td>-0.412516</td>\n      <td>-0.297108</td>\n      <td>-0.250314</td>\n      <td>-0.244239</td>\n      <td>-0.290204</td>\n      <td>-0.390558</td>\n    </tr>\n    <tr>\n      <th>18047</th>\n      <td>MVAFQILSWFPAVITSLVVVYFIDILLKRGVVGLFKSFANAILLLP...</td>\n      <td>8</td>\n      <td>-0.144882</td>\n      <td>0.169722</td>\n      <td>-0.160774</td>\n      <td>-0.139639</td>\n      <td>-0.139639</td>\n      <td>0.086074</td>\n      <td>-0.160774</td>\n      <td>-0.202620</td>\n      <td>...</td>\n      <td>0.629033</td>\n      <td>0.215056</td>\n      <td>-0.160959</td>\n      <td>-0.437560</td>\n      <td>0.122154</td>\n      <td>-0.297108</td>\n      <td>-0.250314</td>\n      <td>-0.244239</td>\n      <td>-0.290204</td>\n      <td>0.311691</td>\n    </tr>\n  </tbody>\n</table>\n<p>18048 rows × 642 columns</p>\n</div>"
     },
     "execution_count": 14,
     "metadata": {},
     "output_type": "execute_result"
    }
   ],
   "source": [
    "df_TCDB_blc = pd.read_csv('df_TCDB_blc.csv', sep= ',')\n",
    "df_TCDB_blc = df_TCDB_blc.drop(columns='Unnamed: 0')\n",
    "dici = {'cls0':0, 'cl1':1, 'cl2':2 ,'cl3':3,'cl4':4,'cl5':5,'cl8':8 }\n",
    "df_TCDB_blc.TCDB_ID = df_TCDB_blc.TCDB_ID.apply(lambda x: dici[x])\n",
    "print(df_TCDB_blc.groupby('TCDB_ID').size())\n",
    "df_TCDB_blc"
   ],
   "metadata": {
    "collapsed": false,
    "pycharm": {
     "name": "#%%\n"
    }
   }
  },
  {
   "cell_type": "markdown",
   "source": [
    "### Pré-preparação para o split do dataset\n",
    "Das 18 048 sequencias foram mantidas as 100 features fisico-quimicas selecionadas. Gerando como dados de entrada uma matriz com 100 colunas e 18 048 entradas (cada uma das sequências). Foi também isolado as labels apartir do dataset."
   ],
   "metadata": {
    "collapsed": false,
    "pycharm": {
     "name": "#%% md\n"
    }
   }
  },
  {
   "cell_type": "code",
   "execution_count": 15,
   "outputs": [
    {
     "name": "stdout",
     "output_type": "stream",
     "text": [
      "(18048, 100)\n"
     ]
    },
    {
     "data": {
      "text/plain": "array([[ 0.7560312 ,  0.61802955,  1.44466909, ..., -0.37583192,\n         0.0395254 , -1.14909945],\n       [ 1.02288988,  0.21042831,  0.97694169, ..., -1.29186065,\n         0.920056  , -0.35579044],\n       [ 0.4096396 ,  0.34521134,  0.02884563, ...,  0.48019607,\n        -0.37473067, -0.87641082],\n       ...,\n       [ 0.3423496 ,  1.22110199,  0.68619223, ...,  1.57949352,\n        -0.48751615,  0.75101528],\n       [-0.03294632,  0.34957184,  0.62298583, ..., -0.42897415,\n         0.10691294,  1.39904754],\n       [-0.14488152,  0.1697216 , -0.16077359, ...,  2.39249438,\n        -0.64617244, -0.37719201]])"
     },
     "execution_count": 15,
     "metadata": {},
     "output_type": "execute_result"
    }
   ],
   "source": [
    "fps_x=[]\n",
    "for i in range(df_TCDB_blc.shape[0]):\n",
    "    fps_x.append(list(df_TCDB_blc.iloc[i,2:102].to_numpy().flatten()))\n",
    "fps_x_blcF = np.array(fps_x)\n",
    "print(fps_x_blcF.shape)\n",
    "fps_x_blcF"
   ],
   "metadata": {
    "collapsed": false,
    "pycharm": {
     "name": "#%%\n"
    }
   }
  },
  {
   "cell_type": "code",
   "execution_count": 16,
   "outputs": [
    {
     "name": "stdout",
     "output_type": "stream",
     "text": [
      "(18048,)\n"
     ]
    },
    {
     "data": {
      "text/plain": "array([0, 0, 0, ..., 8, 8, 8], dtype=int64)"
     },
     "execution_count": 16,
     "metadata": {},
     "output_type": "execute_result"
    }
   ],
   "source": [
    "fps_y_blcF = df_TCDB_blc['TCDB_ID'].to_numpy().flatten()\n",
    "print(fps_y_blcF.shape)\n",
    "fps_y_blcF\n"
   ],
   "metadata": {
    "collapsed": false,
    "pycharm": {
     "name": "#%%\n"
    }
   }
  },
  {
   "cell_type": "markdown",
   "source": [
    "### Split do dataset"
   ],
   "metadata": {
    "collapsed": false
   }
  },
  {
   "cell_type": "code",
   "source": [
    "X_train_blc, X_test_blc, y_train_blc, y_test_blc = train_test_split(fps_x_blcF, fps_y_blcF, test_size=0.25, random_state = 42,stratify=fps_y_blcF)\n",
    "print(X_train_blc.shape, y_train_blc.shape)\n",
    "print(X_test_blc.shape, y_test_blc.shape)"
   ],
   "metadata": {
    "collapsed": false,
    "pycharm": {
     "name": "#%%\n"
    }
   },
   "execution_count": 17,
   "outputs": [
    {
     "name": "stdout",
     "output_type": "stream",
     "text": [
      "(13536, 100) (13536,)\n",
      "(4512, 100) (4512,)\n"
     ]
    }
   ]
  },
  {
   "cell_type": "markdown",
   "source": [
    "O dataset utilizado para o treino treino é constituido por 13 536 entradas e o de teste por 4512 entradas, contendo a informação das features fisico-quimicas das sequências.\n",
    "\n",
    "### RF\n",
    "O primeiro modelo é o modelo de Random Forest (RF), onde os hiperparâmentros usados são os pré-defenidos na função de **train_best_model**, para RF, da classe **ShallowML**."
   ],
   "metadata": {
    "collapsed": false,
    "pycharm": {
     "name": "#%% md\n"
    }
   }
  },
  {
   "cell_type": "code",
   "source": [
    "RF = ShallowML(X_train_blc, X_test_blc, y_train_blc, y_test_blc, report_name='rfx_blc', columns_names = list(df_TCDB_blc.columns))\n",
    "best_rf_model = RF.train_best_model(model_name='rf',model=None, scaler=None,score=make_scorer(matthews_corrcoef),\n",
    "                         cv=5, optType='gridSearch', param_grid=None,\n",
    "                         n_jobs=5,random_state=1, n_iter=15, refit=True)\n",
    "\n",
    "scores, scores_per_class, cm, cm2 = RF.score_testset()\n",
    "print(scores)\n",
    "print(scores_per_class)\n",
    "print(cm)"
   ],
   "metadata": {
    "collapsed": false,
    "pycharm": {
     "name": "#%%\n"
    }
   },
   "execution_count": 18,
   "outputs": [
    {
     "name": "stdout",
     "output_type": "stream",
     "text": [
      "performing gridSearch...\n",
      "GridSearchCV took 127.33 seconds for 6 candidate parameter settings.\n",
      "GridSearchCV(cv=5,\n",
      "             estimator=Pipeline(steps=[('scl', None),\n",
      "                                       ('clf',\n",
      "                                        RandomForestClassifier(random_state=1))]),\n",
      "             n_jobs=5,\n",
      "             param_grid=[{'clf__bootstrap': [True], 'clf__criterion': ['gini'],\n",
      "                          'clf__max_features': ['sqrt', 'log2'],\n",
      "                          'clf__n_estimators': [10, 100, 500]}],\n",
      "             scoring=make_scorer(matthews_corrcoef))\n",
      "Model with rank: 1\n",
      " Mean validation score: 0.581 (std: 0.006)\n",
      " Parameters: {'clf__bootstrap': True, 'clf__criterion': 'gini', 'clf__max_features': 'sqrt', 'clf__n_estimators': 500}\n",
      " \n",
      "\n",
      "Model with rank: 2\n",
      " Mean validation score: 0.579 (std: 0.006)\n",
      " Parameters: {'clf__bootstrap': True, 'clf__criterion': 'gini', 'clf__max_features': 'log2', 'clf__n_estimators': 500}\n",
      " \n",
      "\n",
      "Model with rank: 3\n",
      " Mean validation score: 0.575 (std: 0.008)\n",
      " Parameters: {'clf__bootstrap': True, 'clf__criterion': 'gini', 'clf__max_features': 'sqrt', 'clf__n_estimators': 100}\n",
      " \n",
      "\n",
      "make_scorer(matthews_corrcoef)\n",
      "5\n",
      "Best score (scorer: make_scorer(matthews_corrcoef)) and parameters from a 5-fold cross validation:\n",
      " MCC score:\t0.581\n",
      " Parameters:\t{'clf__bootstrap': True, 'clf__criterion': 'gini', 'clf__max_features': 'sqrt', 'clf__n_estimators': 500}\n",
      "\n",
      "0.511797 (0.009794) with: {'clf__bootstrap': True, 'clf__criterion': 'gini', 'clf__max_features': 'sqrt', 'clf__n_estimators': 10}\n",
      "0.575418 (0.007583) with: {'clf__bootstrap': True, 'clf__criterion': 'gini', 'clf__max_features': 'sqrt', 'clf__n_estimators': 100}\n",
      "0.580755 (0.006244) with: {'clf__bootstrap': True, 'clf__criterion': 'gini', 'clf__max_features': 'sqrt', 'clf__n_estimators': 500}\n",
      "0.498769 (0.004191) with: {'clf__bootstrap': True, 'clf__criterion': 'gini', 'clf__max_features': 'log2', 'clf__n_estimators': 10}\n",
      "0.566307 (0.008498) with: {'clf__bootstrap': True, 'clf__criterion': 'gini', 'clf__max_features': 'log2', 'clf__n_estimators': 100}\n",
      "0.578886 (0.005727) with: {'clf__bootstrap': True, 'clf__criterion': 'gini', 'clf__max_features': 'log2', 'clf__n_estimators': 500}\n",
      "   clf__bootstrap clf__criterion clf__max_features  clf__n_estimators  \\\n",
      "0            True           gini              sqrt                 10   \n",
      "1            True           gini              sqrt                100   \n",
      "2            True           gini              sqrt                500   \n",
      "3            True           gini              log2                 10   \n",
      "4            True           gini              log2                100   \n",
      "5            True           gini              log2                500   \n",
      "\n",
      "      means      stds  \n",
      "0  0.511797  0.009794  \n",
      "1  0.575418  0.007583  \n",
      "2  0.580755  0.006244  \n",
      "3  0.498769  0.004191  \n",
      "4  0.566307  0.008498  \n",
      "5  0.578886  0.005727  \n",
      "{'Accuracy': 0.6719858156028369, 'MCC': 0.5793522260405582, 'log_loss': 0.9423545845050663, 'f1 score weighted': 0.647435683210873, 'f1 score macro': 0.44987953700452826, 'f1 score micro': 0.6719858156028369, 'roc_auc ovr': 0.9089542318783836, 'roc_auc ovo': 0.8934856802483596, 'precision': 0.6984268024132074, 'recall': 0.6719858156028369}\n",
      "              precision    recall  f1-score   support\n",
      "\n",
      "           0       0.62      0.82      0.71      1000\n",
      "           1       0.61      0.75      0.67      1158\n",
      "           2       0.78      0.82      0.80      1007\n",
      "           3       0.70      0.50      0.59       975\n",
      "           4       1.00      0.08      0.15       102\n",
      "           5       1.00      0.04      0.08        51\n",
      "           8       0.86      0.09      0.16       219\n",
      "\n",
      "    accuracy                           0.67      4512\n",
      "   macro avg       0.80      0.44      0.45      4512\n",
      "weighted avg       0.70      0.67      0.65      4512\n",
      "\n",
      "[[824 115   1  57   0   0   3]\n",
      " [158 864  73  63   0   0   0]\n",
      " [ 25  98 824  60   0   0   0]\n",
      " [230 165  89 491   0   0   0]\n",
      " [ 30  12  39  13   8   0   0]\n",
      " [ 15  19  11   4   0   2   0]\n",
      " [ 45 132  13  10   0   0  19]]\n"
     ]
    },
    {
     "data": {
      "text/plain": "<Figure size 432x288 with 0 Axes>"
     },
     "metadata": {},
     "output_type": "display_data"
    }
   ]
  },
  {
   "cell_type": "markdown",
   "source": [
    "O melhor modelo de RF para a Classificação multiclass balanceada apresenta, aproximadamente, um MCC score de 0.579 e uma accuracy de 67,2%. Com os hiperparâmetros de {'clf__bootstrap': True, 'clf__criterion': 'gini', 'clf__max_features': 'sqrt', 'clf__n_estimators': 500}.\n",
    "\n",
    "### SVM"
   ],
   "metadata": {
    "collapsed": false
   }
  },
  {
   "cell_type": "code",
   "execution_count": 19,
   "outputs": [
    {
     "name": "stdout",
     "output_type": "stream",
     "text": [
      "performing gridSearch...\n",
      "GridSearchCV took 511.66 seconds for 6 candidate parameter settings.\n",
      "GridSearchCV(cv=3,\n",
      "             estimator=Pipeline(steps=[('scl', None),\n",
      "                                       ('clf',\n",
      "                                        SVC(probability=True,\n",
      "                                            random_state=1))]),\n",
      "             n_jobs=5,\n",
      "             param_grid={'clf__C': [0.1, 1.0, 10],\n",
      "                         'clf__kernel': ['linear', 'rbf']},\n",
      "             scoring=make_scorer(matthews_corrcoef))\n",
      "Model with rank: 1\n",
      " Mean validation score: 0.605 (std: 0.007)\n",
      " Parameters: {'clf__C': 10, 'clf__kernel': 'rbf'}\n",
      " \n",
      "\n",
      "Model with rank: 2\n",
      " Mean validation score: 0.556 (std: 0.005)\n",
      " Parameters: {'clf__C': 1.0, 'clf__kernel': 'rbf'}\n",
      " \n",
      "\n",
      "Model with rank: 3\n",
      " Mean validation score: 0.506 (std: 0.008)\n",
      " Parameters: {'clf__C': 10, 'clf__kernel': 'linear'}\n",
      " \n",
      "\n",
      "make_scorer(matthews_corrcoef)\n",
      "3\n",
      "Best score (scorer: make_scorer(matthews_corrcoef)) and parameters from a 3-fold cross validation:\n",
      " MCC score:\t0.605\n",
      " Parameters:\t{'clf__C': 10, 'clf__kernel': 'rbf'}\n",
      "\n",
      "0.491844 (0.005331) with: {'clf__C': 0.1, 'clf__kernel': 'linear'}\n",
      "0.462778 (0.002064) with: {'clf__C': 0.1, 'clf__kernel': 'rbf'}\n",
      "0.498301 (0.006987) with: {'clf__C': 1.0, 'clf__kernel': 'linear'}\n",
      "0.556198 (0.005122) with: {'clf__C': 1.0, 'clf__kernel': 'rbf'}\n",
      "0.506037 (0.008389) with: {'clf__C': 10, 'clf__kernel': 'linear'}\n",
      "0.604510 (0.007091) with: {'clf__C': 10, 'clf__kernel': 'rbf'}\n",
      "   clf__C clf__kernel     means      stds\n",
      "0     0.1      linear  0.491844  0.005331\n",
      "1     0.1         rbf  0.462778  0.002064\n",
      "2     1.0      linear  0.498301  0.006987\n",
      "3     1.0         rbf  0.556198  0.005122\n",
      "4    10.0      linear  0.506037  0.008389\n",
      "5    10.0         rbf  0.604510  0.007091\n",
      "Pipeline(steps=[('scl', None),\n",
      "                ('clf', SVC(C=10, probability=True, random_state=1))])\n",
      "{'Accuracy': 0.7047872340425532, 'MCC': 0.6209967432770555, 'log_loss': 0.8059077018926142, 'f1 score weighted': 0.6958848291017214, 'f1 score macro': 0.5900380687430277, 'f1 score micro': 0.7047872340425532, 'roc_auc ovr': 0.9194725301277764, 'roc_auc ovo': 0.9086212797074542, 'precision': 0.7008566303890585, 'recall': 0.7047872340425532}\n",
      "              precision    recall  f1-score   support\n",
      "\n",
      "           0       0.68      0.79      0.73      1000\n",
      "           1       0.69      0.75      0.72      1158\n",
      "           2       0.80      0.84      0.82      1007\n",
      "           3       0.65      0.59      0.62       975\n",
      "           4       0.87      0.44      0.58       102\n",
      "           5       0.58      0.22      0.31        51\n",
      "           8       0.56      0.25      0.35       219\n",
      "\n",
      "    accuracy                           0.70      4512\n",
      "   macro avg       0.69      0.55      0.59      4512\n",
      "weighted avg       0.70      0.70      0.70      4512\n",
      "\n",
      "[[786  86   0 110   1   2  15]\n",
      " [123 866  71  80   2   2  14]\n",
      " [ 12  81 841  64   2   3   4]\n",
      " [164 129  97 576   1   1   7]\n",
      " [ 15   2  23  16  45   0   1]\n",
      " [  7  10  11  10   0  11   2]\n",
      " [ 46  80  13  24   1   0  55]]\n"
     ]
    },
    {
     "data": {
      "text/plain": "<Figure size 432x288 with 0 Axes>"
     },
     "metadata": {},
     "output_type": "display_data"
    }
   ],
   "source": [
    "SVM = ShallowML(X_train_blc, X_test_blc, y_train_blc, y_test_blc, report_name='svmx_blcF', columns_names=list(df_TCDB_blc.columns))\n",
    "param_grid ={'clf__C': [0.1,1.0,10],\n",
    "                        'clf__kernel': ['linear', 'rbf']}\n",
    "best_svm_model = SVM.train_best_model(model_name='svm',model=None, scaler=None,score=make_scorer(matthews_corrcoef),\n",
    "                         cv=3, optType='gridSearch', param_grid=param_grid,\n",
    "                         n_jobs=5,random_state=1, n_iter=15, refit=True, probability=True)\n",
    "\n",
    "\n",
    "print(best_svm_model)\n",
    "scores, scores_per_class, cm, cm2 = SVM.score_testset()\n",
    "print(scores)\n",
    "print(scores_per_class)\n",
    "print(cm)"
   ],
   "metadata": {
    "collapsed": false,
    "pycharm": {
     "name": "#%%\n"
    }
   }
  },
  {
   "cell_type": "markdown",
   "source": [
    "O melhor modelo de SVM para a Classificação multiclass balanceada apresenta, aproximadamente, um MCC score de 0.621 e uma accuracy de 70.5%. Com os hiperparâmetros de {'clf__C': [0.1,1.0,10],'clf__kernel': ['linear', 'rbf']}.\n",
    "\n",
    "### KNN\n",
    "O terceiro modelo é o modelo de K-Nearest neighbors (KNN), onde os hiperparâmentros usados são default presente na função de **train_best_model**, para RF, da classe **ShallowML**."
   ],
   "metadata": {
    "collapsed": false,
    "pycharm": {
     "name": "#%% md\n"
    }
   }
  },
  {
   "cell_type": "code",
   "execution_count": 20,
   "outputs": [
    {
     "name": "stdout",
     "output_type": "stream",
     "text": [
      "performing gridSearch...\n",
      "GridSearchCV took 30.64 seconds for 24 candidate parameter settings.\n",
      "GridSearchCV(cv=5,\n",
      "             estimator=Pipeline(steps=[('scl', None),\n",
      "                                       ('clf', KNeighborsClassifier())]),\n",
      "             n_jobs=4,\n",
      "             param_grid=[{'clf__leaf_size': [15, 30, 60],\n",
      "                          'clf__n_neighbors': [2, 5, 10, 15],\n",
      "                          'clf__weights': ['uniform', 'distance']}],\n",
      "             scoring=make_scorer(matthews_corrcoef))\n",
      "Model with rank: 1\n",
      " Mean validation score: 0.558 (std: 0.005)\n",
      " Parameters: {'clf__leaf_size': 15, 'clf__n_neighbors': 5, 'clf__weights': 'distance'}\n",
      " \n",
      "\n",
      "Model with rank: 1\n",
      " Mean validation score: 0.558 (std: 0.005)\n",
      " Parameters: {'clf__leaf_size': 30, 'clf__n_neighbors': 5, 'clf__weights': 'distance'}\n",
      " \n",
      "\n",
      "Model with rank: 1\n",
      " Mean validation score: 0.558 (std: 0.005)\n",
      " Parameters: {'clf__leaf_size': 60, 'clf__n_neighbors': 5, 'clf__weights': 'distance'}\n",
      " \n",
      "\n",
      "make_scorer(matthews_corrcoef)\n",
      "5\n",
      "Best score (scorer: make_scorer(matthews_corrcoef)) and parameters from a 5-fold cross validation:\n",
      " MCC score:\t0.558\n",
      " Parameters:\t{'clf__leaf_size': 15, 'clf__n_neighbors': 5, 'clf__weights': 'distance'}\n",
      "\n",
      "0.531892 (0.007648) with: {'clf__leaf_size': 15, 'clf__n_neighbors': 2, 'clf__weights': 'uniform'}\n",
      "0.540291 (0.003454) with: {'clf__leaf_size': 15, 'clf__n_neighbors': 2, 'clf__weights': 'distance'}\n",
      "0.549638 (0.007336) with: {'clf__leaf_size': 15, 'clf__n_neighbors': 5, 'clf__weights': 'uniform'}\n",
      "0.558225 (0.004560) with: {'clf__leaf_size': 15, 'clf__n_neighbors': 5, 'clf__weights': 'distance'}\n",
      "0.541513 (0.007099) with: {'clf__leaf_size': 15, 'clf__n_neighbors': 10, 'clf__weights': 'uniform'}\n",
      "0.556260 (0.009562) with: {'clf__leaf_size': 15, 'clf__n_neighbors': 10, 'clf__weights': 'distance'}\n",
      "0.525878 (0.007409) with: {'clf__leaf_size': 15, 'clf__n_neighbors': 15, 'clf__weights': 'uniform'}\n",
      "0.537188 (0.007169) with: {'clf__leaf_size': 15, 'clf__n_neighbors': 15, 'clf__weights': 'distance'}\n",
      "0.531892 (0.007648) with: {'clf__leaf_size': 30, 'clf__n_neighbors': 2, 'clf__weights': 'uniform'}\n",
      "0.540291 (0.003454) with: {'clf__leaf_size': 30, 'clf__n_neighbors': 2, 'clf__weights': 'distance'}\n",
      "0.549638 (0.007336) with: {'clf__leaf_size': 30, 'clf__n_neighbors': 5, 'clf__weights': 'uniform'}\n",
      "0.558225 (0.004560) with: {'clf__leaf_size': 30, 'clf__n_neighbors': 5, 'clf__weights': 'distance'}\n",
      "0.541513 (0.007099) with: {'clf__leaf_size': 30, 'clf__n_neighbors': 10, 'clf__weights': 'uniform'}\n",
      "0.556260 (0.009562) with: {'clf__leaf_size': 30, 'clf__n_neighbors': 10, 'clf__weights': 'distance'}\n",
      "0.525878 (0.007409) with: {'clf__leaf_size': 30, 'clf__n_neighbors': 15, 'clf__weights': 'uniform'}\n",
      "0.537188 (0.007169) with: {'clf__leaf_size': 30, 'clf__n_neighbors': 15, 'clf__weights': 'distance'}\n",
      "0.531892 (0.007648) with: {'clf__leaf_size': 60, 'clf__n_neighbors': 2, 'clf__weights': 'uniform'}\n",
      "0.540291 (0.003454) with: {'clf__leaf_size': 60, 'clf__n_neighbors': 2, 'clf__weights': 'distance'}\n",
      "0.549638 (0.007336) with: {'clf__leaf_size': 60, 'clf__n_neighbors': 5, 'clf__weights': 'uniform'}\n",
      "0.558225 (0.004560) with: {'clf__leaf_size': 60, 'clf__n_neighbors': 5, 'clf__weights': 'distance'}\n",
      "0.541513 (0.007099) with: {'clf__leaf_size': 60, 'clf__n_neighbors': 10, 'clf__weights': 'uniform'}\n",
      "0.556260 (0.009562) with: {'clf__leaf_size': 60, 'clf__n_neighbors': 10, 'clf__weights': 'distance'}\n",
      "0.525878 (0.007409) with: {'clf__leaf_size': 60, 'clf__n_neighbors': 15, 'clf__weights': 'uniform'}\n",
      "0.537188 (0.007169) with: {'clf__leaf_size': 60, 'clf__n_neighbors': 15, 'clf__weights': 'distance'}\n",
      "    clf__leaf_size  clf__n_neighbors clf__weights     means      stds\n",
      "0               15                 2      uniform  0.531892  0.007648\n",
      "1               15                 2     distance  0.540291  0.003454\n",
      "2               15                 5      uniform  0.549638  0.007336\n",
      "3               15                 5     distance  0.558225  0.004560\n",
      "4               15                10      uniform  0.541513  0.007099\n",
      "5               15                10     distance  0.556260  0.009562\n",
      "6               15                15      uniform  0.525878  0.007409\n",
      "7               15                15     distance  0.537188  0.007169\n",
      "8               30                 2      uniform  0.531892  0.007648\n",
      "9               30                 2     distance  0.540291  0.003454\n",
      "10              30                 5      uniform  0.549638  0.007336\n",
      "11              30                 5     distance  0.558225  0.004560\n",
      "12              30                10      uniform  0.541513  0.007099\n",
      "13              30                10     distance  0.556260  0.009562\n",
      "14              30                15      uniform  0.525878  0.007409\n",
      "15              30                15     distance  0.537188  0.007169\n",
      "16              60                 2      uniform  0.531892  0.007648\n",
      "17              60                 2     distance  0.540291  0.003454\n",
      "18              60                 5      uniform  0.549638  0.007336\n",
      "19              60                 5     distance  0.558225  0.004560\n",
      "20              60                10      uniform  0.541513  0.007099\n",
      "21              60                10     distance  0.556260  0.009562\n",
      "22              60                15      uniform  0.525878  0.007409\n",
      "23              60                15     distance  0.537188  0.007169\n",
      "{'Accuracy': 0.6660017730496454, 'MCC': 0.5733104776254749, 'log_loss': 4.31304302013891, 'f1 score weighted': 0.658439119822415, 'f1 score macro': 0.545269089843764, 'f1 score micro': 0.6660017730496454, 'roc_auc ovr': 0.8734646482908264, 'roc_auc ovo': 0.8412736594178245, 'precision': 0.660658181525461, 'recall': 0.6660017730496454}\n",
      "              precision    recall  f1-score   support\n",
      "\n",
      "           0       0.65      0.75      0.70      1000\n",
      "           1       0.72      0.63      0.67      1158\n",
      "           2       0.73      0.84      0.78      1007\n",
      "           3       0.59      0.59      0.59       975\n",
      "           4       0.50      0.33      0.40       102\n",
      "           5       0.58      0.22      0.31        51\n",
      "           8       0.49      0.29      0.37       219\n",
      "\n",
      "    accuracy                           0.67      4512\n",
      "   macro avg       0.61      0.52      0.55      4512\n",
      "weighted avg       0.66      0.67      0.66      4512\n",
      "\n",
      "[[748  82   7 135   5   2  21]\n",
      " [143 730 117 142   4   4  18]\n",
      " [ 19  41 847  78  15   0   7]\n",
      " [169  83 125 571   9   2  16]\n",
      " [ 19  10  24  13  34   0   2]\n",
      " [  6   8  13  10   0  11   3]\n",
      " [ 41  59  29  25   1   0  64]]\n"
     ]
    },
    {
     "data": {
      "text/plain": "<Figure size 432x288 with 0 Axes>"
     },
     "metadata": {},
     "output_type": "display_data"
    }
   ],
   "source": [
    "KNN = ShallowML(X_train_blc, X_test_blc, y_train_blc, y_test_blc, report_name='knn_blc', columns_names = list(df_TCDB_blc.columns))\n",
    "best_knn_model = KNN.train_best_model(model_name='knn',model=None, scaler=None,score=make_scorer(matthews_corrcoef),\n",
    "                         cv=5, optType='gridSearch', param_grid=None,\n",
    "                         n_jobs=4,random_state=1, n_iter=15, refit=True)\n",
    "\n",
    "scores, scores_per_class, cm, cm2 = KNN.score_testset()\n",
    "print(scores)\n",
    "print(scores_per_class)\n",
    "print(cm)"
   ],
   "metadata": {
    "collapsed": false,
    "pycharm": {
     "name": "#%%\n"
    }
   }
  },
  {
   "cell_type": "markdown",
   "source": [
    "O melhor modelo de KNN para a Classificação multiclass balanceada apresenta, aproximadamente, um MCC score de 0.573 e uma accuracy de 66.6%. Onde os hiperparâmetros registado para o modelo possuem o {'clf__leaf_size': X, 'clf__n_neighbors': 2, 'clf__weights': 'distance'}, onde o 'clf__leaf_size' poderá ser 15, 30 ou 60.\n",
    "\n",
    "Nesta etapa é tambem possivel verificar, que à semelhança da classificação baseada em features anterior, o svm obtem o melhor MCC score e accuracy.\n",
    "\n",
    "## One-Hot-Enconding\n",
    "### Pré-preparação para o split do dataset\n",
    "No dataset de **One-Hot-encoding** balanceado as 18048 sequências de aminoácidos pertencentes ao df_TCDB foram transformadas com um processo de **One-Hot-encoding** para o comprimento máximo de 1000 aminoácidos por 20 aminoácidos standart, mais um indefinido. Gerando como dados de entrada uma matriz de 21000 colunas (21 * 1000) e 18048 entradas (cada uma das sequências). Foi também isolado as labels apartir do dataset."
   ],
   "metadata": {
    "collapsed": false,
    "pycharm": {
     "name": "#%% md\n"
    }
   }
  },
  {
   "cell_type": "code",
   "execution_count": 21,
   "metadata": {
    "pycharm": {
     "name": "#%%\n"
    }
   },
   "outputs": [
    {
     "name": "stdout",
     "output_type": "stream",
     "text": [
      "(18048, 21000)\n",
      "(18048,)\n"
     ]
    }
   ],
   "source": [
    "fps_x_enco_blc = encode_sequence(sequences = df_TCDB_blc['sequence'], seq_len=1000, padding_truncating='post')\n",
    "print(fps_x_enco_blc.shape)\n",
    "fps_y_enco_blc = df_TCDB_blc['TCDB_ID']\n",
    "print(fps_y_enco_blc.shape)"
   ]
  },
  {
   "cell_type": "markdown",
   "source": [
    "### Split do dataset"
   ],
   "metadata": {
    "collapsed": false,
    "pycharm": {
     "name": "#%% md\n"
    }
   }
  },
  {
   "cell_type": "code",
   "execution_count": 22,
   "metadata": {
    "pycharm": {
     "name": "#%%\n"
    }
   },
   "outputs": [
    {
     "name": "stdout",
     "output_type": "stream",
     "text": [
      "(13536, 21000) (13536,)\n",
      "(4512, 21000) (4512,)\n"
     ]
    }
   ],
   "source": [
    "X_train_enco_blc, X_test_enco_blc, y_train_enco_blc, y_test_enco_blc = train_test_split(fps_x_enco_blc, fps_y_enco_blc, test_size=0.25, random_state = 42,stratify=fps_y_enco_blc)\n",
    "print(X_train_enco_blc.shape, y_train_enco_blc.shape)\n",
    "print(X_test_enco_blc.shape, y_test_enco_blc.shape)"
   ]
  },
  {
   "cell_type": "markdown",
   "source": [
    "No train_test_split o dataframe de treino é constituido por 13536 entradas de features fisico-quimicas e o de teste por 4512 entradas de features fisico-quimicas.\n",
    "\n",
    "### RF\n",
    "No modelo de Random Forest (RF), onde os hiperparâmentros usados são os default presentes na função de **train_best_model**, para RF, da classe **ShallowML**.\n"
   ],
   "metadata": {
    "collapsed": false,
    "pycharm": {
     "name": "#%% md\n"
    }
   }
  },
  {
   "cell_type": "code",
   "execution_count": 23,
   "metadata": {
    "pycharm": {
     "name": "#%%\n"
    }
   },
   "outputs": [
    {
     "name": "stdout",
     "output_type": "stream",
     "text": [
      "RFN\n",
      "performing gridSearch...\n",
      "GridSearchCV took 715.42 seconds for 6 candidate parameter settings.\n",
      "GridSearchCV(cv=5,\n",
      "             estimator=Pipeline(steps=[('scl', None),\n",
      "                                       ('clf',\n",
      "                                        RandomForestClassifier(random_state=1))]),\n",
      "             n_jobs=5,\n",
      "             param_grid=[{'clf__bootstrap': [True], 'clf__criterion': ['gini'],\n",
      "                          'clf__max_features': ['sqrt', 'log2'],\n",
      "                          'clf__n_estimators': [10, 100, 500]}],\n",
      "             scoring=make_scorer(matthews_corrcoef))\n",
      "Model with rank: 1\n",
      " Mean validation score: 0.292 (std: 0.014)\n",
      " Parameters: {'clf__bootstrap': True, 'clf__criterion': 'gini', 'clf__max_features': 'sqrt', 'clf__n_estimators': 500}\n",
      " \n",
      "\n",
      "Model with rank: 2\n",
      " Mean validation score: 0.281 (std: 0.016)\n",
      " Parameters: {'clf__bootstrap': True, 'clf__criterion': 'gini', 'clf__max_features': 'sqrt', 'clf__n_estimators': 100}\n",
      " \n",
      "\n",
      "Model with rank: 3\n",
      " Mean validation score: 0.256 (std: 0.016)\n",
      " Parameters: {'clf__bootstrap': True, 'clf__criterion': 'gini', 'clf__max_features': 'log2', 'clf__n_estimators': 500}\n",
      " \n",
      "\n",
      "make_scorer(matthews_corrcoef)\n",
      "5\n",
      "Best score (scorer: make_scorer(matthews_corrcoef)) and parameters from a 5-fold cross validation:\n",
      " MCC score:\t0.292\n",
      " Parameters:\t{'clf__bootstrap': True, 'clf__criterion': 'gini', 'clf__max_features': 'sqrt', 'clf__n_estimators': 500}\n",
      "\n",
      "0.206014 (0.013515) with: {'clf__bootstrap': True, 'clf__criterion': 'gini', 'clf__max_features': 'sqrt', 'clf__n_estimators': 10}\n",
      "0.281172 (0.016046) with: {'clf__bootstrap': True, 'clf__criterion': 'gini', 'clf__max_features': 'sqrt', 'clf__n_estimators': 100}\n",
      "0.292470 (0.013521) with: {'clf__bootstrap': True, 'clf__criterion': 'gini', 'clf__max_features': 'sqrt', 'clf__n_estimators': 500}\n",
      "0.170417 (0.006973) with: {'clf__bootstrap': True, 'clf__criterion': 'gini', 'clf__max_features': 'log2', 'clf__n_estimators': 10}\n",
      "0.248973 (0.013976) with: {'clf__bootstrap': True, 'clf__criterion': 'gini', 'clf__max_features': 'log2', 'clf__n_estimators': 100}\n",
      "0.255954 (0.016254) with: {'clf__bootstrap': True, 'clf__criterion': 'gini', 'clf__max_features': 'log2', 'clf__n_estimators': 500}\n",
      "   clf__bootstrap clf__criterion clf__max_features  clf__n_estimators  \\\n",
      "0            True           gini              sqrt                 10   \n",
      "1            True           gini              sqrt                100   \n",
      "2            True           gini              sqrt                500   \n",
      "3            True           gini              log2                 10   \n",
      "4            True           gini              log2                100   \n",
      "5            True           gini              log2                500   \n",
      "\n",
      "      means      stds  \n",
      "0  0.206014  0.013515  \n",
      "1  0.281172  0.016046  \n",
      "2  0.292470  0.013521  \n",
      "3  0.170417  0.006973  \n",
      "4  0.248973  0.013976  \n",
      "5  0.255954  0.016254  \n",
      "{'Accuracy': 0.4574468085106383, 'MCC': 0.29843198072382027, 'log_loss': 1.4201823018480948, 'f1 score weighted': 0.43993010269572086, 'f1 score macro': 0.30109663485179244, 'f1 score micro': 0.4574468085106383, 'roc_auc ovr': 0.7538106285140365, 'roc_auc ovo': 0.7282576123682633, 'precision': 0.4964171491336967, 'recall': 0.4574468085106383}\n",
      "              precision    recall  f1-score   support\n",
      "\n",
      "           0       0.52      0.43      0.47      1000\n",
      "           1       0.46      0.48      0.47      1158\n",
      "           2       0.46      0.63      0.53      1007\n",
      "           3       0.40      0.44      0.42       975\n",
      "           4       1.00      0.03      0.06       102\n",
      "           5       1.00      0.04      0.08        51\n",
      "           8       0.83      0.05      0.09       219\n",
      "\n",
      "    accuracy                           0.46      4512\n",
      "   macro avg       0.67      0.30      0.30      4512\n",
      "weighted avg       0.50      0.46      0.44      4512\n",
      "\n",
      "[[427 185 203 183   0   0   2]\n",
      " [131 556 271 200   0   0   0]\n",
      " [ 37 139 639 192   0   0   0]\n",
      " [148 197 203 427   0   0   0]\n",
      " [ 20  20  33  26   3   0   0]\n",
      " [ 14  13  11  11   0   2   0]\n",
      " [ 42  90  36  41   0   0  10]]\n"
     ]
    },
    {
     "data": {
      "text/plain": "<Figure size 432x288 with 0 Axes>"
     },
     "metadata": {},
     "output_type": "display_data"
    }
   ],
   "source": [
    "RF = ShallowML(X_train_enco_blc, X_test_enco_blc, y_train_enco_blc, y_test_enco_blc, report_name='rfx_enco_blc', columns_names = colnames)\n",
    "best_rf_model = RF.train_best_model(model_name='rf',model=None, scaler=None,score=make_scorer(matthews_corrcoef),\n",
    "                         cv=5, optType='gridSearch', param_grid=None,\n",
    "                         n_jobs=5,random_state=1, n_iter=15, refit=True)\n",
    "\n",
    "scores, scores_per_class, cm, cm2 = RF.score_testset()\n",
    "print(scores)\n",
    "print(scores_per_class)\n",
    "print(cm)"
   ]
  },
  {
   "cell_type": "markdown",
   "source": [
    "O melhor modelo de RF para a Classificação multiclass balanceada apresenta, aproximadamente, um MCC score de 0.298 e uma accuracy de 45.7%. Com os Hiperparâmetros de {'clf__bootstrap': True, 'clf__criterion': 'gini', 'clf__max_features': 'sqrt', 'clf__n_estimators': 500}, sendo este conjunto de hiperparametros semelhantes às RF treinadas.\n",
    "\n",
    "### SVM"
   ],
   "metadata": {
    "collapsed": false,
    "pycharm": {
     "name": "#%% md\n"
    }
   }
  },
  {
   "cell_type": "code",
   "execution_count": 24,
   "metadata": {
    "pycharm": {
     "name": "#%%\n"
    }
   },
   "outputs": [
    {
     "name": "stdout",
     "output_type": "stream",
     "text": [
      "SVM\n",
      "performing gridSearch...\n",
      "GridSearchCV took 37102.07 seconds for 6 candidate parameter settings.\n",
      "GridSearchCV(cv=3,\n",
      "             estimator=Pipeline(steps=[('scl', None),\n",
      "                                       ('clf',\n",
      "                                        SVC(probability=True,\n",
      "                                            random_state=1))]),\n",
      "             n_jobs=5,\n",
      "             param_grid={'clf__C': [0.1, 1.0, 10],\n",
      "                         'clf__kernel': ['linear', 'rbf']},\n",
      "             scoring=make_scorer(matthews_corrcoef))\n",
      "Model with rank: 1\n",
      " Mean validation score: 0.403 (std: 0.008)\n",
      " Parameters: {'clf__C': 10, 'clf__kernel': 'rbf'}\n",
      " \n",
      "\n",
      "Model with rank: 2\n",
      " Mean validation score: 0.388 (std: 0.006)\n",
      " Parameters: {'clf__C': 1.0, 'clf__kernel': 'rbf'}\n",
      " \n",
      "\n",
      "Model with rank: 3\n",
      " Mean validation score: 0.331 (std: 0.008)\n",
      " Parameters: {'clf__C': 0.1, 'clf__kernel': 'linear'}\n",
      " \n",
      "\n",
      "make_scorer(matthews_corrcoef)\n",
      "3\n",
      "Best score (scorer: make_scorer(matthews_corrcoef)) and parameters from a 3-fold cross validation:\n",
      " MCC score:\t0.403\n",
      " Parameters:\t{'clf__C': 10, 'clf__kernel': 'rbf'}\n",
      "\n",
      "0.331438 (0.008046) with: {'clf__C': 0.1, 'clf__kernel': 'linear'}\n",
      "0.175060 (0.001222) with: {'clf__C': 0.1, 'clf__kernel': 'rbf'}\n",
      "0.329407 (0.007598) with: {'clf__C': 1.0, 'clf__kernel': 'linear'}\n",
      "0.388161 (0.005987) with: {'clf__C': 1.0, 'clf__kernel': 'rbf'}\n",
      "0.328841 (0.007222) with: {'clf__C': 10, 'clf__kernel': 'linear'}\n",
      "0.403489 (0.007516) with: {'clf__C': 10, 'clf__kernel': 'rbf'}\n",
      "   clf__C clf__kernel     means      stds\n",
      "0     0.1      linear  0.331438  0.008046\n",
      "1     0.1         rbf  0.175060  0.001222\n",
      "2     1.0      linear  0.329407  0.007598\n",
      "3     1.0         rbf  0.388161  0.005987\n",
      "4    10.0      linear  0.328841  0.007222\n",
      "5    10.0         rbf  0.403489  0.007516\n",
      "Pipeline(steps=[('scl', None),\n",
      "                ('clf', SVC(C=10, probability=True, random_state=1))])\n",
      "{'Accuracy': 0.5585106382978723, 'MCC': 0.42913024362113217, 'log_loss': 1.1853928198492598, 'f1 score weighted': 0.5419090146166144, 'f1 score macro': 0.3889485566335239, 'f1 score micro': 0.5585106382978723, 'roc_auc ovr': 0.8180465395096433, 'roc_auc ovo': 0.7899129718121705, 'precision': 0.5684604701364645, 'recall': 0.5585106382978723}\n",
      "              precision    recall  f1-score   support\n",
      "\n",
      "           0       0.55      0.63      0.59      1000\n",
      "           1       0.53      0.62      0.57      1158\n",
      "           2       0.68      0.73      0.70      1007\n",
      "           3       0.46      0.41      0.43       975\n",
      "           4       1.00      0.08      0.15       102\n",
      "           5       1.00      0.04      0.08        51\n",
      "           8       0.52      0.13      0.21       219\n",
      "\n",
      "    accuracy                           0.56      4512\n",
      "   macro avg       0.68      0.38      0.39      4512\n",
      "weighted avg       0.57      0.56      0.54      4512\n",
      "\n",
      "[[631 184  17 155   0   0  13]\n",
      " [193 719 104 136   0   0   6]\n",
      " [ 31 125 731 119   0   0   1]\n",
      " [209 201 159 401   0   0   5]\n",
      " [ 24  14  33  23   8   0   0]\n",
      " [ 11  19  12   6   0   2   1]\n",
      " [ 57  82  16  36   0   0  28]]\n"
     ]
    },
    {
     "data": {
      "text/plain": "<Figure size 432x288 with 0 Axes>"
     },
     "metadata": {},
     "output_type": "display_data"
    }
   ],
   "source": [
    "SVM = ShallowML(X_train_enco_blc, X_test_enco_blc, y_train_enco_blc, y_test_enco_blc, report_name='svm_enco_blc', columns_names=colnames)\n",
    "best_svm_model = SVM.train_best_model(model_name='svm',model=None, scaler=None,score=make_scorer(matthews_corrcoef),\n",
    "                         cv=3, optType='gridSearch', param_grid=param_grid,\n",
    "                         n_jobs=5,random_state=1, n_iter=15, refit=True, probability=True)\n",
    "\n",
    "print(best_svm_model)\n",
    "scores, scores_per_class, cm, cm2 = SVM.score_testset()\n",
    "print(scores)\n",
    "print(scores_per_class)\n",
    "print(cm)"
   ]
  },
  {
   "cell_type": "markdown",
   "source": [
    "O melhor modelo de SVM para a Classificação multiclass balanceada apresenta, aproximadamente, um MCC score de 0.429 e uma accuracy de 55,9%. Com os hiperparâmetros de {'clf__C': 10,'clf__kernel': 'rbf'}.\n",
    "\n",
    "### KNN"
   ],
   "metadata": {
    "collapsed": false,
    "pycharm": {
     "name": "#%% md\n"
    }
   }
  },
  {
   "cell_type": "code",
   "execution_count": 25,
   "metadata": {
    "pycharm": {
     "name": "#%%\n"
    }
   },
   "outputs": [
    {
     "name": "stdout",
     "output_type": "stream",
     "text": [
      "KNN\n",
      "performing gridSearch...\n",
      "GridSearchCV took 754.80 seconds for 24 candidate parameter settings.\n",
      "GridSearchCV(cv=5,\n",
      "             estimator=Pipeline(steps=[('scl', None),\n",
      "                                       ('clf', KNeighborsClassifier())]),\n",
      "             n_jobs=4,\n",
      "             param_grid=[{'clf__leaf_size': [15, 30, 60],\n",
      "                          'clf__n_neighbors': [2, 5, 10, 15],\n",
      "                          'clf__weights': ['uniform', 'distance']}],\n",
      "             scoring=make_scorer(matthews_corrcoef))\n",
      "Model with rank: 1\n",
      " Mean validation score: 0.372 (std: 0.010)\n",
      " Parameters: {'clf__leaf_size': 15, 'clf__n_neighbors': 2, 'clf__weights': 'distance'}\n",
      " \n",
      "\n",
      "Model with rank: 1\n",
      " Mean validation score: 0.372 (std: 0.010)\n",
      " Parameters: {'clf__leaf_size': 30, 'clf__n_neighbors': 2, 'clf__weights': 'distance'}\n",
      " \n",
      "\n",
      "Model with rank: 1\n",
      " Mean validation score: 0.372 (std: 0.010)\n",
      " Parameters: {'clf__leaf_size': 60, 'clf__n_neighbors': 2, 'clf__weights': 'distance'}\n",
      " \n",
      "\n",
      "make_scorer(matthews_corrcoef)\n",
      "5\n",
      "Best score (scorer: make_scorer(matthews_corrcoef)) and parameters from a 5-fold cross validation:\n",
      " MCC score:\t0.372\n",
      " Parameters:\t{'clf__leaf_size': 15, 'clf__n_neighbors': 2, 'clf__weights': 'distance'}\n",
      "\n",
      "0.349123 (0.012148) with: {'clf__leaf_size': 15, 'clf__n_neighbors': 2, 'clf__weights': 'uniform'}\n",
      "0.372274 (0.009605) with: {'clf__leaf_size': 15, 'clf__n_neighbors': 2, 'clf__weights': 'distance'}\n",
      "0.337005 (0.018245) with: {'clf__leaf_size': 15, 'clf__n_neighbors': 5, 'clf__weights': 'uniform'}\n",
      "0.353066 (0.016311) with: {'clf__leaf_size': 15, 'clf__n_neighbors': 5, 'clf__weights': 'distance'}\n",
      "0.323442 (0.012231) with: {'clf__leaf_size': 15, 'clf__n_neighbors': 10, 'clf__weights': 'uniform'}\n",
      "0.335887 (0.011858) with: {'clf__leaf_size': 15, 'clf__n_neighbors': 10, 'clf__weights': 'distance'}\n",
      "0.310826 (0.006773) with: {'clf__leaf_size': 15, 'clf__n_neighbors': 15, 'clf__weights': 'uniform'}\n",
      "0.320624 (0.009497) with: {'clf__leaf_size': 15, 'clf__n_neighbors': 15, 'clf__weights': 'distance'}\n",
      "0.349123 (0.012148) with: {'clf__leaf_size': 30, 'clf__n_neighbors': 2, 'clf__weights': 'uniform'}\n",
      "0.372274 (0.009605) with: {'clf__leaf_size': 30, 'clf__n_neighbors': 2, 'clf__weights': 'distance'}\n",
      "0.337005 (0.018245) with: {'clf__leaf_size': 30, 'clf__n_neighbors': 5, 'clf__weights': 'uniform'}\n",
      "0.353066 (0.016311) with: {'clf__leaf_size': 30, 'clf__n_neighbors': 5, 'clf__weights': 'distance'}\n",
      "0.323442 (0.012231) with: {'clf__leaf_size': 30, 'clf__n_neighbors': 10, 'clf__weights': 'uniform'}\n",
      "0.335887 (0.011858) with: {'clf__leaf_size': 30, 'clf__n_neighbors': 10, 'clf__weights': 'distance'}\n",
      "0.310826 (0.006773) with: {'clf__leaf_size': 30, 'clf__n_neighbors': 15, 'clf__weights': 'uniform'}\n",
      "0.320624 (0.009497) with: {'clf__leaf_size': 30, 'clf__n_neighbors': 15, 'clf__weights': 'distance'}\n",
      "0.349123 (0.012148) with: {'clf__leaf_size': 60, 'clf__n_neighbors': 2, 'clf__weights': 'uniform'}\n",
      "0.372274 (0.009605) with: {'clf__leaf_size': 60, 'clf__n_neighbors': 2, 'clf__weights': 'distance'}\n",
      "0.337005 (0.018245) with: {'clf__leaf_size': 60, 'clf__n_neighbors': 5, 'clf__weights': 'uniform'}\n",
      "0.353066 (0.016311) with: {'clf__leaf_size': 60, 'clf__n_neighbors': 5, 'clf__weights': 'distance'}\n",
      "0.323442 (0.012231) with: {'clf__leaf_size': 60, 'clf__n_neighbors': 10, 'clf__weights': 'uniform'}\n",
      "0.335887 (0.011858) with: {'clf__leaf_size': 60, 'clf__n_neighbors': 10, 'clf__weights': 'distance'}\n",
      "0.310826 (0.006773) with: {'clf__leaf_size': 60, 'clf__n_neighbors': 15, 'clf__weights': 'uniform'}\n",
      "0.320624 (0.009497) with: {'clf__leaf_size': 60, 'clf__n_neighbors': 15, 'clf__weights': 'distance'}\n",
      "    clf__leaf_size  clf__n_neighbors clf__weights     means      stds\n",
      "0               15                 2      uniform  0.349123  0.012148\n",
      "1               15                 2     distance  0.372274  0.009605\n",
      "2               15                 5      uniform  0.337005  0.018245\n",
      "3               15                 5     distance  0.353066  0.016311\n",
      "4               15                10      uniform  0.323442  0.012231\n",
      "5               15                10     distance  0.335887  0.011858\n",
      "6               15                15      uniform  0.310826  0.006773\n",
      "7               15                15     distance  0.320624  0.009497\n",
      "8               30                 2      uniform  0.349123  0.012148\n",
      "9               30                 2     distance  0.372274  0.009605\n",
      "10              30                 5      uniform  0.337005  0.018245\n",
      "11              30                 5     distance  0.353066  0.016311\n",
      "12              30                10      uniform  0.323442  0.012231\n",
      "13              30                10     distance  0.335887  0.011858\n",
      "14              30                15      uniform  0.310826  0.006773\n",
      "15              30                15     distance  0.320624  0.009497\n",
      "16              60                 2      uniform  0.349123  0.012148\n",
      "17              60                 2     distance  0.372274  0.009605\n",
      "18              60                 5      uniform  0.337005  0.018245\n",
      "19              60                 5     distance  0.353066  0.016311\n",
      "20              60                10      uniform  0.323442  0.012231\n",
      "21              60                10     distance  0.335887  0.011858\n",
      "22              60                15      uniform  0.310826  0.006773\n",
      "23              60                15     distance  0.320624  0.009497\n",
      "{'Accuracy': 0.5436613475177305, 'MCC': 0.4171330010822739, 'log_loss': 11.891492751348968, 'f1 score weighted': 0.5374005352522334, 'f1 score macro': 0.4418329229721429, 'f1 score micro': 0.5436613475177305, 'roc_auc ovr': 0.7506795647068728, 'roc_auc ovo': 0.7213927281676159, 'precision': 0.542886514786672, 'recall': 0.5436613475177305}\n",
      "              precision    recall  f1-score   support\n",
      "\n",
      "           0       0.59      0.54      0.56      1000\n",
      "           1       0.57      0.52      0.54      1158\n",
      "           2       0.53      0.70      0.61      1007\n",
      "           3       0.51      0.53      0.52       975\n",
      "           4       0.45      0.43      0.44       102\n",
      "           5       0.16      0.10      0.12        51\n",
      "           8       0.48      0.21      0.30       219\n",
      "\n",
      "    accuracy                           0.54      4512\n",
      "   macro avg       0.47      0.43      0.44      4512\n",
      "weighted avg       0.54      0.54      0.54      4512\n",
      "\n",
      "[[537 152 145 130  15   3  18]\n",
      " [150 599 221 158   8  10  12]\n",
      " [ 36  87 708 144  14   7  11]\n",
      " [120 137 180 513  13   4   8]\n",
      " [  8  10  28  11  44   1   0]\n",
      " [ 11  15   6  12   1   5   1]\n",
      " [ 43  49  37  40   2   1  47]]\n"
     ]
    },
    {
     "data": {
      "text/plain": "<Figure size 432x288 with 0 Axes>"
     },
     "metadata": {},
     "output_type": "display_data"
    }
   ],
   "source": [
    "KNN = ShallowML(X_train_enco_blc, X_test_enco_blc, y_train_enco_blc, y_test_enco_blc, report_name='knn_enco_blc', columns_names = colnames)\n",
    "best_knn_model = KNN.train_best_model(model_name='knn',model=None, scaler=None,score=make_scorer(matthews_corrcoef),\n",
    "                         cv=5, optType='gridSearch', param_grid=None,\n",
    "                         n_jobs=4,random_state=1, n_iter=15, refit=True)\n",
    "\n",
    "scores, scores_per_class, cm, cm2 = KNN.score_testset()\n",
    "print(scores)\n",
    "print(scores_per_class)\n",
    "print(cm)"
   ]
  },
  {
   "cell_type": "markdown",
   "source": [
    "O melhor modelo de KNN para a Classificação multiclass balanceada apresenta, aproximadamente, um MCC score de 0.417 e uma accuracy de 54.4%. Onde os hiperparâmetros registado para o modelo possuem o {'clf__leaf_size': X, 'clf__n_neighbors': 2, 'clf__weights': 'distance'}, onde o 'clf__leaf_size' poderá ser 15, 30 ou 60.\n",
    "\n",
    "\n",
    "À semelhante dos procedimentos anteriores todos os modelos treinados baseado nas features físico-quimicas obtiveram melhores resultados, e simultaneamente o SVM baseado em features foi o melhor modelo com um MCC score de 0.62.\n",
    "\n",
    "# Classificação multiclasse de transportadores\n",
    "Nesta secção será realizada a classificação multiclasse das classes de transportadores, utilizando o dataset que ignora a classe de não transportadores conforme descrito na etapa 1.\n",
    "## Features físico-químicas\n",
    "Serão realizados os modelos de Machine Learning descritos anteriormente, tendo em conta as 100 melhores features descritas na etapa 2. O dataset *df_TCDB_nz*, criado na etapa 1, foi importado e definidas as labels consoante a classe do transportador\n",
    "(cl1 = 1 ; cl2 = 2 ; cl3 = 3 ; cl4 = 4 ; cl5 = 5 ; cl8 = 8)"
   ],
   "metadata": {
    "collapsed": false
   }
  },
  {
   "cell_type": "code",
   "execution_count": 26,
   "outputs": [
    {
     "name": "stdout",
     "output_type": "stream",
     "text": [
      "TCDB_ID\n",
      "1    4631\n",
      "2    4026\n",
      "3    3902\n",
      "4     409\n",
      "5     202\n",
      "8     878\n",
      "dtype: int64\n"
     ]
    },
    {
     "data": {
      "text/plain": "                                                sequence  TCDB_ID  \\\n0      MDSIRPATFQIPAAVRELGWAALLLFFVLLSVHEWFSPPGWFGLLA...        4   \n1      MSPSRTARLYFLLVLDLLFFVLEISIGYAVGSLALVADSFHMLNDV...        2   \n2      MHFGLNDRPEQVASASHSIFSSDDNKLRLSASLPDTAVTDLRRLGR...        2   \n3      MFPLSALPRCVALRSKHGNSYLRSVHDKSQGGNFVELSADNDGGVM...        1   \n4         FGFKDIIRAIRRIAVPVVSTLFPPAAPLAHAIGEGVDYLLGDEAQA        1   \n...                                                  ...      ...   \n14043  MPEGKFCNRKPVNTEEDLKALLGDKGGAQYYKEMEELEVDQEALWA...        5   \n14044  MQHANTNKSLMTPGNIITGIILVMGLVLTVLRFTKGIGAVSNLDDN...        5   \n14045  MRFGVVVLAIILLTGCSAMSAISDLLPSKDGIEATAQAGESNQKTG...        1   \n14046  MILLTQSRFFSQKARCYITDNKRLFLPLLILIALVVPATRGFTLQA...        2   \n14047  MRYVRSLLGVGALLVGAGGAAAQPGAFPGAGERAPGGAPSAPVSAP...        1   \n\n       _HydrophobicityD1100  _SolventAccessibilityD2100  _ChargeD2100  \\\n0                  0.963098                    0.963098     -0.891240   \n1                  0.308846                    0.308846     -0.396637   \n2                 -0.540370                   -0.540370      0.471229   \n3                 -0.779495                   -0.779495      0.905993   \n4                  0.104314                    0.104314      0.179309   \n...                     ...                         ...           ...   \n14043             -0.908812                   -0.908812      1.340654   \n14044              1.108509                    1.108509     -0.915757   \n14045             -0.373482                   -0.373482     -0.081031   \n14046              0.673320                    0.673320     -1.127166   \n14047              0.126172                    0.126172     -0.335968   \n\n       _HydrophobicityC1     Gravy  hydrophobic_ratio  \\\n0              -1.053496  0.914927           1.151802   \n1              -0.597386 -0.265547          -0.544895   \n2               0.393026 -0.430169          -0.322973   \n3               0.823074 -1.142603          -1.400136   \n4              -0.467068  0.673374           1.113481   \n...                  ...       ...                ...   \n14043           1.109772 -1.259992          -0.971821   \n14044          -1.144719  0.910925           0.752002   \n14045           0.106328 -0.303055          -0.683305   \n14046          -1.027433  1.205370           1.200391   \n14047          -0.454037 -0.521237          -0.724593   \n\n       _SolventAccessibilityC2  _ChargeD3100  ...        LH        RP  \\\n0                    -1.053496      0.770825  ... -0.621004  0.711445   \n1                    -0.597386     -0.216299  ...  1.732211  0.066580   \n2                     0.393026     -0.605204  ...  0.289918  0.163309   \n3                     0.823074     -0.701986  ...  2.567222 -0.610528   \n4                    -0.467068     -0.628210  ... -0.621004 -0.610528   \n...                        ...           ...  ...       ...       ...   \n14043                 1.109772     -0.880588  ...  1.011064  0.098823   \n14044                -1.144719      0.611843  ...  1.352660  0.227796   \n14045                 0.106328     -0.665177  ... -0.621004 -0.610528   \n14046                -1.027433      0.762407  ... -0.621004  1.033877   \n14047                -0.454037     -0.177275  ... -0.621004  2.517066   \n\n             HS        CW        QW        TH        HW        WQ        RM  \\\n0     -0.488216 -0.181722 -0.341125 -0.496290 -0.257673  2.264428 -0.472387   \n1      3.035088 -0.181722 -0.341125 -0.496290 -0.257673  0.972632 -0.472387   \n2      1.574206 -0.181722 -0.341125  0.769282 -0.257673 -0.383755  0.716247   \n3      0.414094 -0.181722 -0.341125  0.611086 -0.257673 -0.383755 -0.472387   \n4     -0.488216 -0.181722 -0.341125 -0.496290 -0.257673 -0.383755 -0.472387   \n...         ...       ...       ...       ...       ...       ...       ...   \n14043 -0.488216  1.587166 -0.341125 -0.496290 -0.257673 -0.383755 -0.472387   \n14044  0.628929 -0.181722 -0.341125  0.874746  1.884899  1.295581  0.815300   \n14045  2.734318 -0.181722 -0.341125 -0.496290 -0.257673 -0.383755 -0.472387   \n14046  0.628929 -0.181722 -0.341125  0.874746 -0.257673 -0.383755 -0.472387   \n14047 -0.488216 -0.181722 -0.341125  0.769282  1.720086  2.781147 -0.472387   \n\n             MH  \n0     -0.293626  \n1     -0.293626  \n2      1.573704  \n3     -0.293626  \n4     -0.293626  \n...         ...  \n14043  1.418093  \n14044  1.729314  \n14045 -0.293626  \n14046 -0.293626  \n14047 -0.293626  \n\n[14048 rows x 642 columns]",
      "text/html": "<div>\n<style scoped>\n    .dataframe tbody tr th:only-of-type {\n        vertical-align: middle;\n    }\n\n    .dataframe tbody tr th {\n        vertical-align: top;\n    }\n\n    .dataframe thead th {\n        text-align: right;\n    }\n</style>\n<table border=\"1\" class=\"dataframe\">\n  <thead>\n    <tr style=\"text-align: right;\">\n      <th></th>\n      <th>sequence</th>\n      <th>TCDB_ID</th>\n      <th>_HydrophobicityD1100</th>\n      <th>_SolventAccessibilityD2100</th>\n      <th>_ChargeD2100</th>\n      <th>_HydrophobicityC1</th>\n      <th>Gravy</th>\n      <th>hydrophobic_ratio</th>\n      <th>_SolventAccessibilityC2</th>\n      <th>_ChargeD3100</th>\n      <th>...</th>\n      <th>LH</th>\n      <th>RP</th>\n      <th>HS</th>\n      <th>CW</th>\n      <th>QW</th>\n      <th>TH</th>\n      <th>HW</th>\n      <th>WQ</th>\n      <th>RM</th>\n      <th>MH</th>\n    </tr>\n  </thead>\n  <tbody>\n    <tr>\n      <th>0</th>\n      <td>MDSIRPATFQIPAAVRELGWAALLLFFVLLSVHEWFSPPGWFGLLA...</td>\n      <td>4</td>\n      <td>0.963098</td>\n      <td>0.963098</td>\n      <td>-0.891240</td>\n      <td>-1.053496</td>\n      <td>0.914927</td>\n      <td>1.151802</td>\n      <td>-1.053496</td>\n      <td>0.770825</td>\n      <td>...</td>\n      <td>-0.621004</td>\n      <td>0.711445</td>\n      <td>-0.488216</td>\n      <td>-0.181722</td>\n      <td>-0.341125</td>\n      <td>-0.496290</td>\n      <td>-0.257673</td>\n      <td>2.264428</td>\n      <td>-0.472387</td>\n      <td>-0.293626</td>\n    </tr>\n    <tr>\n      <th>1</th>\n      <td>MSPSRTARLYFLLVLDLLFFVLEISIGYAVGSLALVADSFHMLNDV...</td>\n      <td>2</td>\n      <td>0.308846</td>\n      <td>0.308846</td>\n      <td>-0.396637</td>\n      <td>-0.597386</td>\n      <td>-0.265547</td>\n      <td>-0.544895</td>\n      <td>-0.597386</td>\n      <td>-0.216299</td>\n      <td>...</td>\n      <td>1.732211</td>\n      <td>0.066580</td>\n      <td>3.035088</td>\n      <td>-0.181722</td>\n      <td>-0.341125</td>\n      <td>-0.496290</td>\n      <td>-0.257673</td>\n      <td>0.972632</td>\n      <td>-0.472387</td>\n      <td>-0.293626</td>\n    </tr>\n    <tr>\n      <th>2</th>\n      <td>MHFGLNDRPEQVASASHSIFSSDDNKLRLSASLPDTAVTDLRRLGR...</td>\n      <td>2</td>\n      <td>-0.540370</td>\n      <td>-0.540370</td>\n      <td>0.471229</td>\n      <td>0.393026</td>\n      <td>-0.430169</td>\n      <td>-0.322973</td>\n      <td>0.393026</td>\n      <td>-0.605204</td>\n      <td>...</td>\n      <td>0.289918</td>\n      <td>0.163309</td>\n      <td>1.574206</td>\n      <td>-0.181722</td>\n      <td>-0.341125</td>\n      <td>0.769282</td>\n      <td>-0.257673</td>\n      <td>-0.383755</td>\n      <td>0.716247</td>\n      <td>1.573704</td>\n    </tr>\n    <tr>\n      <th>3</th>\n      <td>MFPLSALPRCVALRSKHGNSYLRSVHDKSQGGNFVELSADNDGGVM...</td>\n      <td>1</td>\n      <td>-0.779495</td>\n      <td>-0.779495</td>\n      <td>0.905993</td>\n      <td>0.823074</td>\n      <td>-1.142603</td>\n      <td>-1.400136</td>\n      <td>0.823074</td>\n      <td>-0.701986</td>\n      <td>...</td>\n      <td>2.567222</td>\n      <td>-0.610528</td>\n      <td>0.414094</td>\n      <td>-0.181722</td>\n      <td>-0.341125</td>\n      <td>0.611086</td>\n      <td>-0.257673</td>\n      <td>-0.383755</td>\n      <td>-0.472387</td>\n      <td>-0.293626</td>\n    </tr>\n    <tr>\n      <th>4</th>\n      <td>FGFKDIIRAIRRIAVPVVSTLFPPAAPLAHAIGEGVDYLLGDEAQA</td>\n      <td>1</td>\n      <td>0.104314</td>\n      <td>0.104314</td>\n      <td>0.179309</td>\n      <td>-0.467068</td>\n      <td>0.673374</td>\n      <td>1.113481</td>\n      <td>-0.467068</td>\n      <td>-0.628210</td>\n      <td>...</td>\n      <td>-0.621004</td>\n      <td>-0.610528</td>\n      <td>-0.488216</td>\n      <td>-0.181722</td>\n      <td>-0.341125</td>\n      <td>-0.496290</td>\n      <td>-0.257673</td>\n      <td>-0.383755</td>\n      <td>-0.472387</td>\n      <td>-0.293626</td>\n    </tr>\n    <tr>\n      <th>...</th>\n      <td>...</td>\n      <td>...</td>\n      <td>...</td>\n      <td>...</td>\n      <td>...</td>\n      <td>...</td>\n      <td>...</td>\n      <td>...</td>\n      <td>...</td>\n      <td>...</td>\n      <td>...</td>\n      <td>...</td>\n      <td>...</td>\n      <td>...</td>\n      <td>...</td>\n      <td>...</td>\n      <td>...</td>\n      <td>...</td>\n      <td>...</td>\n      <td>...</td>\n      <td>...</td>\n    </tr>\n    <tr>\n      <th>14043</th>\n      <td>MPEGKFCNRKPVNTEEDLKALLGDKGGAQYYKEMEELEVDQEALWA...</td>\n      <td>5</td>\n      <td>-0.908812</td>\n      <td>-0.908812</td>\n      <td>1.340654</td>\n      <td>1.109772</td>\n      <td>-1.259992</td>\n      <td>-0.971821</td>\n      <td>1.109772</td>\n      <td>-0.880588</td>\n      <td>...</td>\n      <td>1.011064</td>\n      <td>0.098823</td>\n      <td>-0.488216</td>\n      <td>1.587166</td>\n      <td>-0.341125</td>\n      <td>-0.496290</td>\n      <td>-0.257673</td>\n      <td>-0.383755</td>\n      <td>-0.472387</td>\n      <td>1.418093</td>\n    </tr>\n    <tr>\n      <th>14044</th>\n      <td>MQHANTNKSLMTPGNIITGIILVMGLVLTVLRFTKGIGAVSNLDDN...</td>\n      <td>5</td>\n      <td>1.108509</td>\n      <td>1.108509</td>\n      <td>-0.915757</td>\n      <td>-1.144719</td>\n      <td>0.910925</td>\n      <td>0.752002</td>\n      <td>-1.144719</td>\n      <td>0.611843</td>\n      <td>...</td>\n      <td>1.352660</td>\n      <td>0.227796</td>\n      <td>0.628929</td>\n      <td>-0.181722</td>\n      <td>-0.341125</td>\n      <td>0.874746</td>\n      <td>1.884899</td>\n      <td>1.295581</td>\n      <td>0.815300</td>\n      <td>1.729314</td>\n    </tr>\n    <tr>\n      <th>14045</th>\n      <td>MRFGVVVLAIILLTGCSAMSAISDLLPSKDGIEATAQAGESNQKTG...</td>\n      <td>1</td>\n      <td>-0.373482</td>\n      <td>-0.373482</td>\n      <td>-0.081031</td>\n      <td>0.106328</td>\n      <td>-0.303055</td>\n      <td>-0.683305</td>\n      <td>0.106328</td>\n      <td>-0.665177</td>\n      <td>...</td>\n      <td>-0.621004</td>\n      <td>-0.610528</td>\n      <td>2.734318</td>\n      <td>-0.181722</td>\n      <td>-0.341125</td>\n      <td>-0.496290</td>\n      <td>-0.257673</td>\n      <td>-0.383755</td>\n      <td>-0.472387</td>\n      <td>-0.293626</td>\n    </tr>\n    <tr>\n      <th>14046</th>\n      <td>MILLTQSRFFSQKARCYITDNKRLFLPLLILIALVVPATRGFTLQA...</td>\n      <td>2</td>\n      <td>0.673320</td>\n      <td>0.673320</td>\n      <td>-1.127166</td>\n      <td>-1.027433</td>\n      <td>1.205370</td>\n      <td>1.200391</td>\n      <td>-1.027433</td>\n      <td>0.762407</td>\n      <td>...</td>\n      <td>-0.621004</td>\n      <td>1.033877</td>\n      <td>0.628929</td>\n      <td>-0.181722</td>\n      <td>-0.341125</td>\n      <td>0.874746</td>\n      <td>-0.257673</td>\n      <td>-0.383755</td>\n      <td>-0.472387</td>\n      <td>-0.293626</td>\n    </tr>\n    <tr>\n      <th>14047</th>\n      <td>MRYVRSLLGVGALLVGAGGAAAQPGAFPGAGERAPGGAPSAPVSAP...</td>\n      <td>1</td>\n      <td>0.126172</td>\n      <td>0.126172</td>\n      <td>-0.335968</td>\n      <td>-0.454037</td>\n      <td>-0.521237</td>\n      <td>-0.724593</td>\n      <td>-0.454037</td>\n      <td>-0.177275</td>\n      <td>...</td>\n      <td>-0.621004</td>\n      <td>2.517066</td>\n      <td>-0.488216</td>\n      <td>-0.181722</td>\n      <td>-0.341125</td>\n      <td>0.769282</td>\n      <td>1.720086</td>\n      <td>2.781147</td>\n      <td>-0.472387</td>\n      <td>-0.293626</td>\n    </tr>\n  </tbody>\n</table>\n<p>14048 rows × 642 columns</p>\n</div>"
     },
     "execution_count": 26,
     "metadata": {},
     "output_type": "execute_result"
    }
   ],
   "source": [
    "df_TCDB_nz = pd.read_csv('df_TCDB_nz.csv', sep= ',')\n",
    "df_TCDB_nz = df_TCDB_nz.drop(columns='Unnamed: 0')\n",
    "dici = {'cl1':1, 'cl2':2 ,'cl3':3,'cl4':4,'cl5':5,'cl8':8 }\n",
    "df_TCDB_nz.TCDB_ID = df_TCDB_nz.TCDB_ID.apply(lambda x: dici[x])\n",
    "print(df_TCDB_nz.groupby('TCDB_ID').size())\n",
    "df_TCDB_nz"
   ],
   "metadata": {
    "collapsed": false,
    "pycharm": {
     "name": "#%%\n"
    }
   }
  },
  {
   "cell_type": "markdown",
   "source": [
    "### Pré-preparação para o split do dataset\n",
    "O dataset contém 14048 entradas, uma vez que a classe de não transportadores é ignorada em relação aos datasets anteriores.\n",
    "Após seleção das 100 features resultantes da etapa 2, foi criada uma matriz de 14048 (correspondente às sequências) por 100 (features). Foi também isolado as labels apartir do dataset."
   ],
   "metadata": {
    "collapsed": false
   }
  },
  {
   "cell_type": "code",
   "execution_count": 27,
   "outputs": [
    {
     "name": "stdout",
     "output_type": "stream",
     "text": [
      "(14048, 100)\n"
     ]
    },
    {
     "data": {
      "text/plain": "array([[ 0.96309838,  0.96309838, -0.89123991, ..., -1.02850769,\n         1.17654195,  0.93982451],\n       [ 0.30884552,  0.30884552, -0.3966372 , ...,  0.85924138,\n         0.08238807,  0.91387199],\n       [-0.54037027, -0.54037027,  0.47122903, ...,  0.50390038,\n         0.33883039, -0.68161785],\n       ...,\n       [-0.37348215, -0.37348215, -0.08103059, ...,  1.85863795,\n         1.3475035 ,  0.24424889],\n       [ 0.67331979,  0.67331979, -1.12716572, ..., -0.517705  ,\n        -0.02507347,  0.07946938],\n       [ 0.12617228,  0.12617228, -0.33596759, ...,  1.48108813,\n        -0.22045809,  1.17803945]])"
     },
     "execution_count": 27,
     "metadata": {},
     "output_type": "execute_result"
    }
   ],
   "source": [
    "fps_x=[]\n",
    "for i in range(df_TCDB_nz.shape[0]):\n",
    "    fps_x.append(list(df_TCDB_nz.iloc[i,2:102].to_numpy().flatten()))\n",
    "fps_x_nzF = np.array(fps_x)\n",
    "print(fps_x_nzF.shape)\n",
    "fps_x_nzF"
   ],
   "metadata": {
    "collapsed": false,
    "pycharm": {
     "name": "#%%\n"
    }
   }
  },
  {
   "cell_type": "code",
   "execution_count": 28,
   "outputs": [
    {
     "name": "stdout",
     "output_type": "stream",
     "text": [
      "(14048,)\n"
     ]
    },
    {
     "data": {
      "text/plain": "array([4, 2, 2, ..., 1, 2, 1], dtype=int64)"
     },
     "execution_count": 28,
     "metadata": {},
     "output_type": "execute_result"
    }
   ],
   "source": [
    "fps_y_nzF = df_TCDB_nz['TCDB_ID'].to_numpy().flatten()\n",
    "print(fps_y_nzF.shape)\n",
    "fps_y_nzF"
   ],
   "metadata": {
    "collapsed": false,
    "pycharm": {
     "name": "#%%\n"
    }
   }
  },
  {
   "cell_type": "markdown",
   "source": [
    "### Split do Dataset"
   ],
   "metadata": {
    "collapsed": false,
    "pycharm": {
     "name": "#%% md\n"
    }
   }
  },
  {
   "cell_type": "code",
   "execution_count": 29,
   "outputs": [
    {
     "name": "stdout",
     "output_type": "stream",
     "text": [
      "(10536, 100) (10536,)\n",
      "(3512, 100) (3512,)\n"
     ]
    }
   ],
   "source": [
    "X_train_nz, X_test_nz, y_train_nz, y_test_nz = train_test_split(fps_x_nzF, fps_y_nzF, test_size=0.25, random_state = 42,stratify = fps_y_nzF)\n",
    "print(X_train_nz.shape, y_train_nz.shape)\n",
    "print(X_test_nz.shape, y_test_nz.shape)"
   ],
   "metadata": {
    "collapsed": false,
    "pycharm": {
     "name": "#%%\n"
    }
   }
  },
  {
   "cell_type": "markdown",
   "source": [
    "Como descrito na introdução o split do dataset consistiu numa divisão de 75% para treino e 25% para teste, resultando assim para treino 10536 entradas e para teste 3512 entradas.\n",
    "\n",
    "### RF\n",
    "\n",
    "O primeiro modelo utilizado foi o Random Forest (RF), utilizando os hiperparâmetros standard no GridSearch como descrito anteriormente, para RF."
   ],
   "metadata": {
    "collapsed": false,
    "pycharm": {
     "name": "#%% md\n"
    }
   }
  },
  {
   "cell_type": "code",
   "execution_count": 30,
   "outputs": [
    {
     "name": "stdout",
     "output_type": "stream",
     "text": [
      "performing gridSearch...\n",
      "GridSearchCV took 90.85 seconds for 6 candidate parameter settings.\n",
      "GridSearchCV(cv=5,\n",
      "             estimator=Pipeline(steps=[('scl', None),\n",
      "                                       ('clf',\n",
      "                                        RandomForestClassifier(random_state=1))]),\n",
      "             n_jobs=5,\n",
      "             param_grid=[{'clf__bootstrap': [True], 'clf__criterion': ['gini'],\n",
      "                          'clf__max_features': ['sqrt', 'log2'],\n",
      "                          'clf__n_estimators': [10, 100, 500]}],\n",
      "             scoring=make_scorer(matthews_corrcoef))\n",
      "Model with rank: 1\n",
      " Mean validation score: 0.585 (std: 0.016)\n",
      " Parameters: {'clf__bootstrap': True, 'clf__criterion': 'gini', 'clf__max_features': 'sqrt', 'clf__n_estimators': 500}\n",
      " \n",
      "\n",
      "Model with rank: 2\n",
      " Mean validation score: 0.583 (std: 0.012)\n",
      " Parameters: {'clf__bootstrap': True, 'clf__criterion': 'gini', 'clf__max_features': 'log2', 'clf__n_estimators': 500}\n",
      " \n",
      "\n",
      "Model with rank: 3\n",
      " Mean validation score: 0.581 (std: 0.017)\n",
      " Parameters: {'clf__bootstrap': True, 'clf__criterion': 'gini', 'clf__max_features': 'sqrt', 'clf__n_estimators': 100}\n",
      " \n",
      "\n",
      "make_scorer(matthews_corrcoef)\n",
      "5\n",
      "Best score (scorer: make_scorer(matthews_corrcoef)) and parameters from a 5-fold cross validation:\n",
      " MCC score:\t0.585\n",
      " Parameters:\t{'clf__bootstrap': True, 'clf__criterion': 'gini', 'clf__max_features': 'sqrt', 'clf__n_estimators': 500}\n",
      "\n",
      "0.532553 (0.018582) with: {'clf__bootstrap': True, 'clf__criterion': 'gini', 'clf__max_features': 'sqrt', 'clf__n_estimators': 10}\n",
      "0.580571 (0.016924) with: {'clf__bootstrap': True, 'clf__criterion': 'gini', 'clf__max_features': 'sqrt', 'clf__n_estimators': 100}\n",
      "0.585337 (0.015648) with: {'clf__bootstrap': True, 'clf__criterion': 'gini', 'clf__max_features': 'sqrt', 'clf__n_estimators': 500}\n",
      "0.521770 (0.009255) with: {'clf__bootstrap': True, 'clf__criterion': 'gini', 'clf__max_features': 'log2', 'clf__n_estimators': 10}\n",
      "0.578515 (0.011026) with: {'clf__bootstrap': True, 'clf__criterion': 'gini', 'clf__max_features': 'log2', 'clf__n_estimators': 100}\n",
      "0.582915 (0.011973) with: {'clf__bootstrap': True, 'clf__criterion': 'gini', 'clf__max_features': 'log2', 'clf__n_estimators': 500}\n",
      "   clf__bootstrap clf__criterion clf__max_features  clf__n_estimators  \\\n",
      "0            True           gini              sqrt                 10   \n",
      "1            True           gini              sqrt                100   \n",
      "2            True           gini              sqrt                500   \n",
      "3            True           gini              log2                 10   \n",
      "4            True           gini              log2                100   \n",
      "5            True           gini              log2                500   \n",
      "\n",
      "      means      stds  \n",
      "0  0.532553  0.018582  \n",
      "1  0.580571  0.016924  \n",
      "2  0.585337  0.015648  \n",
      "3  0.521770  0.009255  \n",
      "4  0.578515  0.011026  \n",
      "5  0.582915  0.011973  \n",
      "{'Accuracy': 0.7232346241457859, 'MCC': 0.6108119459918625, 'log_loss': 0.7947577403421401, 'f1 score weighted': 0.7007244232371256, 'f1 score macro': 0.4754822115918116, 'f1 score micro': 0.7232346241457859, 'roc_auc ovr': 0.9172160472257527, 'roc_auc ovo': 0.8985523726197477, 'precision': 0.7406810242880746, 'recall': 0.7232346241457859}\n",
      "              precision    recall  f1-score   support\n",
      "\n",
      "           1       0.68      0.84      0.75      1158\n",
      "           2       0.79      0.82      0.80      1007\n",
      "           3       0.71      0.70      0.71       975\n",
      "           4       0.92      0.11      0.19       102\n",
      "           5       1.00      0.04      0.08        51\n",
      "           8       0.85      0.20      0.32       219\n",
      "\n",
      "    accuracy                           0.72      3512\n",
      "   macro avg       0.82      0.45      0.48      3512\n",
      "weighted avg       0.74      0.72      0.70      3512\n",
      "\n",
      "[[975  70 107   0   0   6]\n",
      " [102 829  75   0   0   1]\n",
      " [198  96 679   1   0   1]\n",
      " [ 21  30  40  11   0   0]\n",
      " [ 20  14  15   0   2   0]\n",
      " [124  17  34   0   0  44]]\n"
     ]
    },
    {
     "data": {
      "text/plain": "<Figure size 432x288 with 0 Axes>"
     },
     "metadata": {},
     "output_type": "display_data"
    }
   ],
   "source": [
    "RF = ShallowML(X_train_nz, X_test_nz, y_train_nz, y_test_nz, report_name='rfx_nz', columns_names = list(df_TCDB_nz.columns))\n",
    "best_rf_model = RF.train_best_model(model_name='rf',model=None, scaler=None,score=make_scorer(matthews_corrcoef),\n",
    "                         cv=5, optType='gridSearch', param_grid=None,\n",
    "                         n_jobs=5,random_state=1, n_iter=15, refit=True)\n",
    "\n",
    "scores, scores_per_class, cm, cm2 = RF.score_testset()\n",
    "print(scores)\n",
    "print(scores_per_class)\n",
    "print(cm)"
   ],
   "metadata": {
    "collapsed": false,
    "pycharm": {
     "name": "#%%\n"
    }
   }
  },
  {
   "cell_type": "markdown",
   "source": [
    "O melhor modelo resultante do Random Forest obteve um MCC score de 0.61 e accuracy de 72.3%, a partir do seguinte dicionário de parâmetros {'clf__bootstrap': True, 'clf__criterion': 'gini', 'clf__max_features': 'sqrt', 'clf__n_estimators': 500}\n",
    "\n",
    "### SVM\n",
    "Como segundo modelo foi utilizado o SVM, mais uma vez como descrito anteriormente os hiperparâmetros utilizados foram os standard."
   ],
   "metadata": {
    "collapsed": false,
    "pycharm": {
     "name": "#%% md\n"
    }
   }
  },
  {
   "cell_type": "code",
   "execution_count": 31,
   "outputs": [
    {
     "name": "stdout",
     "output_type": "stream",
     "text": [
      "performing gridSearch...\n",
      "GridSearchCV took 903.22 seconds for 6 candidate parameter settings.\n",
      "GridSearchCV(cv=3,\n",
      "             estimator=Pipeline(steps=[('scl', None),\n",
      "                                       ('clf',\n",
      "                                        SVC(probability=True,\n",
      "                                            random_state=1))]),\n",
      "             n_jobs=1,\n",
      "             param_grid={'clf__C': [0.1, 1.0, 10],\n",
      "                         'clf__kernel': ['linear', 'rbf']},\n",
      "             scoring=make_scorer(matthews_corrcoef))\n",
      "Model with rank: 1\n",
      " Mean validation score: 0.615 (std: 0.006)\n",
      " Parameters: {'clf__C': 10, 'clf__kernel': 'rbf'}\n",
      " \n",
      "\n",
      "Model with rank: 2\n",
      " Mean validation score: 0.554 (std: 0.004)\n",
      " Parameters: {'clf__C': 1.0, 'clf__kernel': 'rbf'}\n",
      " \n",
      "\n",
      "Model with rank: 3\n",
      " Mean validation score: 0.496 (std: 0.006)\n",
      " Parameters: {'clf__C': 10, 'clf__kernel': 'linear'}\n",
      " \n",
      "\n",
      "make_scorer(matthews_corrcoef)\n",
      "3\n",
      "Best score (scorer: make_scorer(matthews_corrcoef)) and parameters from a 3-fold cross validation:\n",
      " MCC score:\t0.615\n",
      " Parameters:\t{'clf__C': 10, 'clf__kernel': 'rbf'}\n",
      "\n",
      "0.471189 (0.007732) with: {'clf__C': 0.1, 'clf__kernel': 'linear'}\n",
      "0.461712 (0.008919) with: {'clf__C': 0.1, 'clf__kernel': 'rbf'}\n",
      "0.484001 (0.003225) with: {'clf__C': 1.0, 'clf__kernel': 'linear'}\n",
      "0.554449 (0.004251) with: {'clf__C': 1.0, 'clf__kernel': 'rbf'}\n",
      "0.496043 (0.005505) with: {'clf__C': 10, 'clf__kernel': 'linear'}\n",
      "0.615282 (0.005922) with: {'clf__C': 10, 'clf__kernel': 'rbf'}\n",
      "   clf__C clf__kernel     means      stds\n",
      "0     0.1      linear  0.471189  0.007732\n",
      "1     0.1         rbf  0.461712  0.008919\n",
      "2     1.0      linear  0.484001  0.003225\n",
      "3     1.0         rbf  0.554449  0.004251\n",
      "4    10.0      linear  0.496043  0.005505\n",
      "5    10.0         rbf  0.615282  0.005922\n",
      "Pipeline(steps=[('scl', None),\n",
      "                ('clf', SVC(C=10, probability=True, random_state=1))])\n",
      "{'Accuracy': 0.7434510250569476, 'MCC': 0.6416093154614473, 'log_loss': 0.705072854770073, 'f1 score weighted': 0.7353492693648244, 'f1 score macro': 0.6127266476526646, 'f1 score micro': 0.7434510250569476, 'roc_auc ovr': 0.9230547715423923, 'roc_auc ovo': 0.9083766258700613, 'precision': 0.7402898835359492, 'recall': 0.7434510250569476}\n",
      "              precision    recall  f1-score   support\n",
      "\n",
      "           1       0.72      0.81      0.76      1158\n",
      "           2       0.80      0.83      0.81      1007\n",
      "           3       0.73      0.73      0.73       975\n",
      "           4       0.72      0.38      0.50       102\n",
      "           5       0.67      0.31      0.43        51\n",
      "           8       0.65      0.34      0.45       219\n",
      "\n",
      "    accuracy                           0.74      3512\n",
      "   macro avg       0.72      0.57      0.61      3512\n",
      "weighted avg       0.74      0.74      0.74      3512\n",
      "\n",
      "[[940  63 121   4   2  28]\n",
      " [ 94 831  75   4   1   2]\n",
      " [148  95 711   7   5   9]\n",
      " [  7  23  33  39   0   0]\n",
      " [ 12  13  10   0  16   0]\n",
      " [101  14  30   0   0  74]]\n"
     ]
    },
    {
     "data": {
      "text/plain": "<Figure size 432x288 with 0 Axes>"
     },
     "metadata": {},
     "output_type": "display_data"
    }
   ],
   "source": [
    "SVM = ShallowML(X_train_nz, X_test_nz, y_train_nz, y_test_nz, report_name='svm_nz', columns_names=list(df_TCDB_nz.columns))\n",
    "best_svm_model = SVM.train_best_model(model_name='svm',model=None, scaler=None,score=make_scorer(matthews_corrcoef),\n",
    "                         cv=3, optType='gridSearch', param_grid=param_grid,\n",
    "                         n_jobs=1, n_iter=15, refit=True, probability=True)\n",
    "\n",
    "print(best_svm_model)\n",
    "scores, scores_per_class, cm, cm2 = SVM.score_testset()\n",
    "print(scores)\n",
    "print(scores_per_class)\n",
    "print(cm)"
   ],
   "metadata": {
    "collapsed": false,
    "pycharm": {
     "name": "#%%\n"
    }
   }
  },
  {
   "cell_type": "markdown",
   "source": [
    "O melhor modelo resultante do SVM obteve um MCC score de 0.641 e accuracy de 74.3%, a partir do seguinte dicionário de parâmetros {'clf__C': 10, 'clf__kernel': 'rbf'}\n",
    "\n",
    "### KNN\n",
    "O ultimo modelo utilizado para classificação multiclasse, sem a classe de não transportadores, foi o KNN."
   ],
   "metadata": {
    "collapsed": false,
    "pycharm": {
     "name": "#%% md\n"
    }
   }
  },
  {
   "cell_type": "code",
   "execution_count": 32,
   "outputs": [
    {
     "name": "stdout",
     "output_type": "stream",
     "text": [
      "performing gridSearch...\n",
      "GridSearchCV took 25.10 seconds for 24 candidate parameter settings.\n",
      "GridSearchCV(cv=5,\n",
      "             estimator=Pipeline(steps=[('scl', None),\n",
      "                                       ('clf', KNeighborsClassifier())]),\n",
      "             n_jobs=4,\n",
      "             param_grid=[{'clf__leaf_size': [15, 30, 60],\n",
      "                          'clf__n_neighbors': [2, 5, 10, 15],\n",
      "                          'clf__weights': ['uniform', 'distance']}],\n",
      "             scoring=make_scorer(matthews_corrcoef))\n",
      "Model with rank: 1\n",
      " Mean validation score: 0.593 (std: 0.009)\n",
      " Parameters: {'clf__leaf_size': 15, 'clf__n_neighbors': 5, 'clf__weights': 'distance'}\n",
      " \n",
      "\n",
      "Model with rank: 1\n",
      " Mean validation score: 0.593 (std: 0.009)\n",
      " Parameters: {'clf__leaf_size': 30, 'clf__n_neighbors': 5, 'clf__weights': 'distance'}\n",
      " \n",
      "\n",
      "Model with rank: 1\n",
      " Mean validation score: 0.593 (std: 0.009)\n",
      " Parameters: {'clf__leaf_size': 60, 'clf__n_neighbors': 5, 'clf__weights': 'distance'}\n",
      " \n",
      "\n",
      "make_scorer(matthews_corrcoef)\n",
      "5\n",
      "Best score (scorer: make_scorer(matthews_corrcoef)) and parameters from a 5-fold cross validation:\n",
      " MCC score:\t0.593\n",
      " Parameters:\t{'clf__leaf_size': 15, 'clf__n_neighbors': 5, 'clf__weights': 'distance'}\n",
      "\n",
      "0.560775 (0.006521) with: {'clf__leaf_size': 15, 'clf__n_neighbors': 2, 'clf__weights': 'uniform'}\n",
      "0.573009 (0.006604) with: {'clf__leaf_size': 15, 'clf__n_neighbors': 2, 'clf__weights': 'distance'}\n",
      "0.577825 (0.010385) with: {'clf__leaf_size': 15, 'clf__n_neighbors': 5, 'clf__weights': 'uniform'}\n",
      "0.593093 (0.008532) with: {'clf__leaf_size': 15, 'clf__n_neighbors': 5, 'clf__weights': 'distance'}\n",
      "0.563284 (0.005205) with: {'clf__leaf_size': 15, 'clf__n_neighbors': 10, 'clf__weights': 'uniform'}\n",
      "0.576284 (0.007750) with: {'clf__leaf_size': 15, 'clf__n_neighbors': 10, 'clf__weights': 'distance'}\n",
      "0.558177 (0.004798) with: {'clf__leaf_size': 15, 'clf__n_neighbors': 15, 'clf__weights': 'uniform'}\n",
      "0.567854 (0.005415) with: {'clf__leaf_size': 15, 'clf__n_neighbors': 15, 'clf__weights': 'distance'}\n",
      "0.560775 (0.006521) with: {'clf__leaf_size': 30, 'clf__n_neighbors': 2, 'clf__weights': 'uniform'}\n",
      "0.573009 (0.006604) with: {'clf__leaf_size': 30, 'clf__n_neighbors': 2, 'clf__weights': 'distance'}\n",
      "0.577825 (0.010385) with: {'clf__leaf_size': 30, 'clf__n_neighbors': 5, 'clf__weights': 'uniform'}\n",
      "0.593093 (0.008532) with: {'clf__leaf_size': 30, 'clf__n_neighbors': 5, 'clf__weights': 'distance'}\n",
      "0.563284 (0.005205) with: {'clf__leaf_size': 30, 'clf__n_neighbors': 10, 'clf__weights': 'uniform'}\n",
      "0.576284 (0.007750) with: {'clf__leaf_size': 30, 'clf__n_neighbors': 10, 'clf__weights': 'distance'}\n",
      "0.558177 (0.004798) with: {'clf__leaf_size': 30, 'clf__n_neighbors': 15, 'clf__weights': 'uniform'}\n",
      "0.567854 (0.005415) with: {'clf__leaf_size': 30, 'clf__n_neighbors': 15, 'clf__weights': 'distance'}\n",
      "0.560775 (0.006521) with: {'clf__leaf_size': 60, 'clf__n_neighbors': 2, 'clf__weights': 'uniform'}\n",
      "0.573009 (0.006604) with: {'clf__leaf_size': 60, 'clf__n_neighbors': 2, 'clf__weights': 'distance'}\n",
      "0.577825 (0.010385) with: {'clf__leaf_size': 60, 'clf__n_neighbors': 5, 'clf__weights': 'uniform'}\n",
      "0.593093 (0.008532) with: {'clf__leaf_size': 60, 'clf__n_neighbors': 5, 'clf__weights': 'distance'}\n",
      "0.563284 (0.005205) with: {'clf__leaf_size': 60, 'clf__n_neighbors': 10, 'clf__weights': 'uniform'}\n",
      "0.576284 (0.007750) with: {'clf__leaf_size': 60, 'clf__n_neighbors': 10, 'clf__weights': 'distance'}\n",
      "0.558177 (0.004798) with: {'clf__leaf_size': 60, 'clf__n_neighbors': 15, 'clf__weights': 'uniform'}\n",
      "0.567854 (0.005415) with: {'clf__leaf_size': 60, 'clf__n_neighbors': 15, 'clf__weights': 'distance'}\n",
      "    clf__leaf_size  clf__n_neighbors clf__weights     means      stds\n",
      "0               15                 2      uniform  0.560775  0.006521\n",
      "1               15                 2     distance  0.573009  0.006604\n",
      "2               15                 5      uniform  0.577825  0.010385\n",
      "3               15                 5     distance  0.593093  0.008532\n",
      "4               15                10      uniform  0.563284  0.005205\n",
      "5               15                10     distance  0.576284  0.007750\n",
      "6               15                15      uniform  0.558177  0.004798\n",
      "7               15                15     distance  0.567854  0.005415\n",
      "8               30                 2      uniform  0.560775  0.006521\n",
      "9               30                 2     distance  0.573009  0.006604\n",
      "10              30                 5      uniform  0.577825  0.010385\n",
      "11              30                 5     distance  0.593093  0.008532\n",
      "12              30                10      uniform  0.563284  0.005205\n",
      "13              30                10     distance  0.576284  0.007750\n",
      "14              30                15      uniform  0.558177  0.004798\n",
      "15              30                15     distance  0.567854  0.005415\n",
      "16              60                 2      uniform  0.560775  0.006521\n",
      "17              60                 2     distance  0.573009  0.006604\n",
      "18              60                 5      uniform  0.577825  0.010385\n",
      "19              60                 5     distance  0.593093  0.008532\n",
      "20              60                10      uniform  0.563284  0.005205\n",
      "21              60                10     distance  0.576284  0.007750\n",
      "22              60                15      uniform  0.558177  0.004798\n",
      "23              60                15     distance  0.567854  0.005415\n",
      "{'Accuracy': 0.7272209567198178, 'MCC': 0.6203899955302787, 'log_loss': 3.455854375543927, 'f1 score weighted': 0.7196308949966403, 'f1 score macro': 0.5819455510924022, 'f1 score micro': 0.7272209567198178, 'roc_auc ovr': 0.8902262678294003, 'roc_auc ovo': 0.8545576419033392, 'precision': 0.7214554731842961, 'recall': 0.7272209567198178}\n",
      "              precision    recall  f1-score   support\n",
      "\n",
      "           1       0.75      0.74      0.74      1158\n",
      "           2       0.76      0.85      0.80      1007\n",
      "           3       0.69      0.73      0.71       975\n",
      "           4       0.64      0.36      0.46       102\n",
      "           5       0.50      0.22      0.30        51\n",
      "           8       0.62      0.38      0.47       219\n",
      "\n",
      "    accuracy                           0.73      3512\n",
      "   macro avg       0.66      0.55      0.58      3512\n",
      "weighted avg       0.72      0.73      0.72      3512\n",
      "\n",
      "[[852 101 162   6   4  33]\n",
      " [ 59 856  77   6   3   6]\n",
      " [136 101 715   9   4  10]\n",
      " [  6  20  38  37   0   1]\n",
      " [ 12  19   9   0  11   0]\n",
      " [ 70  26  40   0   0  83]]\n"
     ]
    },
    {
     "data": {
      "text/plain": "<Figure size 432x288 with 0 Axes>"
     },
     "metadata": {},
     "output_type": "display_data"
    }
   ],
   "source": [
    "KNN = ShallowML(X_train_nz, X_test_nz, y_train_nz, y_test_nz, report_name='knn_nz', columns_names = list(df_TCDB_nz.columns))\n",
    "best_knn_model = KNN.train_best_model(model_name='knn',model=None, scaler=None,score=make_scorer(matthews_corrcoef),\n",
    "                         cv=5, optType='gridSearch', param_grid=None,\n",
    "                         n_jobs=4,random_state=1, n_iter=15, refit=True)\n",
    "\n",
    "scores, scores_per_class, cm, cm2 = KNN.score_testset()\n",
    "print(scores)\n",
    "print(scores_per_class)\n",
    "print(cm)"
   ],
   "metadata": {
    "collapsed": false,
    "pycharm": {
     "name": "#%%\n"
    }
   }
  },
  {
   "cell_type": "markdown",
   "source": [
    "O melhor modelo resultante do KNN obteve um MCC score de 0.62 e accuracy de 72.7%, a partir do seguinte dicionário de parâmetros {'clf__leaf_size': 15, 'clf__n_neighbors': 5, 'clf__weights': 'distance'}\n",
    "\n",
    "Analisando os três modelos, verifica-se que o melhor modelo, para a classificação multiclasse sem a classe dos não transportadores, foi o SVM com um MCC score de 0.615 e accuracy de 74.3%.\n",
    "\n",
    "## One-Hot-Enconding\n",
    "### Pré-preparação para o split do dataset\n",
    "Para esta secção as sequencias do dataset *df_TCDB-z* sofreu uma transformação por o *One-Hot-Encoding*, à semelhança dos datasets anteriores, resultando em uma matrix 21 000 colunas e 14 048 entradas (sequências). Foi também isolado as labels apartir do dataset."
   ],
   "metadata": {
    "collapsed": false,
    "pycharm": {
     "name": "#%% md\n"
    }
   }
  },
  {
   "cell_type": "code",
   "execution_count": 33,
   "outputs": [
    {
     "name": "stdout",
     "output_type": "stream",
     "text": [
      "(14048, 21000)\n",
      "(14048,)\n"
     ]
    }
   ],
   "source": [
    "fps_x_enco_nz = encode_sequence(sequences = df_TCDB_nz['sequence'], seq_len=1000, padding_truncating='post')\n",
    "print(fps_x_enco_nz.shape)\n",
    "fps_y_enco_nz = df_TCDB_nz['TCDB_ID']\n",
    "print(fps_y_enco_nz.shape)"
   ],
   "metadata": {
    "collapsed": false,
    "pycharm": {
     "name": "#%%\n"
    }
   }
  },
  {
   "cell_type": "markdown",
   "source": [
    "### Dataset split"
   ],
   "metadata": {
    "collapsed": false,
    "pycharm": {
     "name": "#%% md\n"
    }
   }
  },
  {
   "cell_type": "code",
   "source": [
    "X_train_enco_nz, X_test_enco_nz, y_train_enco_nz, y_test_enco_nz = train_test_split(fps_x_enco_nz, fps_y_enco_nz, test_size=0.25, random_state = 42,stratify=fps_y_enco_nz)\n",
    "print(X_train_enco_nz.shape, y_train_enco_nz.shape)\n",
    "print(X_test_enco_nz.shape, y_test_enco_nz.shape)"
   ],
   "metadata": {
    "collapsed": false,
    "pycharm": {
     "name": "#%%\n"
    }
   },
   "execution_count": 34,
   "outputs": [
    {
     "name": "stdout",
     "output_type": "stream",
     "text": [
      "(10536, 21000) (10536,)\n",
      "(3512, 21000) (3512,)\n"
     ]
    }
   ]
  },
  {
   "cell_type": "markdown",
   "source": [
    "A divisão do dataset foi semelhante a todas as secções anteriores, resultando assim para treino 10536 entradas e para teste 3512 entradas.\n",
    "### RF\n",
    "O primeiro modelo utilizado foi o Random Forest (RF) utilizando como hiperparâmetros standard, como descrito anteriormente."
   ],
   "metadata": {
    "collapsed": false,
    "pycharm": {
     "name": "#%% md\n"
    }
   }
  },
  {
   "cell_type": "code",
   "execution_count": 35,
   "outputs": [
    {
     "name": "stdout",
     "output_type": "stream",
     "text": [
      "performing gridSearch...\n",
      "GridSearchCV took 573.83 seconds for 6 candidate parameter settings.\n",
      "GridSearchCV(cv=5,\n",
      "             estimator=Pipeline(steps=[('scl', None),\n",
      "                                       ('clf',\n",
      "                                        RandomForestClassifier(random_state=1))]),\n",
      "             n_jobs=5,\n",
      "             param_grid=[{'clf__bootstrap': [True], 'clf__criterion': ['gini'],\n",
      "                          'clf__max_features': ['sqrt', 'log2'],\n",
      "                          'clf__n_estimators': [10, 100, 500]}],\n",
      "             scoring=make_scorer(matthews_corrcoef))\n",
      "Model with rank: 1\n",
      " Mean validation score: 0.306 (std: 0.021)\n",
      " Parameters: {'clf__bootstrap': True, 'clf__criterion': 'gini', 'clf__max_features': 'sqrt', 'clf__n_estimators': 500}\n",
      " \n",
      "\n",
      "Model with rank: 2\n",
      " Mean validation score: 0.305 (std: 0.015)\n",
      " Parameters: {'clf__bootstrap': True, 'clf__criterion': 'gini', 'clf__max_features': 'sqrt', 'clf__n_estimators': 100}\n",
      " \n",
      "\n",
      "Model with rank: 3\n",
      " Mean validation score: 0.266 (std: 0.019)\n",
      " Parameters: {'clf__bootstrap': True, 'clf__criterion': 'gini', 'clf__max_features': 'log2', 'clf__n_estimators': 500}\n",
      " \n",
      "\n",
      "make_scorer(matthews_corrcoef)\n",
      "5\n",
      "Best score (scorer: make_scorer(matthews_corrcoef)) and parameters from a 5-fold cross validation:\n",
      " MCC score:\t0.306\n",
      " Parameters:\t{'clf__bootstrap': True, 'clf__criterion': 'gini', 'clf__max_features': 'sqrt', 'clf__n_estimators': 500}\n",
      "\n",
      "0.228856 (0.004650) with: {'clf__bootstrap': True, 'clf__criterion': 'gini', 'clf__max_features': 'sqrt', 'clf__n_estimators': 10}\n",
      "0.305481 (0.015438) with: {'clf__bootstrap': True, 'clf__criterion': 'gini', 'clf__max_features': 'sqrt', 'clf__n_estimators': 100}\n",
      "0.305956 (0.020526) with: {'clf__bootstrap': True, 'clf__criterion': 'gini', 'clf__max_features': 'sqrt', 'clf__n_estimators': 500}\n",
      "0.200182 (0.010791) with: {'clf__bootstrap': True, 'clf__criterion': 'gini', 'clf__max_features': 'log2', 'clf__n_estimators': 10}\n",
      "0.265059 (0.021673) with: {'clf__bootstrap': True, 'clf__criterion': 'gini', 'clf__max_features': 'log2', 'clf__n_estimators': 100}\n",
      "0.265894 (0.018960) with: {'clf__bootstrap': True, 'clf__criterion': 'gini', 'clf__max_features': 'log2', 'clf__n_estimators': 500}\n",
      "   clf__bootstrap clf__criterion clf__max_features  clf__n_estimators  \\\n",
      "0            True           gini              sqrt                 10   \n",
      "1            True           gini              sqrt                100   \n",
      "2            True           gini              sqrt                500   \n",
      "3            True           gini              log2                 10   \n",
      "4            True           gini              log2                100   \n",
      "5            True           gini              log2                500   \n",
      "\n",
      "      means      stds  \n",
      "0  0.228856  0.004650  \n",
      "1  0.305481  0.015438  \n",
      "2  0.305956  0.020526  \n",
      "3  0.200182  0.010791  \n",
      "4  0.265059  0.021673  \n",
      "5  0.265894  0.018960  \n",
      "{'Accuracy': 0.515375854214123, 'MCC': 0.3115908856848357, 'log_loss': 1.2055017295742398, 'f1 score weighted': 0.4931617472237573, 'f1 score macro': 0.31297579992046276, 'f1 score micro': 0.515375854214123, 'roc_auc ovr': 0.7633418728718078, 'roc_auc ovo': 0.7308263867789688, 'precision': 0.5629252328088239, 'recall': 0.515375854214123}\n",
      "              precision    recall  f1-score   support\n",
      "\n",
      "           1       0.54      0.59      0.56      1158\n",
      "           2       0.53      0.63      0.58      1007\n",
      "           3       0.46      0.48      0.47       975\n",
      "           4       1.00      0.05      0.09       102\n",
      "           5       1.00      0.02      0.04        51\n",
      "           8       1.00      0.07      0.14       219\n",
      "\n",
      "    accuracy                           0.52      3512\n",
      "   macro avg       0.75      0.31      0.31      3512\n",
      "weighted avg       0.56      0.52      0.49      3512\n",
      "\n",
      "[[682 230 246   0   0   0]\n",
      " [164 634 209   0   0   0]\n",
      " [270 233 472   0   0   0]\n",
      " [ 34  35  28   5   0   0]\n",
      " [ 21  14  15   0   1   0]\n",
      " [102  44  57   0   0  16]]\n"
     ]
    },
    {
     "data": {
      "text/plain": "<Figure size 432x288 with 0 Axes>"
     },
     "metadata": {},
     "output_type": "display_data"
    }
   ],
   "source": [
    "\n",
    "RF = ShallowML(X_train_enco_nz, X_test_enco_nz, y_train_enco_nz, y_test_enco_nz, report_name='rf_enco_nz', columns_names = colnames)\n",
    "best_rf_model = RF.train_best_model(model_name='rf',model=None, scaler=None,score=make_scorer(matthews_corrcoef),\n",
    "                         cv=5, optType='gridSearch', param_grid=None,\n",
    "                         n_jobs=5,random_state=1, n_iter=15, refit=True)\n",
    "\n",
    "scores, scores_per_class, cm, cm2 = RF.score_testset()\n",
    "print(scores)\n",
    "print(scores_per_class)\n",
    "print(cm)"
   ],
   "metadata": {
    "collapsed": false,
    "pycharm": {
     "name": "#%%\n"
    }
   }
  },
  {
   "cell_type": "markdown",
   "source": [
    "O melhor modelo resultante do Random Forest obteve um MCC score de 0.312 e accuracy de 51.5%, a partir do seguinte dicionário de parâmetros {'clf__bootstrap': True, 'clf__criterion': 'gini', 'clf__max_features': 'sqrt', 'clf__n_estimators': 500. Os parâmetros obtidos no melhor modelo resultante do Random Forest coincidem com os obtidos quando aplicados ao dataset com as features.\n",
    "### SVM"
   ],
   "metadata": {
    "collapsed": false,
    "pycharm": {
     "name": "#%% md\n"
    }
   }
  },
  {
   "cell_type": "code",
   "execution_count": 36,
   "outputs": [
    {
     "name": "stdout",
     "output_type": "stream",
     "text": [
      "performing gridSearch...\n",
      "GridSearchCV took 28429.89 seconds for 6 candidate parameter settings.\n",
      "GridSearchCV(cv=3,\n",
      "             estimator=Pipeline(steps=[('scl', None),\n",
      "                                       ('clf',\n",
      "                                        SVC(probability=True,\n",
      "                                            random_state=1))]),\n",
      "             n_jobs=5,\n",
      "             param_grid={'clf__C': [0.1, 1.0, 10],\n",
      "                         'clf__kernel': ['linear', 'rbf']},\n",
      "             scoring=make_scorer(matthews_corrcoef))\n",
      "Model with rank: 1\n",
      " Mean validation score: 0.408 (std: 0.008)\n",
      " Parameters: {'clf__C': 10, 'clf__kernel': 'rbf'}\n",
      " \n",
      "\n",
      "Model with rank: 2\n",
      " Mean validation score: 0.377 (std: 0.006)\n",
      " Parameters: {'clf__C': 1.0, 'clf__kernel': 'rbf'}\n",
      " \n",
      "\n",
      "Model with rank: 3\n",
      " Mean validation score: 0.324 (std: 0.004)\n",
      " Parameters: {'clf__C': 0.1, 'clf__kernel': 'linear'}\n",
      " \n",
      "\n",
      "make_scorer(matthews_corrcoef)\n",
      "3\n",
      "Best score (scorer: make_scorer(matthews_corrcoef)) and parameters from a 3-fold cross validation:\n",
      " MCC score:\t0.408\n",
      " Parameters:\t{'clf__C': 10, 'clf__kernel': 'rbf'}\n",
      "\n",
      "0.323722 (0.004081) with: {'clf__C': 0.1, 'clf__kernel': 'linear'}\n",
      "0.229404 (0.001774) with: {'clf__C': 0.1, 'clf__kernel': 'rbf'}\n",
      "0.322536 (0.006294) with: {'clf__C': 1.0, 'clf__kernel': 'linear'}\n",
      "0.377037 (0.005882) with: {'clf__C': 1.0, 'clf__kernel': 'rbf'}\n",
      "0.322536 (0.006294) with: {'clf__C': 10, 'clf__kernel': 'linear'}\n",
      "0.408001 (0.007843) with: {'clf__C': 10, 'clf__kernel': 'rbf'}\n",
      "   clf__C clf__kernel     means      stds\n",
      "0     0.1      linear  0.323722  0.004081\n",
      "1     0.1         rbf  0.229404  0.001774\n",
      "2     1.0      linear  0.322536  0.006294\n",
      "3     1.0         rbf  0.377037  0.005882\n",
      "4    10.0      linear  0.322536  0.006294\n",
      "5    10.0         rbf  0.408001  0.007843\n",
      "Pipeline(steps=[('scl', None),\n",
      "                ('clf', SVC(C=10, probability=True, random_state=1))])\n",
      "{'Accuracy': 0.5965261958997722, 'MCC': 0.4301804415844613, 'log_loss': 1.0632020758563359, 'f1 score weighted': 0.5787275609959425, 'f1 score macro': 0.4070023009875328, 'f1 score micro': 0.5965261958997722, 'roc_auc ovr': 0.8104471012695029, 'roc_auc ovo': 0.7880596021160206, 'precision': 0.6093575531967271, 'recall': 0.5965261958997722}\n",
      "              precision    recall  f1-score   support\n",
      "\n",
      "           1       0.58      0.72      0.64      1158\n",
      "           2       0.66      0.71      0.68      1007\n",
      "           3       0.54      0.50      0.52       975\n",
      "           4       1.00      0.16      0.27       102\n",
      "           5       1.00      0.02      0.04        51\n",
      "           8       0.56      0.19      0.29       219\n",
      "\n",
      "    accuracy                           0.60      3512\n",
      "   macro avg       0.72      0.38      0.41      3512\n",
      "weighted avg       0.61      0.60      0.58      3512\n",
      "\n",
      "[[835 112 189   0   0  22]\n",
      " [146 713 147   0   0   1]\n",
      " [299 180 488   0   0   8]\n",
      " [ 19  38  29  16   0   0]\n",
      " [ 26  12  10   0   1   2]\n",
      " [109  21  47   0   0  42]]\n"
     ]
    },
    {
     "data": {
      "text/plain": "<Figure size 432x288 with 0 Axes>"
     },
     "metadata": {},
     "output_type": "display_data"
    }
   ],
   "source": [
    "SVM = ShallowML(X_train_enco_nz, X_test_enco_nz, y_train_enco_nz, y_test_enco_nz, report_name='svm_enco_nz', columns_names=colnames)\n",
    "best_svm_model = SVM.train_best_model(model_name='svm',model=None, scaler=None,score=make_scorer(matthews_corrcoef),\n",
    "                         cv=3, optType='gridSearch', param_grid=param_grid,\n",
    "                         n_jobs=5,random_state=1, n_iter=15, refit=True, probability=True)\n",
    "\n",
    "print(best_svm_model)\n",
    "scores, scores_per_class, cm, cm2 = SVM.score_testset()\n",
    "print(scores)\n",
    "print(scores_per_class)\n",
    "print(cm)"
   ],
   "metadata": {
    "collapsed": false,
    "pycharm": {
     "name": "#%%\n"
    }
   }
  },
  {
   "cell_type": "markdown",
   "source": [
    "O melhor modelo resultante do SVM obteve um MCC score de 0.43 e accuracy de 59.7%, a partir do seguinte dicionário de parâmetros {'clf__C': 10, 'clf__kernel': 'rbf'}\n",
    "Comparativamente ao SVM aplicado ao dataset com as features verifica-se que o dicionário de parâmetros é coincidente.\n",
    "### KNN"
   ],
   "metadata": {
    "collapsed": false,
    "pycharm": {
     "name": "#%% md\n"
    }
   }
  },
  {
   "cell_type": "code",
   "execution_count": 37,
   "outputs": [
    {
     "name": "stdout",
     "output_type": "stream",
     "text": [
      "performing gridSearch...\n",
      "GridSearchCV took 461.19 seconds for 24 candidate parameter settings.\n",
      "GridSearchCV(cv=5,\n",
      "             estimator=Pipeline(steps=[('scl', None),\n",
      "                                       ('clf', KNeighborsClassifier())]),\n",
      "             n_jobs=4,\n",
      "             param_grid=[{'clf__leaf_size': [15, 30, 60],\n",
      "                          'clf__n_neighbors': [2, 5, 10, 15],\n",
      "                          'clf__weights': ['uniform', 'distance']}],\n",
      "             scoring=make_scorer(matthews_corrcoef))\n",
      "Model with rank: 1\n",
      " Mean validation score: 0.394 (std: 0.009)\n",
      " Parameters: {'clf__leaf_size': 15, 'clf__n_neighbors': 2, 'clf__weights': 'distance'}\n",
      " \n",
      "\n",
      "Model with rank: 1\n",
      " Mean validation score: 0.394 (std: 0.009)\n",
      " Parameters: {'clf__leaf_size': 30, 'clf__n_neighbors': 2, 'clf__weights': 'distance'}\n",
      " \n",
      "\n",
      "Model with rank: 1\n",
      " Mean validation score: 0.394 (std: 0.009)\n",
      " Parameters: {'clf__leaf_size': 60, 'clf__n_neighbors': 2, 'clf__weights': 'distance'}\n",
      " \n",
      "\n",
      "make_scorer(matthews_corrcoef)\n",
      "5\n",
      "Best score (scorer: make_scorer(matthews_corrcoef)) and parameters from a 5-fold cross validation:\n",
      " MCC score:\t0.394\n",
      " Parameters:\t{'clf__leaf_size': 15, 'clf__n_neighbors': 2, 'clf__weights': 'distance'}\n",
      "\n",
      "0.368774 (0.010402) with: {'clf__leaf_size': 15, 'clf__n_neighbors': 2, 'clf__weights': 'uniform'}\n",
      "0.394227 (0.009036) with: {'clf__leaf_size': 15, 'clf__n_neighbors': 2, 'clf__weights': 'distance'}\n",
      "0.364506 (0.005350) with: {'clf__leaf_size': 15, 'clf__n_neighbors': 5, 'clf__weights': 'uniform'}\n",
      "0.378253 (0.008058) with: {'clf__leaf_size': 15, 'clf__n_neighbors': 5, 'clf__weights': 'distance'}\n",
      "0.348243 (0.013531) with: {'clf__leaf_size': 15, 'clf__n_neighbors': 10, 'clf__weights': 'uniform'}\n",
      "0.364737 (0.011223) with: {'clf__leaf_size': 15, 'clf__n_neighbors': 10, 'clf__weights': 'distance'}\n",
      "0.334722 (0.019198) with: {'clf__leaf_size': 15, 'clf__n_neighbors': 15, 'clf__weights': 'uniform'}\n",
      "0.348705 (0.017371) with: {'clf__leaf_size': 15, 'clf__n_neighbors': 15, 'clf__weights': 'distance'}\n",
      "0.368774 (0.010402) with: {'clf__leaf_size': 30, 'clf__n_neighbors': 2, 'clf__weights': 'uniform'}\n",
      "0.394227 (0.009036) with: {'clf__leaf_size': 30, 'clf__n_neighbors': 2, 'clf__weights': 'distance'}\n",
      "0.364506 (0.005350) with: {'clf__leaf_size': 30, 'clf__n_neighbors': 5, 'clf__weights': 'uniform'}\n",
      "0.378253 (0.008058) with: {'clf__leaf_size': 30, 'clf__n_neighbors': 5, 'clf__weights': 'distance'}\n",
      "0.348243 (0.013531) with: {'clf__leaf_size': 30, 'clf__n_neighbors': 10, 'clf__weights': 'uniform'}\n",
      "0.364737 (0.011223) with: {'clf__leaf_size': 30, 'clf__n_neighbors': 10, 'clf__weights': 'distance'}\n",
      "0.334722 (0.019198) with: {'clf__leaf_size': 30, 'clf__n_neighbors': 15, 'clf__weights': 'uniform'}\n",
      "0.348705 (0.017371) with: {'clf__leaf_size': 30, 'clf__n_neighbors': 15, 'clf__weights': 'distance'}\n",
      "0.368774 (0.010402) with: {'clf__leaf_size': 60, 'clf__n_neighbors': 2, 'clf__weights': 'uniform'}\n",
      "0.394227 (0.009036) with: {'clf__leaf_size': 60, 'clf__n_neighbors': 2, 'clf__weights': 'distance'}\n",
      "0.364506 (0.005350) with: {'clf__leaf_size': 60, 'clf__n_neighbors': 5, 'clf__weights': 'uniform'}\n",
      "0.378253 (0.008058) with: {'clf__leaf_size': 60, 'clf__n_neighbors': 5, 'clf__weights': 'distance'}\n",
      "0.348243 (0.013531) with: {'clf__leaf_size': 60, 'clf__n_neighbors': 10, 'clf__weights': 'uniform'}\n",
      "0.364737 (0.011223) with: {'clf__leaf_size': 60, 'clf__n_neighbors': 10, 'clf__weights': 'distance'}\n",
      "0.334722 (0.019198) with: {'clf__leaf_size': 60, 'clf__n_neighbors': 15, 'clf__weights': 'uniform'}\n",
      "0.348705 (0.017371) with: {'clf__leaf_size': 60, 'clf__n_neighbors': 15, 'clf__weights': 'distance'}\n",
      "    clf__leaf_size  clf__n_neighbors clf__weights     means      stds\n",
      "0               15                 2      uniform  0.368774  0.010402\n",
      "1               15                 2     distance  0.394227  0.009036\n",
      "2               15                 5      uniform  0.364506  0.005350\n",
      "3               15                 5     distance  0.378253  0.008058\n",
      "4               15                10      uniform  0.348243  0.013531\n",
      "5               15                10     distance  0.364737  0.011223\n",
      "6               15                15      uniform  0.334722  0.019198\n",
      "7               15                15     distance  0.348705  0.017371\n",
      "8               30                 2      uniform  0.368774  0.010402\n",
      "9               30                 2     distance  0.394227  0.009036\n",
      "10              30                 5      uniform  0.364506  0.005350\n",
      "11              30                 5     distance  0.378253  0.008058\n",
      "12              30                10      uniform  0.348243  0.013531\n",
      "13              30                10     distance  0.364737  0.011223\n",
      "14              30                15      uniform  0.334722  0.019198\n",
      "15              30                15     distance  0.348705  0.017371\n",
      "16              60                 2      uniform  0.368774  0.010402\n",
      "17              60                 2     distance  0.394227  0.009036\n",
      "18              60                 5      uniform  0.364506  0.005350\n",
      "19              60                 5     distance  0.378253  0.008058\n",
      "20              60                10      uniform  0.348243  0.013531\n",
      "21              60                10     distance  0.364737  0.011223\n",
      "22              60                15      uniform  0.334722  0.019198\n",
      "23              60                15     distance  0.348705  0.017371\n",
      "{'Accuracy': 0.5845671981776766, 'MCC': 0.42399011709500223, 'log_loss': 10.479561660147041, 'f1 score weighted': 0.5774346883559955, 'f1 score macro': 0.45945015948433904, 'f1 score micro': 0.5845671981776766, 'roc_auc ovr': 0.7545628583433815, 'roc_auc ovo': 0.71583361307386, 'precision': 0.5804043188037327, 'recall': 0.5845671981776766}\n",
      "              precision    recall  f1-score   support\n",
      "\n",
      "           1       0.63      0.57      0.60      1158\n",
      "           2       0.58      0.72      0.64      1007\n",
      "           3       0.57      0.56      0.57       975\n",
      "           4       0.56      0.46      0.51       102\n",
      "           5       0.12      0.06      0.08        51\n",
      "           8       0.51      0.28      0.36       219\n",
      "\n",
      "    accuracy                           0.58      3512\n",
      "   macro avg       0.49      0.44      0.46      3512\n",
      "weighted avg       0.58      0.58      0.58      3512\n",
      "\n",
      "[[664 235 204  12  10  33]\n",
      " [106 729 145  13   5   9]\n",
      " [193 203 548  10   5  16]\n",
      " [ 12  28  14  47   0   1]\n",
      " [ 17  19  11   0   3   1]\n",
      " [ 67  47  40   2   1  62]]\n"
     ]
    },
    {
     "data": {
      "text/plain": "<Figure size 432x288 with 0 Axes>"
     },
     "metadata": {},
     "output_type": "display_data"
    }
   ],
   "source": [
    "KNN = ShallowML(X_train_enco_nz, X_test_enco_nz, y_train_enco_nz, y_test_enco_nz, report_name='knn_enco_nz', columns_names = colnames)\n",
    "best_knn_model = KNN.train_best_model(model_name='knn',model=None, scaler=None,score=make_scorer(matthews_corrcoef),\n",
    "                         cv=5, optType='gridSearch', param_grid=None,\n",
    "                         n_jobs=4,random_state=1, n_iter=15, refit=True)\n",
    "\n",
    "scores, scores_per_class, cm, cm2 = KNN.score_testset()\n",
    "print(scores)\n",
    "print(scores_per_class)\n",
    "print(cm)"
   ],
   "metadata": {
    "collapsed": false,
    "pycharm": {
     "name": "#%%\n"
    }
   }
  },
  {
   "cell_type": "markdown",
   "source": [
    "O melhor modelo resultante do KNN obteve um MCC score de 0.42 e accuracy de 58.5%, a partir do seguinte dicionário de parâmetros {'clf__leaf_size': 15/30/60, 'clf__n_neighbors': 2, 'clf__weights': 'distance'}\n",
    "À semelhança dos modelos anteriores verifica-se que o dicionário de parâmetros é coincidente com o obtido através do dataset com as features.\n",
    "Analisando os três modelos, verifica-se que o melhor modelo, para a classificação multiclasse sem a classe dos não transportadores com transformação por *one-hot-encoding*, foi o SVM com um MCC score de 0.44 e accuracy de 56.7%.\n",
    "\n",
    "Através da comparação de modelos para a classificação multiclasse sem a classe dos não transportadores, utilizando as features e one-hot-encoding. Verificamos que o SVM para o dataset utilizando as features, à semelhança do observado nas classificações anteriores, foi o melhor modelo com um MCC score de 0.64. \n",
    "\n",
    "# Conclusão\n",
    "\n",
    "Com os resultados obtidos para os modelos treinados ao longo do trabalho, foi possível verificar que:\n",
    "- Na classificação através das features o modelo de SVM obtinha o melhor MCC, seguido pelo RF e o KNN foi sempre o modelo com menor score;\n",
    "- Na classificação através do Hot-encoding o modelo que obteve melhor MCC foi os SVM’s, seguidos pelos KNN e por fim os RF.\n",
    "- Em todos os casos todos os modelos obtidos através das features, tiveram uma melhor performance que os modelos obtidos através da técnica de Hot-encoding.\n",
    "- A classificação binária obteve melhores scores relativamente as classificações multiclasse testadas, corroborando os resultados obtidos na etapa 2 em que existia uma melhor separação entre transportador e não transportador do que entre várias classes de transportadores.\n",
    "- Nas confusion matrix relativas à classificação multiclasse, ocorre sempre uma dispersão superior sobre as 4 classes mais representadas.\n",
    "\n",
    "\n",
    "Relativamente à diferença verificada entre o hot-encoding e utilização das features, esta diferença deve-se ao facto de os modelos de ML tradicional serem dependentes do processo de feature engineering, processo de transformação dos dados para facilitar e permitir ao modelo obter melhores resultados downstream. A técnica de hot-encoding é um método de codificar a sequencia e não um método de feature engineering como o cálculo de descritores físico-quimicos, não conseguindo desta forma captar informação relevante/necessária para a obtenção de resultados otimais através de métodos tradicionais.\n",
    "Na seguinte (etapa 4), os algoritmos de Deep Learning acabam por realizar este processo de feature enginering e sendo espectável que a capacidade dos modelos seja capaz superior a lidar com a informação de hot encoding."
   ],
   "metadata": {
    "collapsed": false,
    "pycharm": {
     "name": "#%% md\n"
    }
   }
  }
 ],
 "metadata": {
  "kernelspec": {
   "display_name": "Python 3 (ipykernel)",
   "language": "python",
   "name": "python3"
  },
  "language_info": {
   "codemirror_mode": {
    "name": "ipython",
    "version": 3
   },
   "file_extension": ".py",
   "mimetype": "text/x-python",
   "name": "python",
   "nbconvert_exporter": "python",
   "pygments_lexer": "ipython3",
   "version": "3.9.6"
  }
 },
 "nbformat": 4,
 "nbformat_minor": 1
}