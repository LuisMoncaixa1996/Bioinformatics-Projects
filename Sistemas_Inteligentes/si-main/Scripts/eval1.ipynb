{
 "cells": [
  {
   "cell_type": "markdown",
   "id": "b81c0500",
   "metadata": {},
   "source": [
    "# Sistemas Inteligentes para Bioinformática"
   ]
  },
  {
   "cell_type": "markdown",
   "id": "0332d971",
   "metadata": {},
   "source": [
    "Exemplos de validação de código. Deverá corrigir os imports e diretórios de acordo com a sua implementação."
   ]
  },
  {
   "cell_type": "code",
   "execution_count": 2,
   "id": "d7a5bba2",
   "metadata": {},
   "outputs": [],
   "source": [
    "from src.si.data import Dataset, summary\n",
    "import os"
   ]
  },
  {
   "cell_type": "code",
   "execution_count": 3,
   "id": "4df58c0c",
   "metadata": {},
   "outputs": [],
   "source": [
    "DIR = os.path.dirname(os.path.realpath('.'))\n",
    "filename = os.path.join(DIR, 'datasets/breast-bin.data')"
   ]
  },
  {
   "cell_type": "markdown",
   "id": "410820e3",
   "metadata": {},
   "source": [
    "## Labeled dataset"
   ]
  },
  {
   "cell_type": "code",
   "execution_count": 4,
   "id": "bf1b9bb6",
   "metadata": {},
   "outputs": [],
   "source": [
    "dataset = Dataset.from_data(filename, labeled=True)"
   ]
  },
  {
   "cell_type": "code",
   "execution_count": 5,
   "id": "09fb7585",
   "metadata": {},
   "outputs": [
    {
     "data": {
      "text/plain": [
       "array([[8., 4., 4., 1., 2., 9., 3., 3., 1.],\n",
       "       [5., 1., 1., 3., 2., 1., 1., 1., 1.],\n",
       "       [2., 1., 1., 1., 3., 1., 2., 1., 1.],\n",
       "       [2., 1., 1., 1., 2., 1., 3., 1., 1.],\n",
       "       [9., 5., 8., 1., 2., 3., 2., 1., 5.]])"
      ]
     },
     "execution_count": 5,
     "metadata": {},
     "output_type": "execute_result"
    }
   ],
   "source": [
    "dataset.X[:5, :]"
   ]
  },
  {
   "cell_type": "code",
   "execution_count": 6,
   "id": "593bebab",
   "metadata": {},
   "outputs": [
    {
     "data": {
      "text/plain": [
       "array([1., 0., 0., 0., 1.])"
      ]
     },
     "execution_count": 6,
     "metadata": {},
     "output_type": "execute_result"
    }
   ],
   "source": [
    "dataset.Y[:5]"
   ]
  },
  {
   "cell_type": "code",
   "execution_count": 7,
   "id": "b3420783",
   "metadata": {},
   "outputs": [
    {
     "name": "stdout",
     "output_type": "stream",
     "text": [
      "Has label: True\n",
      "Number of features: 9\n",
      "Number of classes: 2\n"
     ]
    },
    {
     "data": {
      "text/html": [
       "<div>\n",
       "<style scoped>\n",
       "    .dataframe tbody tr th:only-of-type {\n",
       "        vertical-align: middle;\n",
       "    }\n",
       "\n",
       "    .dataframe tbody tr th {\n",
       "        vertical-align: top;\n",
       "    }\n",
       "\n",
       "    .dataframe thead th {\n",
       "        text-align: right;\n",
       "    }\n",
       "</style>\n",
       "<table border=\"1\" class=\"dataframe\">\n",
       "  <thead>\n",
       "    <tr style=\"text-align: right;\">\n",
       "      <th></th>\n",
       "      <th>A</th>\n",
       "      <th>B</th>\n",
       "      <th>C</th>\n",
       "      <th>D</th>\n",
       "      <th>E</th>\n",
       "      <th>F</th>\n",
       "      <th>G</th>\n",
       "      <th>H</th>\n",
       "      <th>I</th>\n",
       "      <th>Y</th>\n",
       "    </tr>\n",
       "  </thead>\n",
       "  <tbody>\n",
       "    <tr>\n",
       "      <th>mean</th>\n",
       "      <td>4.417740</td>\n",
       "      <td>3.134478</td>\n",
       "      <td>3.207439</td>\n",
       "      <td>2.806867</td>\n",
       "      <td>3.216023</td>\n",
       "      <td>3.486409</td>\n",
       "      <td>3.437768</td>\n",
       "      <td>2.866953</td>\n",
       "      <td>1.589413</td>\n",
       "      <td>0.344778</td>\n",
       "    </tr>\n",
       "    <tr>\n",
       "      <th>var</th>\n",
       "      <td>7.917053</td>\n",
       "      <td>9.298082</td>\n",
       "      <td>8.819630</td>\n",
       "      <td>8.141527</td>\n",
       "      <td>4.896110</td>\n",
       "      <td>13.099601</td>\n",
       "      <td>5.937114</td>\n",
       "      <td>9.311340</td>\n",
       "      <td>2.937284</td>\n",
       "      <td>0.225906</td>\n",
       "    </tr>\n",
       "    <tr>\n",
       "      <th>max</th>\n",
       "      <td>10.000000</td>\n",
       "      <td>10.000000</td>\n",
       "      <td>10.000000</td>\n",
       "      <td>10.000000</td>\n",
       "      <td>10.000000</td>\n",
       "      <td>10.000000</td>\n",
       "      <td>10.000000</td>\n",
       "      <td>10.000000</td>\n",
       "      <td>10.000000</td>\n",
       "      <td>1.000000</td>\n",
       "    </tr>\n",
       "    <tr>\n",
       "      <th>min</th>\n",
       "      <td>1.000000</td>\n",
       "      <td>1.000000</td>\n",
       "      <td>1.000000</td>\n",
       "      <td>1.000000</td>\n",
       "      <td>1.000000</td>\n",
       "      <td>1.000000</td>\n",
       "      <td>1.000000</td>\n",
       "      <td>1.000000</td>\n",
       "      <td>1.000000</td>\n",
       "      <td>0.000000</td>\n",
       "    </tr>\n",
       "  </tbody>\n",
       "</table>\n",
       "</div>"
      ],
      "text/plain": [
       "              A          B          C          D          E          F  \\\n",
       "mean   4.417740   3.134478   3.207439   2.806867   3.216023   3.486409   \n",
       "var    7.917053   9.298082   8.819630   8.141527   4.896110  13.099601   \n",
       "max   10.000000  10.000000  10.000000  10.000000  10.000000  10.000000   \n",
       "min    1.000000   1.000000   1.000000   1.000000   1.000000   1.000000   \n",
       "\n",
       "              G          H          I         Y  \n",
       "mean   3.437768   2.866953   1.589413  0.344778  \n",
       "var    5.937114   9.311340   2.937284  0.225906  \n",
       "max   10.000000  10.000000  10.000000  1.000000  \n",
       "min    1.000000   1.000000   1.000000  0.000000  "
      ]
     },
     "execution_count": 7,
     "metadata": {},
     "output_type": "execute_result"
    }
   ],
   "source": [
    "print(\"Has label:\", dataset.hasLabel())\n",
    "print(\"Number of features:\", dataset.getNumFeatures())\n",
    "print(\"Number of classes:\", dataset.getNumClasses())\n",
    "summary(dataset)"
   ]
  },
  {
   "cell_type": "code",
   "execution_count": 8,
   "id": "a3035f51",
   "metadata": {},
   "outputs": [
    {
     "data": {
      "text/html": [
       "<div>\n",
       "<style scoped>\n",
       "    .dataframe tbody tr th:only-of-type {\n",
       "        vertical-align: middle;\n",
       "    }\n",
       "\n",
       "    .dataframe tbody tr th {\n",
       "        vertical-align: top;\n",
       "    }\n",
       "\n",
       "    .dataframe thead th {\n",
       "        text-align: right;\n",
       "    }\n",
       "</style>\n",
       "<table border=\"1\" class=\"dataframe\">\n",
       "  <thead>\n",
       "    <tr style=\"text-align: right;\">\n",
       "      <th></th>\n",
       "      <th>A</th>\n",
       "      <th>B</th>\n",
       "      <th>C</th>\n",
       "      <th>D</th>\n",
       "      <th>E</th>\n",
       "      <th>F</th>\n",
       "      <th>G</th>\n",
       "      <th>H</th>\n",
       "      <th>I</th>\n",
       "      <th>Y</th>\n",
       "    </tr>\n",
       "  </thead>\n",
       "  <tbody>\n",
       "    <tr>\n",
       "      <th>0</th>\n",
       "      <td>8.0</td>\n",
       "      <td>4.0</td>\n",
       "      <td>4.0</td>\n",
       "      <td>1.0</td>\n",
       "      <td>2.0</td>\n",
       "      <td>9.0</td>\n",
       "      <td>3.0</td>\n",
       "      <td>3.0</td>\n",
       "      <td>1.0</td>\n",
       "      <td>1.0</td>\n",
       "    </tr>\n",
       "    <tr>\n",
       "      <th>1</th>\n",
       "      <td>5.0</td>\n",
       "      <td>1.0</td>\n",
       "      <td>1.0</td>\n",
       "      <td>3.0</td>\n",
       "      <td>2.0</td>\n",
       "      <td>1.0</td>\n",
       "      <td>1.0</td>\n",
       "      <td>1.0</td>\n",
       "      <td>1.0</td>\n",
       "      <td>0.0</td>\n",
       "    </tr>\n",
       "    <tr>\n",
       "      <th>2</th>\n",
       "      <td>2.0</td>\n",
       "      <td>1.0</td>\n",
       "      <td>1.0</td>\n",
       "      <td>1.0</td>\n",
       "      <td>3.0</td>\n",
       "      <td>1.0</td>\n",
       "      <td>2.0</td>\n",
       "      <td>1.0</td>\n",
       "      <td>1.0</td>\n",
       "      <td>0.0</td>\n",
       "    </tr>\n",
       "    <tr>\n",
       "      <th>3</th>\n",
       "      <td>2.0</td>\n",
       "      <td>1.0</td>\n",
       "      <td>1.0</td>\n",
       "      <td>1.0</td>\n",
       "      <td>2.0</td>\n",
       "      <td>1.0</td>\n",
       "      <td>3.0</td>\n",
       "      <td>1.0</td>\n",
       "      <td>1.0</td>\n",
       "      <td>0.0</td>\n",
       "    </tr>\n",
       "    <tr>\n",
       "      <th>4</th>\n",
       "      <td>9.0</td>\n",
       "      <td>5.0</td>\n",
       "      <td>8.0</td>\n",
       "      <td>1.0</td>\n",
       "      <td>2.0</td>\n",
       "      <td>3.0</td>\n",
       "      <td>2.0</td>\n",
       "      <td>1.0</td>\n",
       "      <td>5.0</td>\n",
       "      <td>1.0</td>\n",
       "    </tr>\n",
       "    <tr>\n",
       "      <th>...</th>\n",
       "      <td>...</td>\n",
       "      <td>...</td>\n",
       "      <td>...</td>\n",
       "      <td>...</td>\n",
       "      <td>...</td>\n",
       "      <td>...</td>\n",
       "      <td>...</td>\n",
       "      <td>...</td>\n",
       "      <td>...</td>\n",
       "      <td>...</td>\n",
       "    </tr>\n",
       "    <tr>\n",
       "      <th>694</th>\n",
       "      <td>1.0</td>\n",
       "      <td>1.0</td>\n",
       "      <td>1.0</td>\n",
       "      <td>1.0</td>\n",
       "      <td>4.0</td>\n",
       "      <td>3.0</td>\n",
       "      <td>1.0</td>\n",
       "      <td>1.0</td>\n",
       "      <td>1.0</td>\n",
       "      <td>0.0</td>\n",
       "    </tr>\n",
       "    <tr>\n",
       "      <th>695</th>\n",
       "      <td>5.0</td>\n",
       "      <td>3.0</td>\n",
       "      <td>1.0</td>\n",
       "      <td>2.0</td>\n",
       "      <td>2.0</td>\n",
       "      <td>1.0</td>\n",
       "      <td>2.0</td>\n",
       "      <td>1.0</td>\n",
       "      <td>1.0</td>\n",
       "      <td>0.0</td>\n",
       "    </tr>\n",
       "    <tr>\n",
       "      <th>696</th>\n",
       "      <td>5.0</td>\n",
       "      <td>2.0</td>\n",
       "      <td>2.0</td>\n",
       "      <td>2.0</td>\n",
       "      <td>2.0</td>\n",
       "      <td>1.0</td>\n",
       "      <td>1.0</td>\n",
       "      <td>1.0</td>\n",
       "      <td>2.0</td>\n",
       "      <td>0.0</td>\n",
       "    </tr>\n",
       "    <tr>\n",
       "      <th>697</th>\n",
       "      <td>2.0</td>\n",
       "      <td>3.0</td>\n",
       "      <td>2.0</td>\n",
       "      <td>2.0</td>\n",
       "      <td>2.0</td>\n",
       "      <td>2.0</td>\n",
       "      <td>3.0</td>\n",
       "      <td>1.0</td>\n",
       "      <td>1.0</td>\n",
       "      <td>0.0</td>\n",
       "    </tr>\n",
       "    <tr>\n",
       "      <th>698</th>\n",
       "      <td>7.0</td>\n",
       "      <td>6.0</td>\n",
       "      <td>6.0</td>\n",
       "      <td>3.0</td>\n",
       "      <td>2.0</td>\n",
       "      <td>10.0</td>\n",
       "      <td>7.0</td>\n",
       "      <td>1.0</td>\n",
       "      <td>1.0</td>\n",
       "      <td>1.0</td>\n",
       "    </tr>\n",
       "  </tbody>\n",
       "</table>\n",
       "<p>699 rows × 10 columns</p>\n",
       "</div>"
      ],
      "text/plain": [
       "       A    B    C    D    E     F    G    H    I    Y\n",
       "0    8.0  4.0  4.0  1.0  2.0   9.0  3.0  3.0  1.0  1.0\n",
       "1    5.0  1.0  1.0  3.0  2.0   1.0  1.0  1.0  1.0  0.0\n",
       "2    2.0  1.0  1.0  1.0  3.0   1.0  2.0  1.0  1.0  0.0\n",
       "3    2.0  1.0  1.0  1.0  2.0   1.0  3.0  1.0  1.0  0.0\n",
       "4    9.0  5.0  8.0  1.0  2.0   3.0  2.0  1.0  5.0  1.0\n",
       "..   ...  ...  ...  ...  ...   ...  ...  ...  ...  ...\n",
       "694  1.0  1.0  1.0  1.0  4.0   3.0  1.0  1.0  1.0  0.0\n",
       "695  5.0  3.0  1.0  2.0  2.0   1.0  2.0  1.0  1.0  0.0\n",
       "696  5.0  2.0  2.0  2.0  2.0   1.0  1.0  1.0  2.0  0.0\n",
       "697  2.0  3.0  2.0  2.0  2.0   2.0  3.0  1.0  1.0  0.0\n",
       "698  7.0  6.0  6.0  3.0  2.0  10.0  7.0  1.0  1.0  1.0\n",
       "\n",
       "[699 rows x 10 columns]"
      ]
     },
     "execution_count": 8,
     "metadata": {},
     "output_type": "execute_result"
    }
   ],
   "source": [
    "dataset.toDataframe()"
   ]
  },
  {
   "cell_type": "markdown",
   "id": "687d166e",
   "metadata": {},
   "source": [
    "## Standard Scaler"
   ]
  },
  {
   "cell_type": "code",
   "execution_count": 9,
   "id": "57b53dc3",
   "metadata": {},
   "outputs": [
    {
     "data": {
      "text/html": [
       "<div>\n",
       "<style scoped>\n",
       "    .dataframe tbody tr th:only-of-type {\n",
       "        vertical-align: middle;\n",
       "    }\n",
       "\n",
       "    .dataframe tbody tr th {\n",
       "        vertical-align: top;\n",
       "    }\n",
       "\n",
       "    .dataframe thead th {\n",
       "        text-align: right;\n",
       "    }\n",
       "</style>\n",
       "<table border=\"1\" class=\"dataframe\">\n",
       "  <thead>\n",
       "    <tr style=\"text-align: right;\">\n",
       "      <th></th>\n",
       "      <th>A</th>\n",
       "      <th>B</th>\n",
       "      <th>C</th>\n",
       "      <th>D</th>\n",
       "      <th>E</th>\n",
       "      <th>F</th>\n",
       "      <th>G</th>\n",
       "      <th>H</th>\n",
       "      <th>I</th>\n",
       "      <th>Y</th>\n",
       "    </tr>\n",
       "  </thead>\n",
       "  <tbody>\n",
       "    <tr>\n",
       "      <th>mean</th>\n",
       "      <td>-3.811925e-17</td>\n",
       "      <td>-1.219816e-16</td>\n",
       "      <td>-6.607336e-17</td>\n",
       "      <td>9.148619e-17</td>\n",
       "      <td>6.607336e-17</td>\n",
       "      <td>-5.082566e-17</td>\n",
       "      <td>5.082566e-18</td>\n",
       "      <td>-8.386234e-17</td>\n",
       "      <td>-5.717887e-17</td>\n",
       "      <td>0.344778</td>\n",
       "    </tr>\n",
       "    <tr>\n",
       "      <th>var</th>\n",
       "      <td>1.000000e+00</td>\n",
       "      <td>1.000000e+00</td>\n",
       "      <td>1.000000e+00</td>\n",
       "      <td>1.000000e+00</td>\n",
       "      <td>1.000000e+00</td>\n",
       "      <td>1.000000e+00</td>\n",
       "      <td>1.000000e+00</td>\n",
       "      <td>1.000000e+00</td>\n",
       "      <td>1.000000e+00</td>\n",
       "      <td>0.225906</td>\n",
       "    </tr>\n",
       "    <tr>\n",
       "      <th>max</th>\n",
       "      <td>1.983939e+00</td>\n",
       "      <td>2.251526e+00</td>\n",
       "      <td>2.287222e+00</td>\n",
       "      <td>2.520955e+00</td>\n",
       "      <td>3.065906e+00</td>\n",
       "      <td>1.799664e+00</td>\n",
       "      <td>2.693171e+00</td>\n",
       "      <td>2.337594e+00</td>\n",
       "      <td>4.907421e+00</td>\n",
       "      <td>1.000000</td>\n",
       "    </tr>\n",
       "    <tr>\n",
       "      <th>min</th>\n",
       "      <td>-1.214667e+00</td>\n",
       "      <td>-6.999951e-01</td>\n",
       "      <td>-7.432990e-01</td>\n",
       "      <td>-6.332472e-01</td>\n",
       "      <td>-1.001495e+00</td>\n",
       "      <td>-6.869792e-01</td>\n",
       "      <td>-1.000471e+00</td>\n",
       "      <td>-6.118250e-01</td>\n",
       "      <td>-3.439118e-01</td>\n",
       "      <td>0.000000</td>\n",
       "    </tr>\n",
       "  </tbody>\n",
       "</table>\n",
       "</div>"
      ],
      "text/plain": [
       "                 A             B             C             D             E  \\\n",
       "mean -3.811925e-17 -1.219816e-16 -6.607336e-17  9.148619e-17  6.607336e-17   \n",
       "var   1.000000e+00  1.000000e+00  1.000000e+00  1.000000e+00  1.000000e+00   \n",
       "max   1.983939e+00  2.251526e+00  2.287222e+00  2.520955e+00  3.065906e+00   \n",
       "min  -1.214667e+00 -6.999951e-01 -7.432990e-01 -6.332472e-01 -1.001495e+00   \n",
       "\n",
       "                 F             G             H             I         Y  \n",
       "mean -5.082566e-17  5.082566e-18 -8.386234e-17 -5.717887e-17  0.344778  \n",
       "var   1.000000e+00  1.000000e+00  1.000000e+00  1.000000e+00  0.225906  \n",
       "max   1.799664e+00  2.693171e+00  2.337594e+00  4.907421e+00  1.000000  \n",
       "min  -6.869792e-01 -1.000471e+00 -6.118250e-01 -3.439118e-01  0.000000  "
      ]
     },
     "execution_count": 9,
     "metadata": {},
     "output_type": "execute_result"
    }
   ],
   "source": [
    "from src.si.data.scale import StandardScaler\n",
    "sc = StandardScaler()\n",
    "ds2 = sc.fit_transform(dataset)\n",
    "summary(ds2)"
   ]
  },
  {
   "cell_type": "markdown",
   "id": "b181d714",
   "metadata": {},
   "source": [
    "# Feature Selection"
   ]
  },
  {
   "cell_type": "code",
   "execution_count": 10,
   "id": "fe5a0ddb",
   "metadata": {},
   "outputs": [],
   "source": [
    "from src.si.data.Variance_Treshold import VarianceThreshold\n",
    "from src.si.data.SelectKBest import SelectKBest"
   ]
  },
  {
   "cell_type": "markdown",
   "id": "e2283f25",
   "metadata": {},
   "source": [
    "## Variance Threshold"
   ]
  },
  {
   "cell_type": "code",
   "execution_count": 11,
   "id": "077b82dd",
   "metadata": {},
   "outputs": [
    {
     "data": {
      "text/html": [
       "<div>\n",
       "<style scoped>\n",
       "    .dataframe tbody tr th:only-of-type {\n",
       "        vertical-align: middle;\n",
       "    }\n",
       "\n",
       "    .dataframe tbody tr th {\n",
       "        vertical-align: top;\n",
       "    }\n",
       "\n",
       "    .dataframe thead th {\n",
       "        text-align: right;\n",
       "    }\n",
       "</style>\n",
       "<table border=\"1\" class=\"dataframe\">\n",
       "  <thead>\n",
       "    <tr style=\"text-align: right;\">\n",
       "      <th></th>\n",
       "      <th>B</th>\n",
       "      <th>C</th>\n",
       "      <th>D</th>\n",
       "      <th>F</th>\n",
       "      <th>H</th>\n",
       "      <th>Y</th>\n",
       "    </tr>\n",
       "  </thead>\n",
       "  <tbody>\n",
       "    <tr>\n",
       "      <th>mean</th>\n",
       "      <td>3.134478</td>\n",
       "      <td>3.207439</td>\n",
       "      <td>2.806867</td>\n",
       "      <td>3.486409</td>\n",
       "      <td>2.866953</td>\n",
       "      <td>0.344778</td>\n",
       "    </tr>\n",
       "    <tr>\n",
       "      <th>var</th>\n",
       "      <td>9.298082</td>\n",
       "      <td>8.819630</td>\n",
       "      <td>8.141527</td>\n",
       "      <td>13.099601</td>\n",
       "      <td>9.311340</td>\n",
       "      <td>0.225906</td>\n",
       "    </tr>\n",
       "    <tr>\n",
       "      <th>max</th>\n",
       "      <td>10.000000</td>\n",
       "      <td>10.000000</td>\n",
       "      <td>10.000000</td>\n",
       "      <td>10.000000</td>\n",
       "      <td>10.000000</td>\n",
       "      <td>1.000000</td>\n",
       "    </tr>\n",
       "    <tr>\n",
       "      <th>min</th>\n",
       "      <td>1.000000</td>\n",
       "      <td>1.000000</td>\n",
       "      <td>1.000000</td>\n",
       "      <td>1.000000</td>\n",
       "      <td>1.000000</td>\n",
       "      <td>0.000000</td>\n",
       "    </tr>\n",
       "  </tbody>\n",
       "</table>\n",
       "</div>"
      ],
      "text/plain": [
       "              B          C          D          F          H         Y\n",
       "mean   3.134478   3.207439   2.806867   3.486409   2.866953  0.344778\n",
       "var    9.298082   8.819630   8.141527  13.099601   9.311340  0.225906\n",
       "max   10.000000  10.000000  10.000000  10.000000  10.000000  1.000000\n",
       "min    1.000000   1.000000   1.000000   1.000000   1.000000  0.000000"
      ]
     },
     "execution_count": 11,
     "metadata": {},
     "output_type": "execute_result"
    }
   ],
   "source": [
    "vt = VarianceThreshold(8)\n",
    "ds2 = vt.fit_transform(dataset)\n",
    "summary(ds2)"
   ]
  },
  {
   "cell_type": "markdown",
   "id": "af2a1979",
   "metadata": {},
   "source": [
    "## SelectKBest"
   ]
  },
  {
   "cell_type": "code",
   "execution_count": 12,
   "id": "3d5a323c",
   "metadata": {},
   "outputs": [
    {
     "data": {
      "text/html": [
       "<div>\n",
       "<style scoped>\n",
       "    .dataframe tbody tr th:only-of-type {\n",
       "        vertical-align: middle;\n",
       "    }\n",
       "\n",
       "    .dataframe tbody tr th {\n",
       "        vertical-align: top;\n",
       "    }\n",
       "\n",
       "    .dataframe thead th {\n",
       "        text-align: right;\n",
       "    }\n",
       "</style>\n",
       "<table border=\"1\" class=\"dataframe\">\n",
       "  <thead>\n",
       "    <tr style=\"text-align: right;\">\n",
       "      <th></th>\n",
       "      <th>A</th>\n",
       "      <th>G</th>\n",
       "      <th>B</th>\n",
       "      <th>C</th>\n",
       "      <th>F</th>\n",
       "      <th>Y</th>\n",
       "    </tr>\n",
       "  </thead>\n",
       "  <tbody>\n",
       "    <tr>\n",
       "      <th>mean</th>\n",
       "      <td>4.417740</td>\n",
       "      <td>3.437768</td>\n",
       "      <td>3.134478</td>\n",
       "      <td>3.207439</td>\n",
       "      <td>3.486409</td>\n",
       "      <td>0.344778</td>\n",
       "    </tr>\n",
       "    <tr>\n",
       "      <th>var</th>\n",
       "      <td>7.917053</td>\n",
       "      <td>5.937114</td>\n",
       "      <td>9.298082</td>\n",
       "      <td>8.819630</td>\n",
       "      <td>13.099601</td>\n",
       "      <td>0.225906</td>\n",
       "    </tr>\n",
       "    <tr>\n",
       "      <th>max</th>\n",
       "      <td>10.000000</td>\n",
       "      <td>10.000000</td>\n",
       "      <td>10.000000</td>\n",
       "      <td>10.000000</td>\n",
       "      <td>10.000000</td>\n",
       "      <td>1.000000</td>\n",
       "    </tr>\n",
       "    <tr>\n",
       "      <th>min</th>\n",
       "      <td>1.000000</td>\n",
       "      <td>1.000000</td>\n",
       "      <td>1.000000</td>\n",
       "      <td>1.000000</td>\n",
       "      <td>1.000000</td>\n",
       "      <td>0.000000</td>\n",
       "    </tr>\n",
       "  </tbody>\n",
       "</table>\n",
       "</div>"
      ],
      "text/plain": [
       "              A          G          B          C          F         Y\n",
       "mean   4.417740   3.437768   3.134478   3.207439   3.486409  0.344778\n",
       "var    7.917053   5.937114   9.298082   8.819630  13.099601  0.225906\n",
       "max   10.000000  10.000000  10.000000  10.000000  10.000000  1.000000\n",
       "min    1.000000   1.000000   1.000000   1.000000   1.000000  0.000000"
      ]
     },
     "execution_count": 12,
     "metadata": {},
     "output_type": "execute_result"
    }
   ],
   "source": [
    "# SelectKBest for classification\n",
    "skb = SelectKBest(5)\n",
    "ds3 = skb.fit_transform(dataset)\n",
    "summary(ds3)\n"
   ]
  },
  {
   "cell_type": "markdown",
   "id": "d32dff4c",
   "metadata": {},
   "source": [
    "# Clustering"
   ]
  },
  {
   "cell_type": "code",
   "execution_count": 13,
   "id": "a9562ff0",
   "metadata": {},
   "outputs": [],
   "source": [
    "from src.si.unsupervised.clustering import Kmeans\n",
    "import pandas as pd\n",
    "import matplotlib.pyplot as plt"
   ]
  },
  {
   "cell_type": "code",
   "execution_count": 14,
   "id": "20a110be",
   "metadata": {},
   "outputs": [],
   "source": [
    "# o dataset iris nao estava inicialmente no github\n",
    "filename = os.path.join(DIR, 'datasets/iris.data')\n",
    "df = pd.read_csv(filename)\n",
    "iris = Dataset.from_dataframe(df,ylabel=\"class\")"
   ]
  },
  {
   "cell_type": "code",
   "execution_count": 15,
   "id": "a8538bcd",
   "metadata": {},
   "outputs": [
    {
     "data": {
      "image/png": "[encoded data removed]",
      "text/plain": [
       "<Figure size 432x288 with 1 Axes>"
      ]
     },
     "metadata": {
      "needs_background": "light"
     },
     "output_type": "display_data"
    }
   ],
   "source": [
    "# indice das features para o plot\n",
    "c1 = 0\n",
    "c2 = 1\n",
    "# plot\n",
    "plt.scatter(iris.X[:,c1], iris.X[:,c2])\n",
    "plt.xlabel(iris._xnames[c1])\n",
    "plt.ylabel(iris._xnames[c2])\n",
    "plt.show()"
   ]
  },
  {
   "cell_type": "code",
   "execution_count": 16,
   "id": "3a83563a",
   "metadata": {},
   "outputs": [
    {
     "name": "stdout",
     "output_type": "stream",
     "text": [
      "[[6.3 3.3 6.  2.5]\n",
      " [5.8 2.6 4.  1.2]\n",
      " [5.2 3.4 1.4 0.2]]\n",
      "[[6.3 3.3 6.  2.5]\n",
      " [5.8 2.6 4.  1.2]\n",
      " [5.2 3.4 1.4 0.2]]\n"
     ]
    }
   ],
   "source": [
    "kmeans = Kmeans(3)\n",
    "cent, clust = kmeans.fit_transform(iris)"
   ]
  },
  {
   "cell_type": "code",
   "execution_count": 17,
   "id": "4a9cc736",
   "metadata": {},
   "outputs": [
    {
     "data": {
      "image/png": "[encoded data removed]",
      "text/plain": [
       "<Figure size 432x288 with 1 Axes>"
      ]
     },
     "metadata": {
      "needs_background": "light"
     },
     "output_type": "display_data"
    }
   ],
   "source": [
    "\n",
    "plt.scatter(iris.X[:,c1], iris.X[:,c2],c=clust)\n",
    "plt.scatter(cent[:,c1],cent[:,c2], s = 100, c = 'black',marker='x')\n",
    "plt.xlabel(iris._xnames[c1])\n",
    "plt.ylabel(iris._xnames[c2])\n",
    "plt.show()\n",
    "# podem obter clusterings diferentes já que estes dependem da escolha dos centroids iniciais"
   ]
  },
  {
   "cell_type": "markdown",
   "id": "2d9f986e",
   "metadata": {},
   "source": [
    "# PCA"
   ]
  },
  {
   "cell_type": "code",
   "execution_count": 18,
   "id": "36ccdbee",
   "metadata": {},
   "outputs": [],
   "source": [
    "from src.si.unsupervised.pca import PCA\n",
    "pca = PCA(2, scale = True)"
   ]
  },
  {
   "cell_type": "code",
   "execution_count": 19,
   "id": "5973a1a1",
   "metadata": {},
   "outputs": [
    {
     "name": "stdout",
     "output_type": "stream",
     "text": [
      "[53.42728504910812, 30.05643530541548, 12.02085821625506, 4.495421429221337]\n"
     ]
    }
   ],
   "source": [
    "reduced = pca.fit_transform(iris)\n",
    "print(pca.variance_explained())"
   ]
  },
  {
   "cell_type": "code",
   "execution_count": 20,
   "id": "165737a0",
   "metadata": {},
   "outputs": [
    {
     "data": {
      "text/html": [
       "<div>\n",
       "<style scoped>\n",
       "    .dataframe tbody tr th:only-of-type {\n",
       "        vertical-align: middle;\n",
       "    }\n",
       "\n",
       "    .dataframe tbody tr th {\n",
       "        vertical-align: top;\n",
       "    }\n",
       "\n",
       "    .dataframe thead th {\n",
       "        text-align: right;\n",
       "    }\n",
       "</style>\n",
       "<table border=\"1\" class=\"dataframe\">\n",
       "  <thead>\n",
       "    <tr style=\"text-align: right;\">\n",
       "      <th></th>\n",
       "      <th>pc1</th>\n",
       "      <th>pc2</th>\n",
       "      <th>class</th>\n",
       "    </tr>\n",
       "  </thead>\n",
       "  <tbody>\n",
       "    <tr>\n",
       "      <th>0</th>\n",
       "      <td>2.264542</td>\n",
       "      <td>-0.505704</td>\n",
       "      <td>Iris-setosa</td>\n",
       "    </tr>\n",
       "    <tr>\n",
       "      <th>1</th>\n",
       "      <td>2.086426</td>\n",
       "      <td>0.655405</td>\n",
       "      <td>Iris-setosa</td>\n",
       "    </tr>\n",
       "    <tr>\n",
       "      <th>2</th>\n",
       "      <td>2.36795</td>\n",
       "      <td>0.318477</td>\n",
       "      <td>Iris-setosa</td>\n",
       "    </tr>\n",
       "    <tr>\n",
       "      <th>3</th>\n",
       "      <td>2.304197</td>\n",
       "      <td>0.575368</td>\n",
       "      <td>Iris-setosa</td>\n",
       "    </tr>\n",
       "    <tr>\n",
       "      <th>4</th>\n",
       "      <td>2.388777</td>\n",
       "      <td>-0.674767</td>\n",
       "      <td>Iris-setosa</td>\n",
       "    </tr>\n",
       "    <tr>\n",
       "      <th>...</th>\n",
       "      <td>...</td>\n",
       "      <td>...</td>\n",
       "      <td>...</td>\n",
       "    </tr>\n",
       "    <tr>\n",
       "      <th>145</th>\n",
       "      <td>-1.870522</td>\n",
       "      <td>-0.382822</td>\n",
       "      <td>Iris-virginica</td>\n",
       "    </tr>\n",
       "    <tr>\n",
       "      <th>146</th>\n",
       "      <td>-1.558492</td>\n",
       "      <td>0.905314</td>\n",
       "      <td>Iris-virginica</td>\n",
       "    </tr>\n",
       "    <tr>\n",
       "      <th>147</th>\n",
       "      <td>-1.520845</td>\n",
       "      <td>-0.266795</td>\n",
       "      <td>Iris-virginica</td>\n",
       "    </tr>\n",
       "    <tr>\n",
       "      <th>148</th>\n",
       "      <td>-1.376391</td>\n",
       "      <td>-1.016362</td>\n",
       "      <td>Iris-virginica</td>\n",
       "    </tr>\n",
       "    <tr>\n",
       "      <th>149</th>\n",
       "      <td>-0.959299</td>\n",
       "      <td>0.022284</td>\n",
       "      <td>Iris-virginica</td>\n",
       "    </tr>\n",
       "  </tbody>\n",
       "</table>\n",
       "<p>150 rows × 3 columns</p>\n",
       "</div>"
      ],
      "text/plain": [
       "          pc1       pc2           class\n",
       "0    2.264542 -0.505704     Iris-setosa\n",
       "1    2.086426  0.655405     Iris-setosa\n",
       "2     2.36795  0.318477     Iris-setosa\n",
       "3    2.304197  0.575368     Iris-setosa\n",
       "4    2.388777 -0.674767     Iris-setosa\n",
       "..        ...       ...             ...\n",
       "145 -1.870522 -0.382822  Iris-virginica\n",
       "146 -1.558492  0.905314  Iris-virginica\n",
       "147 -1.520845 -0.266795  Iris-virginica\n",
       "148 -1.376391 -1.016362  Iris-virginica\n",
       "149 -0.959299  0.022284  Iris-virginica\n",
       "\n",
       "[150 rows x 3 columns]"
      ]
     },
     "execution_count": 20,
     "metadata": {},
     "output_type": "execute_result"
    }
   ],
   "source": [
    "iris_pca = Dataset(reduced,iris.Y,xnames=['pc1','pc2'],yname='class')\n",
    "iris_pca.toDataframe()"
   ]
  },
  {
   "cell_type": "code",
   "execution_count": 21,
   "id": "7ca96668",
   "metadata": {},
   "outputs": [
    {
     "data": {
      "image/png": "[encoded data removed]",
      "text/plain": [
       "<Figure size 432x288 with 1 Axes>"
      ]
     },
     "metadata": {
      "needs_background": "light"
     },
     "output_type": "display_data"
    }
   ],
   "source": [
    "plt.scatter(iris_pca.X[:,0], iris_pca.X[:,1])\n",
    "plt.xlabel(\"PC1\")\n",
    "plt.ylabel(\"PC2\")\n",
    "plt.show()"
   ]
  },
  {
   "cell_type": "code",
   "execution_count": 22,
   "id": "0908c3c8",
   "metadata": {},
   "outputs": [
    {
     "ename": "TypeError",
     "evalue": "Can't instantiate abstract class KNN with abstract methods predict",
     "output_type": "error",
     "traceback": [
      "\u001b[1;31m---------------------------------------------------------------------------\u001b[0m",
      "\u001b[1;31mTypeError\u001b[0m                                 Traceback (most recent call last)",
      "\u001b[1;32m<ipython-input-22-4e5d26c55191>\u001b[0m in \u001b[0;36m<module>\u001b[1;34m\u001b[0m\n\u001b[0;32m      1\u001b[0m \u001b[1;31m# KNN\u001b[0m\u001b[1;33m\u001b[0m\u001b[1;33m\u001b[0m\u001b[1;33m\u001b[0m\u001b[0m\n\u001b[0;32m      2\u001b[0m \u001b[1;32mfrom\u001b[0m \u001b[0msrc\u001b[0m\u001b[1;33m.\u001b[0m\u001b[0msi\u001b[0m\u001b[1;33m.\u001b[0m\u001b[0msupervised\u001b[0m\u001b[1;33m.\u001b[0m\u001b[0mKNN\u001b[0m \u001b[1;32mimport\u001b[0m \u001b[0mKNN\u001b[0m\u001b[1;33m\u001b[0m\u001b[1;33m\u001b[0m\u001b[0m\n\u001b[1;32m----> 3\u001b[1;33m \u001b[0mknn\u001b[0m \u001b[1;33m=\u001b[0m \u001b[0mKNN\u001b[0m\u001b[1;33m(\u001b[0m\u001b[1;36m1\u001b[0m\u001b[1;33m)\u001b[0m\u001b[1;33m\u001b[0m\u001b[1;33m\u001b[0m\u001b[0m\n\u001b[0m\u001b[0;32m      4\u001b[0m \u001b[1;33m\u001b[0m\u001b[0m\n\u001b[0;32m      5\u001b[0m \u001b[0mknn\u001b[0m\u001b[1;33m.\u001b[0m\u001b[0mfit\u001b[0m\u001b[1;33m(\u001b[0m\u001b[0miris\u001b[0m\u001b[1;33m)\u001b[0m\u001b[1;33m\u001b[0m\u001b[1;33m\u001b[0m\u001b[0m\n",
      "\u001b[1;31mTypeError\u001b[0m: Can't instantiate abstract class KNN with abstract methods predict"
     ]
    }
   ],
   "source": [
    "# KNN\n",
    "from src.si.supervised.KNN import KNN\n",
    "knn = KNN(1)\n",
    "\n",
    "knn.fit(iris)\n",
    "\n",
    "idx = 50\n",
    "x = iris.X[idx,:]\n",
    "pred = knn.predict(x)\n",
    "\n",
    "print(f'Prediction: {pred}')\n",
    "print(f'True: {iris.Y[id]}')\n",
    "print(knn.cost())"
   ]
  },
  {
   "cell_type": "code",
   "execution_count": 23,
   "id": "1901743f",
   "metadata": {
    "collapsed": false,
    "pycharm": {
     "name": "#%%\n"
    }
   },
   "outputs": [
    {
     "name": "stdout",
     "output_type": "stream",
     "text": [
      "(120, 4)\n",
      "(30, 4)\n"
     ]
    }
   ],
   "source": [
    "from src.si.util import train_test_split\n",
    "\n",
    "train,test = train_test_split(iris)\n",
    "print(train.X.shape)\n",
    "print(test.X.shape)"
   ]
  },
  {
   "cell_type": "code",
   "execution_count": 24,
   "id": "22407fa8",
   "metadata": {
    "collapsed": false,
    "pycharm": {
     "name": "#%%\n"
    }
   },
   "outputs": [
    {
     "ename": "TypeError",
     "evalue": "unsupported operand type(s) for /: 'str' and 'int'",
     "output_type": "error",
     "traceback": [
      "\u001b[1;31m---------------------------------------------------------------------------\u001b[0m",
      "\u001b[1;31mTypeError\u001b[0m                                 Traceback (most recent call last)",
      "\u001b[1;32m<ipython-input-24-e4f30a1b869e>\u001b[0m in \u001b[0;36m<module>\u001b[1;34m\u001b[0m\n\u001b[1;32m----> 1\u001b[1;33m \u001b[0msummary\u001b[0m\u001b[1;33m(\u001b[0m\u001b[0mtrain\u001b[0m\u001b[1;33m)\u001b[0m\u001b[1;33m\u001b[0m\u001b[1;33m\u001b[0m\u001b[0m\n\u001b[0m",
      "\u001b[1;32m~\\OneDrive\\Ambiente de Trabalho\\Mestrado Bioinformática\\Sistemas Inteligentes\\Avaliação Continua\\si-main\\src\\si\\data\\dataset.py\u001b[0m in \u001b[0;36msummary\u001b[1;34m(dataset, format)\u001b[0m\n\u001b[0;32m    128\u001b[0m     \u001b[1;32mfor\u001b[0m \u001b[0mi\u001b[0m \u001b[1;32min\u001b[0m \u001b[0mrange\u001b[0m\u001b[1;33m(\u001b[0m\u001b[0midx\u001b[0m\u001b[1;33m.\u001b[0m\u001b[0mshape\u001b[0m\u001b[1;33m[\u001b[0m\u001b[1;36m1\u001b[0m\u001b[1;33m]\u001b[0m\u001b[1;33m)\u001b[0m\u001b[1;33m:\u001b[0m\u001b[1;33m\u001b[0m\u001b[1;33m\u001b[0m\u001b[0m\n\u001b[0;32m    129\u001b[0m         value = {\n\u001b[1;32m--> 130\u001b[1;33m             \u001b[1;34m'mean'\u001b[0m \u001b[1;33m:\u001b[0m \u001b[0mnp\u001b[0m\u001b[1;33m.\u001b[0m\u001b[0mmean\u001b[0m\u001b[1;33m(\u001b[0m\u001b[0midx\u001b[0m\u001b[1;33m[\u001b[0m\u001b[1;33m:\u001b[0m\u001b[1;33m,\u001b[0m\u001b[0mi\u001b[0m\u001b[1;33m]\u001b[0m\u001b[1;33m,\u001b[0m\u001b[0maxis\u001b[0m\u001b[1;33m=\u001b[0m\u001b[1;36m0\u001b[0m\u001b[1;33m)\u001b[0m\u001b[1;33m,\u001b[0m\u001b[1;33m\u001b[0m\u001b[1;33m\u001b[0m\u001b[0m\n\u001b[0m\u001b[0;32m    131\u001b[0m             \u001b[1;34m'var'\u001b[0m\u001b[1;33m:\u001b[0m \u001b[0mnp\u001b[0m\u001b[1;33m.\u001b[0m\u001b[0mvar\u001b[0m\u001b[1;33m(\u001b[0m\u001b[0midx\u001b[0m\u001b[1;33m[\u001b[0m\u001b[1;33m:\u001b[0m\u001b[1;33m,\u001b[0m\u001b[0mi\u001b[0m\u001b[1;33m]\u001b[0m\u001b[1;33m,\u001b[0m\u001b[0maxis\u001b[0m\u001b[1;33m=\u001b[0m \u001b[1;36m0\u001b[0m\u001b[1;33m)\u001b[0m\u001b[1;33m,\u001b[0m\u001b[1;33m\u001b[0m\u001b[1;33m\u001b[0m\u001b[0m\n\u001b[0;32m    132\u001b[0m             \u001b[1;34m'max'\u001b[0m\u001b[1;33m:\u001b[0m \u001b[0mnp\u001b[0m\u001b[1;33m.\u001b[0m\u001b[0mmax\u001b[0m\u001b[1;33m(\u001b[0m\u001b[0midx\u001b[0m\u001b[1;33m[\u001b[0m\u001b[1;33m:\u001b[0m\u001b[1;33m,\u001b[0m\u001b[0mi\u001b[0m\u001b[1;33m]\u001b[0m\u001b[1;33m,\u001b[0m\u001b[0maxis\u001b[0m\u001b[1;33m=\u001b[0m\u001b[1;36m0\u001b[0m\u001b[1;33m)\u001b[0m\u001b[1;33m,\u001b[0m\u001b[1;33m\u001b[0m\u001b[1;33m\u001b[0m\u001b[0m\n",
      "\u001b[1;32m<__array_function__ internals>\u001b[0m in \u001b[0;36mmean\u001b[1;34m(*args, **kwargs)\u001b[0m\n",
      "\u001b[1;32m~\\anaconda3\\lib\\site-packages\\numpy\\core\\fromnumeric.py\u001b[0m in \u001b[0;36mmean\u001b[1;34m(a, axis, dtype, out, keepdims)\u001b[0m\n\u001b[0;32m   3370\u001b[0m             \u001b[1;32mreturn\u001b[0m \u001b[0mmean\u001b[0m\u001b[1;33m(\u001b[0m\u001b[0maxis\u001b[0m\u001b[1;33m=\u001b[0m\u001b[0maxis\u001b[0m\u001b[1;33m,\u001b[0m \u001b[0mdtype\u001b[0m\u001b[1;33m=\u001b[0m\u001b[0mdtype\u001b[0m\u001b[1;33m,\u001b[0m \u001b[0mout\u001b[0m\u001b[1;33m=\u001b[0m\u001b[0mout\u001b[0m\u001b[1;33m,\u001b[0m \u001b[1;33m**\u001b[0m\u001b[0mkwargs\u001b[0m\u001b[1;33m)\u001b[0m\u001b[1;33m\u001b[0m\u001b[1;33m\u001b[0m\u001b[0m\n\u001b[0;32m   3371\u001b[0m \u001b[1;33m\u001b[0m\u001b[0m\n\u001b[1;32m-> 3372\u001b[1;33m     return _methods._mean(a, axis=axis, dtype=dtype,\n\u001b[0m\u001b[0;32m   3373\u001b[0m                           out=out, **kwargs)\n\u001b[0;32m   3374\u001b[0m \u001b[1;33m\u001b[0m\u001b[0m\n",
      "\u001b[1;32m~\\anaconda3\\lib\\site-packages\\numpy\\core\\_methods.py\u001b[0m in \u001b[0;36m_mean\u001b[1;34m(a, axis, dtype, out, keepdims)\u001b[0m\n\u001b[0;32m    170\u001b[0m             \u001b[0mret\u001b[0m \u001b[1;33m=\u001b[0m \u001b[0mret\u001b[0m\u001b[1;33m.\u001b[0m\u001b[0mdtype\u001b[0m\u001b[1;33m.\u001b[0m\u001b[0mtype\u001b[0m\u001b[1;33m(\u001b[0m\u001b[0mret\u001b[0m \u001b[1;33m/\u001b[0m \u001b[0mrcount\u001b[0m\u001b[1;33m)\u001b[0m\u001b[1;33m\u001b[0m\u001b[1;33m\u001b[0m\u001b[0m\n\u001b[0;32m    171\u001b[0m     \u001b[1;32melse\u001b[0m\u001b[1;33m:\u001b[0m\u001b[1;33m\u001b[0m\u001b[1;33m\u001b[0m\u001b[0m\n\u001b[1;32m--> 172\u001b[1;33m         \u001b[0mret\u001b[0m \u001b[1;33m=\u001b[0m \u001b[0mret\u001b[0m \u001b[1;33m/\u001b[0m \u001b[0mrcount\u001b[0m\u001b[1;33m\u001b[0m\u001b[1;33m\u001b[0m\u001b[0m\n\u001b[0m\u001b[0;32m    173\u001b[0m \u001b[1;33m\u001b[0m\u001b[0m\n\u001b[0;32m    174\u001b[0m     \u001b[1;32mreturn\u001b[0m \u001b[0mret\u001b[0m\u001b[1;33m\u001b[0m\u001b[1;33m\u001b[0m\u001b[0m\n",
      "\u001b[1;31mTypeError\u001b[0m: unsupported operand type(s) for /: 'str' and 'int'"
     ]
    }
   ],
   "source": [
    "summary(train)"
   ]
  },
  {
   "cell_type": "code",
   "execution_count": null,
   "id": "f74c1c6a",
   "metadata": {
    "collapsed": false,
    "pycharm": {
     "name": "#%%\n"
    }
   },
   "outputs": [],
   "source": [
    "summary(test)"
   ]
  }
 ],
 "metadata": {
  "kernelspec": {
   "display_name": "Python 3",
   "language": "python",
   "name": "python3"
  },
  "language_info": {
   "codemirror_mode": {
    "name": "ipython",
    "version": 3
   },
   "file_extension": ".py",
   "mimetype": "text/x-python",
   "name": "python",
   "nbconvert_exporter": "python",
   "pygments_lexer": "ipython3",
   "version": "3.8.6"
  }
 },
 "nbformat": 4,
 "nbformat_minor": 5
}
