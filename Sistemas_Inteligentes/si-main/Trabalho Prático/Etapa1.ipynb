{
 "cells": [
  {
   "cell_type": "markdown",
   "source": [
    "# Introdução sobre Transportadores\n",
    "## Função Biológica\n",
    "Os transportadores fazem parte do conjunto das macromoléculas das proteínas. Este conjunto de proteínas é\n",
    "responsável por mediar o fluxo de solutos de entrada ou saida do citoplasma da celular pela membrana citoplasmática.\n",
    " Estes solutos podem variar desde iões a moléculas ou drogas, mantendo a homeostase celular.\n",
    "Para acrescentar, o transporte ocorre de duas formas: transporte ativo ou transporte passivo. O transporte\n",
    "passivo realiza-se com o intuito de facilitar o equilíbrio de substrato entre os dois espaços, o transporte\n",
    "ocorre por via de difusão (através da membrana ou canais) ou facilitada a favor do seu gradiente eletroquímico.\n",
    "No entanto o transporte ativo realiza-se com o intuito de acumular um substrato em um dos espaços, contrariando\n",
    "o gradiente químico. Os transportadores ativos copulam o movimento de outro substrato a favor do gradiente químico\n",
    "com o soluto a concentrar, dependendo da direção em que este substrato é concentrado podem ser classificados\n",
    "com simportes e antiportes.\n",
    "\n",
    "## Classes de transportadores\n",
    "De modo a classificar os diferentes transportadores, a Transporter Classification Database (TCDB) classificou\n",
    "os transportadores segundo um sistema de 5 níveis que segue a estrutura de N1.L1.N2.N3.N4. Os N são números e L\n",
    "são letras. O N1 representa a principal classe do transportador, atualmente existem 9 classes: 1: Canais ou Poros;\n",
    "2: Transportadores guiados pelo gradiente químico; 3: Transportadores ativos primários; 4: Grupos de\n",
    "translocadores; 5: Portadores de eletrões transmembranares; 6 e 7: Não definido; 8: Fatores acessórios;\n",
    "9: Sistemas de transportadores caraterizados incompletamente. O L1 representa a subclasse da classe, N2 a\n",
    "família/superfamília, N3 a subfamília e N4 a sub-subfamília.\n",
    "\n",
    "## Propythia Package\n",
    "O Propythia é uma plataforma genérica modular semi-automatizada que contém funções de classificação de proteínas\n",
    "baseando-se nas suas propriedades físico-químicas usando Machine-Learning e Deep-Learning.\n",
    "Este package procura facilitar as tarefas necessárias para machine learning e inclui modelos para leitura e\n",
    "alteração de sequências, determinação de diferentes tipos de descritores de proteínas, pré-processamento de\n",
    "datasets, FeatureSelection, redução de dimensionalidade, visualização t-SNE e UMAP, clustering, treino e\n",
    "optimização de modelos de machine-learning e deep-learning, bem como algorítmos de previsão.\n",
    "\n",
    "---\n",
    "## Imports"
   ],
   "metadata": {
    "collapsed": false
   }
  },
  {
   "cell_type": "code",
   "execution_count": 1,
   "outputs": [],
   "source": [
    "import numpy as np\n",
    "import pandas as pd\n",
    "from Util import histogram, barplot_counts, barplot_frequency, Calc_feature, Hotencoding\n",
    "from sklearn.feature_selection import mutual_info_classif\n",
    "from sklearn.preprocessing import StandardScaler"
   ],
   "metadata": {
    "collapsed": false,
    "pycharm": {
     "name": "#%%\n"
    }
   }
  },
  {
   "cell_type": "markdown",
   "source": [
    "---\n",
    "# Carregamento do dataset\n",
    "Neste passo foi carregado o dataset e foram anotadas as suas features."
   ],
   "metadata": {
    "collapsed": false
   }
  },
  {
   "cell_type": "code",
   "execution_count": 2,
   "outputs": [
    {
     "data": {
      "text/plain": "['Unnamed: 0',\n 'Fasta ID',\n 'Uniprot Accession',\n 'Sequence',\n 'Is transporter?',\n 'TCDB ID',\n 'Taxonomy Domain']"
     },
     "execution_count": 2,
     "metadata": {},
     "output_type": "execute_result"
    }
   ],
   "source": [
    "df = pd.read_csv('DataDoms.csv', sep= ',')\n",
    "list(df.columns)"
   ],
   "metadata": {
    "collapsed": false,
    "pycharm": {
     "name": "#%%\n"
    }
   }
  },
  {
   "cell_type": "markdown",
   "source": [
    "O dataset que irá ser usado será constituido com a:\n",
    "* Sequência dos transportadores ('Sequence');\n",
    "* Classificação binária de transportador ('Is transporter?')\n",
    "* Classificação atribuída pela TCDB ('TCDB ID')\n",
    "\n",
    "Estas serão as features principais que iremos usar para todas as futuras análises."
   ],
   "metadata": {
    "collapsed": false
   }
  },
  {
   "cell_type": "code",
   "execution_count": 3,
   "outputs": [
    {
     "data": {
      "text/plain": "                                                sequence  transporter  \\\n0      MSYKPIAPAPSSTPGSSTPGPGTPVPTGSVPSPSGSVPGAGAPFRP...            0   \n1      MSDDLPIDIHSSKLLDWLVSRRHCNKDWQKSVVAIREKIKHAILDM...            0   \n2      MPFDPAASPLSPSQARVLATLMEKARTVPDSYPMSLNGLLTGCNQK...            0   \n3      MIHFTKMHGLGNDFMVVDGVTQNVFFSPEQIRRLADRNFGIGFDQL...            0   \n4      MGSSTTEPDVGTTSNIETTTTLQNKNVNEVDQNKKSEQSNPSFKEV...            0   \n...                                                  ...          ...   \n33831  MRFGVVVLAIILLTGCSAMSAISDLLPSKDGIEATAQAGESNQKTG...            1   \n33832  MISIGLPNILKACLGYIVIVLMDAIWLPFATYMEFYPKLDDTHILF...            1   \n33833  MKQHCSSILNTLPPHRLMALDVMRGLTITAMILVNNPGSWSAMYWP...            1   \n33834  MILLTQSRFFSQKARCYITDNKRLFLPLLILIALVVPATRGFTLQA...            1   \n33835  MRYVRSLLGVGALLVGAGGAAAQPGAFPGAGERAPGGAPSAPVSAP...            1   \n\n           TCDB_ID  \n0                0  \n1                0  \n2                0  \n3                0  \n4                0  \n...            ...  \n33831    1.M.2.1.3  \n33832  9.B.309.1.5  \n33833  9.B.169.4.5  \n33834  2.A.119.3.4  \n33835   1.B.57.2.1  \n\n[33836 rows x 3 columns]",
      "text/html": "<div>\n<style scoped>\n    .dataframe tbody tr th:only-of-type {\n        vertical-align: middle;\n    }\n\n    .dataframe tbody tr th {\n        vertical-align: top;\n    }\n\n    .dataframe thead th {\n        text-align: right;\n    }\n</style>\n<table border=\"1\" class=\"dataframe\">\n  <thead>\n    <tr style=\"text-align: right;\">\n      <th></th>\n      <th>sequence</th>\n      <th>transporter</th>\n      <th>TCDB_ID</th>\n    </tr>\n  </thead>\n  <tbody>\n    <tr>\n      <th>0</th>\n      <td>MSYKPIAPAPSSTPGSSTPGPGTPVPTGSVPSPSGSVPGAGAPFRP...</td>\n      <td>0</td>\n      <td>0</td>\n    </tr>\n    <tr>\n      <th>1</th>\n      <td>MSDDLPIDIHSSKLLDWLVSRRHCNKDWQKSVVAIREKIKHAILDM...</td>\n      <td>0</td>\n      <td>0</td>\n    </tr>\n    <tr>\n      <th>2</th>\n      <td>MPFDPAASPLSPSQARVLATLMEKARTVPDSYPMSLNGLLTGCNQK...</td>\n      <td>0</td>\n      <td>0</td>\n    </tr>\n    <tr>\n      <th>3</th>\n      <td>MIHFTKMHGLGNDFMVVDGVTQNVFFSPEQIRRLADRNFGIGFDQL...</td>\n      <td>0</td>\n      <td>0</td>\n    </tr>\n    <tr>\n      <th>4</th>\n      <td>MGSSTTEPDVGTTSNIETTTTLQNKNVNEVDQNKKSEQSNPSFKEV...</td>\n      <td>0</td>\n      <td>0</td>\n    </tr>\n    <tr>\n      <th>...</th>\n      <td>...</td>\n      <td>...</td>\n      <td>...</td>\n    </tr>\n    <tr>\n      <th>33831</th>\n      <td>MRFGVVVLAIILLTGCSAMSAISDLLPSKDGIEATAQAGESNQKTG...</td>\n      <td>1</td>\n      <td>1.M.2.1.3</td>\n    </tr>\n    <tr>\n      <th>33832</th>\n      <td>MISIGLPNILKACLGYIVIVLMDAIWLPFATYMEFYPKLDDTHILF...</td>\n      <td>1</td>\n      <td>9.B.309.1.5</td>\n    </tr>\n    <tr>\n      <th>33833</th>\n      <td>MKQHCSSILNTLPPHRLMALDVMRGLTITAMILVNNPGSWSAMYWP...</td>\n      <td>1</td>\n      <td>9.B.169.4.5</td>\n    </tr>\n    <tr>\n      <th>33834</th>\n      <td>MILLTQSRFFSQKARCYITDNKRLFLPLLILIALVVPATRGFTLQA...</td>\n      <td>1</td>\n      <td>2.A.119.3.4</td>\n    </tr>\n    <tr>\n      <th>33835</th>\n      <td>MRYVRSLLGVGALLVGAGGAAAQPGAFPGAGERAPGGAPSAPVSAP...</td>\n      <td>1</td>\n      <td>1.B.57.2.1</td>\n    </tr>\n  </tbody>\n</table>\n<p>33836 rows × 3 columns</p>\n</div>"
     },
     "execution_count": 3,
     "metadata": {},
     "output_type": "execute_result"
    }
   ],
   "source": [
    "df_trans = df.iloc[:,3:6].copy()\n",
    "df_trans.columns = ['sequence', 'transporter','TCDB_ID'] #making features more callable\n",
    "df_trans"
   ],
   "metadata": {
    "collapsed": false,
    "pycharm": {
     "name": "#%%\n"
    }
   }
  },
  {
   "cell_type": "code",
   "execution_count": 4,
   "outputs": [
    {
     "data": {
      "text/plain": "transporter\n0    16918\n1    16918\ndtype: int64"
     },
     "execution_count": 4,
     "metadata": {},
     "output_type": "execute_result"
    }
   ],
   "source": [
    "groups = df_trans.groupby('transporter').size()\n",
    "groups"
   ],
   "metadata": {
    "collapsed": false,
    "pycharm": {
     "name": "#%%\n"
    }
   }
  },
  {
   "cell_type": "markdown",
   "source": [
    "O dataset é composto por um total de 33 836 sequências das quais 16918 são transportadores(1) e outros 16918\n",
    "são não transportadores(0).\n",
    "Em futuras análises será obtido uma previsão da classe principal do transportador através da utilização de descritores das sequências."
   ],
   "metadata": {
    "collapsed": false
   }
  },
  {
   "cell_type": "code",
   "execution_count": 5,
   "outputs": [
    {
     "data": {
      "text/plain": "TCDB_ID\n0    16918\n1     4667\n2     4045\n3     3944\n4      409\n5      203\n8      888\n9     2749\nA        3\nO        1\nP        2\nW        3\nX        4\ndtype: int64"
     },
     "execution_count": 5,
     "metadata": {},
     "output_type": "execute_result"
    }
   ],
   "source": [
    "seqs = df_trans.iloc[:,0].tolist()\n",
    "df_trans.TCDB_ID = df_trans.TCDB_ID.apply(lambda x: x[0])  # Alteração para guardar apenas o N1\n",
    "groups = df_trans.groupby('TCDB_ID').size()\n",
    "groups"
   ],
   "metadata": {
    "collapsed": false,
    "pycharm": {
     "name": "#%%\n"
    }
   }
  },
  {
   "cell_type": "markdown",
   "source": [
    "Através do agrupamento pela classe principal do transportador registamos que existem sequências associadas a\n",
    "classes como A,O,P,W,X que não são classes reais (devem ser removidas).Do mesmo modo, sequências associadas à\n",
    "classe 9 serão também excluídas do dataset, porque esta classe contêm sistemas de transportadores não caraterizados.\n",
    "\n",
    "Sendo de seguida filtrado o dataset.\n",
    "\n",
    "---\n",
    "# Filtragem do dataset\n",
    "## Remoção de sequencias com classes erráticas"
   ],
   "metadata": {
    "collapsed": false
   }
  },
  {
   "cell_type": "code",
   "execution_count": 6,
   "outputs": [
    {
     "name": "stdout",
     "output_type": "stream",
     "text": [
      "Were removed 2762 amino acid sequences from the dataset.\n",
      "Df = (33836, 7) | Df_cleaned = (31074, 3)\n"
     ]
    }
   ],
   "source": [
    "filter_list = ['0', '1', '2','3','4','5','8']\n",
    "df_trans = df_trans[df_trans.TCDB_ID.isin(filter_list)]\n",
    "print(f'Were removed {df.shape[0]-df_trans.shape[0]} amino acid sequences from the dataset.')\n",
    "print(f'Df = {df.shape} | Df_cleaned = {df_trans.shape}')\n"
   ],
   "metadata": {
    "collapsed": false,
    "pycharm": {
     "name": "#%%\n"
    }
   }
  },
  {
   "cell_type": "markdown",
   "source": [
    "## Verificação da existencia de duplicados"
   ],
   "metadata": {
    "collapsed": false
   }
  },
  {
   "cell_type": "code",
   "execution_count": 7,
   "outputs": [
    {
     "name": "stdout",
     "output_type": "stream",
     "text": [
      "Number of sequences with more then one class id: 0\n"
     ]
    }
   ],
   "source": [
    "duplicateRowsDF = df_trans[df_trans.duplicated(['sequence'])]\n",
    "count= 0\n",
    "for i in range(duplicateRowsDF.shape[0]):\n",
    "    var = duplicateRowsDF['sequence'].iloc[i]\n",
    "    for j in range(i,duplicateRowsDF.shape[0]):\n",
    "        if var == duplicateRowsDF.sequence.iloc[j]:\n",
    "            if duplicateRowsDF.TCDB_ID.iloc[i] != duplicateRowsDF.TCDB_ID.iloc[j]:\n",
    "                count +=1\n",
    "print('Number of sequences with more then one class id:',count)\n"
   ],
   "metadata": {
    "collapsed": false,
    "pycharm": {
     "name": "#%%\n"
    }
   }
  },
  {
   "cell_type": "markdown",
   "source": [
    "No total existem 452 entradas no dataset em que a sequência encontra-se repetida! Com ciclo for verificamos\n",
    "que para sequências iguais não lhes é atribuído uma classe diferente pelo TCDB, deste modo podemos remover as\n",
    "sequências repetidas mantendo sempre a última entrada dessa sequência.\n",
    "## Remoção de duplicados"
   ],
   "metadata": {
    "collapsed": false
   }
  },
  {
   "cell_type": "code",
   "execution_count": 8,
   "outputs": [
    {
     "name": "stdout",
     "output_type": "stream",
     "text": [
      "Original Dataset shape:  (31074, 3) \n",
      "Non-duplicate Dataset shape:  (30622, 3)\n"
     ]
    }
   ],
   "source": [
    "orig = df_trans.shape\n",
    "df_trans = df_trans.drop_duplicates(subset=['sequence'], keep= 'last')\n",
    "print('Original Dataset shape: ', orig,'\\nNon-duplicate Dataset shape: ', df_trans.shape)"
   ],
   "metadata": {
    "collapsed": false,
    "pycharm": {
     "name": "#%%\n"
    }
   }
  },
  {
   "cell_type": "markdown",
   "source": [
    "## Verificação das sequências proteicas\n",
    "De seguida, todas as sequências foram verificadas segundo a função protein_check do package ProPythia.\n",
    "\n",
    "Esta função permite identificar sequências que contenham aminoácidos ambíguos ou aminoácidos que não estejam\n",
    "incluidis na lista de 20 aminoácidos \"standart\", sendo estas sequências posteriormente removidas do dataset. O\n",
    "dataset sem sequências inválidas será guardado para formato .csv."
   ],
   "metadata": {
    "collapsed": false
   }
  },
  {
   "cell_type": "code",
   "execution_count": 9,
   "outputs": [
    {
     "name": "stdout",
     "output_type": "stream",
     "text": [
      "Were removed 117 uncertain amino acid sequences from the dataset.\n",
      "Df = (30622, 3) | Df_cleaned = (30505, 3)\n"
     ]
    },
    {
     "data": {
      "text/plain": "                                            sequence  transporter TCDB_ID\n0  MSYKPIAPAPSSTPGSSTPGPGTPVPTGSVPSPSGSVPGAGAPFRP...            0       0\n1  MSDDLPIDIHSSKLLDWLVSRRHCNKDWQKSVVAIREKIKHAILDM...            0       0\n2  MPFDPAASPLSPSQARVLATLMEKARTVPDSYPMSLNGLLTGCNQK...            0       0",
      "text/html": "<div>\n<style scoped>\n    .dataframe tbody tr th:only-of-type {\n        vertical-align: middle;\n    }\n\n    .dataframe tbody tr th {\n        vertical-align: top;\n    }\n\n    .dataframe thead th {\n        text-align: right;\n    }\n</style>\n<table border=\"1\" class=\"dataframe\">\n  <thead>\n    <tr style=\"text-align: right;\">\n      <th></th>\n      <th>sequence</th>\n      <th>transporter</th>\n      <th>TCDB_ID</th>\n    </tr>\n  </thead>\n  <tbody>\n    <tr>\n      <th>0</th>\n      <td>MSYKPIAPAPSSTPGSSTPGPGTPVPTGSVPSPSGSVPGAGAPFRP...</td>\n      <td>0</td>\n      <td>0</td>\n    </tr>\n    <tr>\n      <th>1</th>\n      <td>MSDDLPIDIHSSKLLDWLVSRRHCNKDWQKSVVAIREKIKHAILDM...</td>\n      <td>0</td>\n      <td>0</td>\n    </tr>\n    <tr>\n      <th>2</th>\n      <td>MPFDPAASPLSPSQARVLATLMEKARTVPDSYPMSLNGLLTGCNQK...</td>\n      <td>0</td>\n      <td>0</td>\n    </tr>\n  </tbody>\n</table>\n</div>"
     },
     "execution_count": 9,
     "metadata": {},
     "output_type": "execute_result"
    }
   ],
   "source": [
    "from propythia.adjuv_functions.sequence.pro_check import protein_check\n",
    "df_clean = df_trans.copy().reset_index(drop=True)\n",
    "remove_rows = 0\n",
    "for index in range(df_trans.shape[0]):\n",
    "    if protein_check(df_trans.sequence.iloc[index]) == 0:\n",
    "        df_clean.drop(index= index,axis = 0,inplace=True)\n",
    "        remove_rows+= 1\n",
    "\n",
    "print(f'Were removed {remove_rows} uncertain amino acid sequences from the dataset.')\n",
    "print(f'Df = {df_trans.shape} | Df_cleaned = {df_clean.shape}')\n",
    "\n",
    "df_clean.iloc[:3,:]\n",
    "\n"
   ],
   "metadata": {
    "collapsed": false,
    "pycharm": {
     "name": "#%%\n"
    }
   }
  },
  {
   "cell_type": "markdown",
   "source": [
    "---\n",
    "# Features\n",
    "## Feature calculation\n",
    "O próximo passo com o dataset filtrado e selecionado foi o cálculo dos descritores das sequências proteicas.\n",
    "Para tal, foi utilizado a função adapAATra da classe Descriptor permitindo o cálculo de múltiplos descritores\n",
    "presentes no package, dado origem a um dataset com a informação dos descritores.\n",
    "\n",
    "(Aviso: Não correr processo, processo demora cerca de 4h com recurso de 5 cores no CPU. Informação resoltante deste processo pode ser encontrada no Features.csv)"
   ],
   "metadata": {
    "collapsed": false
   }
  },
  {
   "cell_type": "code",
   "execution_count": 10,
   "outputs": [],
   "source": [
    "# from Features import Calc_feature\n",
    "#\n",
    "# fea = Calc_feature(df_clean, 'sequence',[19, 20, 21, 24, 26, 32], 'Features.csv')\n",
    "# fea.run()\n",
    "# fea.toDataframe()"
   ],
   "metadata": {
    "collapsed": false,
    "pycharm": {
     "name": "#%%\n"
    }
   }
  },
  {
   "cell_type": "markdown",
   "source": [
    "Estes descritores são referentes a propriedades físico-químicas (como a polaridade, carga, conteudo de enxofre,\n",
    "entre outras) e estruturais (como a frequência dos diferentes aminoácidos e diferentes ligações aa-aa presentes\n",
    "na sequência) que se consegue determinar a partir das diferentes sequências proteicas.\n",
    "\n",
    "## Análise exploratória das features"
   ],
   "metadata": {
    "collapsed": false
   }
  },
  {
   "cell_type": "code",
   "execution_count": 11,
   "outputs": [
    {
     "data": {
      "text/plain": "                                                sequence  lenght  charge  \\\n0      MSYKPIAPAPSSTPGSSTPGPGTPVPTGSVPSPSGSVPGAGAPFRP...   126.0   4.034   \n1      MSDDLPIDIHSSKLLDWLVSRRHCNKDWQKSVVAIREKIKHAILDM...   489.0 -14.152   \n2      MPFDPAASPLSPSQARVLATLMEKARTVPDSYPMSLNGLLTGCNQK...   240.0  -3.983   \n3      MIHFTKMHGLGNDFMVVDGVTQNVFFSPEQIRRLADRNFGIGFDQL...   275.0  -0.697   \n4      MGSSTTEPDVGTTSNIETTTTLQNKNVNEVDQNKKSEQSNPSFKEV...   426.0   5.166   \n...                                                  ...     ...     ...   \n30500  MPEGKFCNRKPVNTEEDLKALLGDKGGAQYYKEMEELEVDQEALWA...   461.0 -13.083   \n30501  MQHANTNKSLMTPGNIITGIILVMGLVLTVLRFTKGIGAVSNLDDN...   388.0   4.014   \n30502  MRFGVVVLAIILLTGCSAMSAISDLLPSKDGIEATAQAGESNQKTG...   134.0   0.036   \n30503  MILLTQSRFFSQKARCYITDNKRLFLPLLILIALVVPATRGFTLQA...   390.0   2.890   \n30504  MRYVRSLLGVGALLVGAGGAAAQPGAFPGAGERAPGGAPSAPVSAP...   413.0  -0.002   \n\n       chargedensity  formulaC  formulaH  formulaN  formulaO  formulaS   tot  \\\n0       3.079204e-04       569       905       159       181         6  2119   \n1      -2.539340e-04      2438      3878       654       785        15  8946   \n2      -1.550475e-04      1109      1754       312       360         9  4154   \n3      -2.289178e-05      1330      2079       365       413        14  4928   \n4       1.067265e-04      2025      3145       565       746        12  7641   \n...              ...       ...       ...       ...       ...       ...   ...   \n30500  -2.481132e-04      2312      3540       624       700        38  8551   \n30501   9.299716e-05      2024      3077       487       516        19  7056   \n30502   2.610495e-06       588       977       163       205         4  2237   \n30503   6.803041e-05      1968      3049       455       539        16  7031   \n30504  -4.609238e-08      1931      2945       537       591         3  6961   \n\n       ...  _HydrophobicityD2001  _HydrophobicityD2025  _HydrophobicityD2050  \\\n0      ...                 2.740                28.767                57.534   \n1      ...                 1.333                91.333               160.000   \n2      ...                 1.852                51.852               117.593   \n3      ...                 3.191                81.915               158.511   \n4      ...                 1.227                87.117               142.331   \n...    ...                   ...                   ...                   ...   \n30500  ...                 1.258                81.761               151.572   \n30501  ...                 1.974                58.553               122.368   \n30502  ...                 6.667                60.000               121.667   \n30503  ...                 3.268                67.320               133.333   \n30504  ...                 1.370                37.900                82.648   \n\n       _HydrophobicityD2075  _HydrophobicityD2100  _HydrophobicityD3001  \\\n0                   101.370               172.603                 3.846   \n1                   234.667               325.333                 0.694   \n2                   173.148               222.222                 1.538   \n3                   228.723               288.298                 1.099   \n4                   199.387               261.350                 1.064   \n...                     ...                   ...                   ...   \n30500               207.547               288.050                 0.685   \n30501               184.211               255.263                 0.581   \n30502               165.000               223.333                 2.564   \n30503               203.922               254.248                 0.592   \n30504               132.420               188.584                 0.962   \n\n       _HydrophobicityD3025  _HydrophobicityD3050  _HydrophobicityD3075  \\\n0                   169.231               296.154               380.769   \n1                    68.056               160.417               247.222   \n2                    84.615               163.077               261.538   \n3                    53.846               141.758               216.484   \n4                    95.745               207.447               325.532   \n...                     ...                   ...                   ...   \n30500                79.452               145.205               232.877   \n30501                59.302               113.953               169.767   \n30502                30.769               151.282               279.487   \n30503                55.621               117.751               170.414   \n30504               110.577               215.385               313.462   \n\n       _HydrophobicityD3100  \n0                   450.000  \n1                   337.500  \n2                   355.385  \n3                   302.198  \n4                   443.617  \n...                     ...  \n30500               312.329  \n30501               219.767  \n30502               325.641  \n30503               230.769  \n30504               396.154  \n\n[30505 rows x 641 columns]",
      "text/html": "<div>\n<style scoped>\n    .dataframe tbody tr th:only-of-type {\n        vertical-align: middle;\n    }\n\n    .dataframe tbody tr th {\n        vertical-align: top;\n    }\n\n    .dataframe thead th {\n        text-align: right;\n    }\n</style>\n<table border=\"1\" class=\"dataframe\">\n  <thead>\n    <tr style=\"text-align: right;\">\n      <th></th>\n      <th>sequence</th>\n      <th>lenght</th>\n      <th>charge</th>\n      <th>chargedensity</th>\n      <th>formulaC</th>\n      <th>formulaH</th>\n      <th>formulaN</th>\n      <th>formulaO</th>\n      <th>formulaS</th>\n      <th>tot</th>\n      <th>...</th>\n      <th>_HydrophobicityD2001</th>\n      <th>_HydrophobicityD2025</th>\n      <th>_HydrophobicityD2050</th>\n      <th>_HydrophobicityD2075</th>\n      <th>_HydrophobicityD2100</th>\n      <th>_HydrophobicityD3001</th>\n      <th>_HydrophobicityD3025</th>\n      <th>_HydrophobicityD3050</th>\n      <th>_HydrophobicityD3075</th>\n      <th>_HydrophobicityD3100</th>\n    </tr>\n  </thead>\n  <tbody>\n    <tr>\n      <th>0</th>\n      <td>MSYKPIAPAPSSTPGSSTPGPGTPVPTGSVPSPSGSVPGAGAPFRP...</td>\n      <td>126.0</td>\n      <td>4.034</td>\n      <td>3.079204e-04</td>\n      <td>569</td>\n      <td>905</td>\n      <td>159</td>\n      <td>181</td>\n      <td>6</td>\n      <td>2119</td>\n      <td>...</td>\n      <td>2.740</td>\n      <td>28.767</td>\n      <td>57.534</td>\n      <td>101.370</td>\n      <td>172.603</td>\n      <td>3.846</td>\n      <td>169.231</td>\n      <td>296.154</td>\n      <td>380.769</td>\n      <td>450.000</td>\n    </tr>\n    <tr>\n      <th>1</th>\n      <td>MSDDLPIDIHSSKLLDWLVSRRHCNKDWQKSVVAIREKIKHAILDM...</td>\n      <td>489.0</td>\n      <td>-14.152</td>\n      <td>-2.539340e-04</td>\n      <td>2438</td>\n      <td>3878</td>\n      <td>654</td>\n      <td>785</td>\n      <td>15</td>\n      <td>8946</td>\n      <td>...</td>\n      <td>1.333</td>\n      <td>91.333</td>\n      <td>160.000</td>\n      <td>234.667</td>\n      <td>325.333</td>\n      <td>0.694</td>\n      <td>68.056</td>\n      <td>160.417</td>\n      <td>247.222</td>\n      <td>337.500</td>\n    </tr>\n    <tr>\n      <th>2</th>\n      <td>MPFDPAASPLSPSQARVLATLMEKARTVPDSYPMSLNGLLTGCNQK...</td>\n      <td>240.0</td>\n      <td>-3.983</td>\n      <td>-1.550475e-04</td>\n      <td>1109</td>\n      <td>1754</td>\n      <td>312</td>\n      <td>360</td>\n      <td>9</td>\n      <td>4154</td>\n      <td>...</td>\n      <td>1.852</td>\n      <td>51.852</td>\n      <td>117.593</td>\n      <td>173.148</td>\n      <td>222.222</td>\n      <td>1.538</td>\n      <td>84.615</td>\n      <td>163.077</td>\n      <td>261.538</td>\n      <td>355.385</td>\n    </tr>\n    <tr>\n      <th>3</th>\n      <td>MIHFTKMHGLGNDFMVVDGVTQNVFFSPEQIRRLADRNFGIGFDQL...</td>\n      <td>275.0</td>\n      <td>-0.697</td>\n      <td>-2.289178e-05</td>\n      <td>1330</td>\n      <td>2079</td>\n      <td>365</td>\n      <td>413</td>\n      <td>14</td>\n      <td>4928</td>\n      <td>...</td>\n      <td>3.191</td>\n      <td>81.915</td>\n      <td>158.511</td>\n      <td>228.723</td>\n      <td>288.298</td>\n      <td>1.099</td>\n      <td>53.846</td>\n      <td>141.758</td>\n      <td>216.484</td>\n      <td>302.198</td>\n    </tr>\n    <tr>\n      <th>4</th>\n      <td>MGSSTTEPDVGTTSNIETTTTLQNKNVNEVDQNKKSEQSNPSFKEV...</td>\n      <td>426.0</td>\n      <td>5.166</td>\n      <td>1.067265e-04</td>\n      <td>2025</td>\n      <td>3145</td>\n      <td>565</td>\n      <td>746</td>\n      <td>12</td>\n      <td>7641</td>\n      <td>...</td>\n      <td>1.227</td>\n      <td>87.117</td>\n      <td>142.331</td>\n      <td>199.387</td>\n      <td>261.350</td>\n      <td>1.064</td>\n      <td>95.745</td>\n      <td>207.447</td>\n      <td>325.532</td>\n      <td>443.617</td>\n    </tr>\n    <tr>\n      <th>...</th>\n      <td>...</td>\n      <td>...</td>\n      <td>...</td>\n      <td>...</td>\n      <td>...</td>\n      <td>...</td>\n      <td>...</td>\n      <td>...</td>\n      <td>...</td>\n      <td>...</td>\n      <td>...</td>\n      <td>...</td>\n      <td>...</td>\n      <td>...</td>\n      <td>...</td>\n      <td>...</td>\n      <td>...</td>\n      <td>...</td>\n      <td>...</td>\n      <td>...</td>\n      <td>...</td>\n    </tr>\n    <tr>\n      <th>30500</th>\n      <td>MPEGKFCNRKPVNTEEDLKALLGDKGGAQYYKEMEELEVDQEALWA...</td>\n      <td>461.0</td>\n      <td>-13.083</td>\n      <td>-2.481132e-04</td>\n      <td>2312</td>\n      <td>3540</td>\n      <td>624</td>\n      <td>700</td>\n      <td>38</td>\n      <td>8551</td>\n      <td>...</td>\n      <td>1.258</td>\n      <td>81.761</td>\n      <td>151.572</td>\n      <td>207.547</td>\n      <td>288.050</td>\n      <td>0.685</td>\n      <td>79.452</td>\n      <td>145.205</td>\n      <td>232.877</td>\n      <td>312.329</td>\n    </tr>\n    <tr>\n      <th>30501</th>\n      <td>MQHANTNKSLMTPGNIITGIILVMGLVLTVLRFTKGIGAVSNLDDN...</td>\n      <td>388.0</td>\n      <td>4.014</td>\n      <td>9.299716e-05</td>\n      <td>2024</td>\n      <td>3077</td>\n      <td>487</td>\n      <td>516</td>\n      <td>19</td>\n      <td>7056</td>\n      <td>...</td>\n      <td>1.974</td>\n      <td>58.553</td>\n      <td>122.368</td>\n      <td>184.211</td>\n      <td>255.263</td>\n      <td>0.581</td>\n      <td>59.302</td>\n      <td>113.953</td>\n      <td>169.767</td>\n      <td>219.767</td>\n    </tr>\n    <tr>\n      <th>30502</th>\n      <td>MRFGVVVLAIILLTGCSAMSAISDLLPSKDGIEATAQAGESNQKTG...</td>\n      <td>134.0</td>\n      <td>0.036</td>\n      <td>2.610495e-06</td>\n      <td>588</td>\n      <td>977</td>\n      <td>163</td>\n      <td>205</td>\n      <td>4</td>\n      <td>2237</td>\n      <td>...</td>\n      <td>6.667</td>\n      <td>60.000</td>\n      <td>121.667</td>\n      <td>165.000</td>\n      <td>223.333</td>\n      <td>2.564</td>\n      <td>30.769</td>\n      <td>151.282</td>\n      <td>279.487</td>\n      <td>325.641</td>\n    </tr>\n    <tr>\n      <th>30503</th>\n      <td>MILLTQSRFFSQKARCYITDNKRLFLPLLILIALVVPATRGFTLQA...</td>\n      <td>390.0</td>\n      <td>2.890</td>\n      <td>6.803041e-05</td>\n      <td>1968</td>\n      <td>3049</td>\n      <td>455</td>\n      <td>539</td>\n      <td>16</td>\n      <td>7031</td>\n      <td>...</td>\n      <td>3.268</td>\n      <td>67.320</td>\n      <td>133.333</td>\n      <td>203.922</td>\n      <td>254.248</td>\n      <td>0.592</td>\n      <td>55.621</td>\n      <td>117.751</td>\n      <td>170.414</td>\n      <td>230.769</td>\n    </tr>\n    <tr>\n      <th>30504</th>\n      <td>MRYVRSLLGVGALLVGAGGAAAQPGAFPGAGERAPGGAPSAPVSAP...</td>\n      <td>413.0</td>\n      <td>-0.002</td>\n      <td>-4.609238e-08</td>\n      <td>1931</td>\n      <td>2945</td>\n      <td>537</td>\n      <td>591</td>\n      <td>3</td>\n      <td>6961</td>\n      <td>...</td>\n      <td>1.370</td>\n      <td>37.900</td>\n      <td>82.648</td>\n      <td>132.420</td>\n      <td>188.584</td>\n      <td>0.962</td>\n      <td>110.577</td>\n      <td>215.385</td>\n      <td>313.462</td>\n      <td>396.154</td>\n    </tr>\n  </tbody>\n</table>\n<p>30505 rows × 641 columns</p>\n</div>"
     },
     "execution_count": 11,
     "metadata": {},
     "output_type": "execute_result"
    }
   ],
   "source": [
    "df_fea = pd.read_csv('Features.csv', sep= ',')\n",
    "df_fea = df_fea.drop('Unnamed: 0', 1)\n",
    "df_fea"
   ],
   "metadata": {
    "collapsed": false,
    "pycharm": {
     "name": "#%%\n"
    }
   }
  },
  {
   "cell_type": "markdown",
   "source": [
    "Para cada sequência foram obtidas 640 features a partir da sua sequência proteica. \n",
    "\n",
    "### Histograma do comprimento das sequências"
   ],
   "metadata": {
    "collapsed": false
   }
  },
  {
   "cell_type": "code",
   "execution_count": 12,
   "outputs": [
    {
     "name": "stdout",
     "output_type": "stream",
     "text": [
      "Tamanho máxido registado:  1000.0\n",
      "Tamanho minimo registado:  20.0\n",
      "Media do comprimento das sequência:  345.0\n"
     ]
    },
    {
     "data": {
      "text/plain": "<Figure size 432x288 with 1 Axes>",
      "image/png": "[encoded data removed]"
     },
     "metadata": {},
     "output_type": "display_data"
    }
   ],
   "source": [
    "histogram(df_fea.lenght, 'Length of sequences', 'Length')\n",
    "print('Tamanho máxido registado: ', max(df_fea.lenght))\n",
    "print('Tamanho minimo registado: ', min(df_fea.lenght))\n",
    "print('Media do comprimento das sequência: ', np.mean(df_fea.lenght).round())"
   ],
   "metadata": {
    "collapsed": false,
    "pycharm": {
     "name": "#%%\n"
    }
   }
  },
  {
   "cell_type": "markdown",
   "source": [
    "### Distribuição dos datasets\n",
    "\n",
    "* O Dataset df_feaTra será usado para determinar se uma sequência de aminoácidos de uma proteína poderá ser uma\n",
    "proteína transportadora ou não (classificação binária), tendo em conta as diferentes propriedades registadas pelo \"Feature calculation\"."
   ],
   "metadata": {
    "collapsed": false
   }
  },
  {
   "cell_type": "code",
   "execution_count": 13,
   "outputs": [
    {
     "data": {
      "text/plain": "                                            sequence  transporter  lenght  \\\n0  MSYKPIAPAPSSTPGSSTPGPGTPVPTGSVPSPSGSVPGAGAPFRP...            0   126.0   \n1  MSDDLPIDIHSSKLLDWLVSRRHCNKDWQKSVVAIREKIKHAILDM...            0   489.0   \n2  MPFDPAASPLSPSQARVLATLMEKARTVPDSYPMSLNGLLTGCNQK...            0   240.0   \n\n   charge  chargedensity  formulaC  formulaH  formulaN  formulaO  formulaS  \\\n0   4.034       0.000308       569       905       159       181         6   \n1 -14.152      -0.000254      2438      3878       654       785        15   \n2  -3.983      -0.000155      1109      1754       312       360         9   \n\n   ...  _HydrophobicityD2001  _HydrophobicityD2025  _HydrophobicityD2050  \\\n0  ...                 2.740                28.767                57.534   \n1  ...                 1.333                91.333               160.000   \n2  ...                 1.852                51.852               117.593   \n\n   _HydrophobicityD2075  _HydrophobicityD2100  _HydrophobicityD3001  \\\n0               101.370               172.603                 3.846   \n1               234.667               325.333                 0.694   \n2               173.148               222.222                 1.538   \n\n   _HydrophobicityD3025  _HydrophobicityD3050  _HydrophobicityD3075  \\\n0               169.231               296.154               380.769   \n1                68.056               160.417               247.222   \n2                84.615               163.077               261.538   \n\n   _HydrophobicityD3100  \n0               450.000  \n1               337.500  \n2               355.385  \n\n[3 rows x 642 columns]",
      "text/html": "<div>\n<style scoped>\n    .dataframe tbody tr th:only-of-type {\n        vertical-align: middle;\n    }\n\n    .dataframe tbody tr th {\n        vertical-align: top;\n    }\n\n    .dataframe thead th {\n        text-align: right;\n    }\n</style>\n<table border=\"1\" class=\"dataframe\">\n  <thead>\n    <tr style=\"text-align: right;\">\n      <th></th>\n      <th>sequence</th>\n      <th>transporter</th>\n      <th>lenght</th>\n      <th>charge</th>\n      <th>chargedensity</th>\n      <th>formulaC</th>\n      <th>formulaH</th>\n      <th>formulaN</th>\n      <th>formulaO</th>\n      <th>formulaS</th>\n      <th>...</th>\n      <th>_HydrophobicityD2001</th>\n      <th>_HydrophobicityD2025</th>\n      <th>_HydrophobicityD2050</th>\n      <th>_HydrophobicityD2075</th>\n      <th>_HydrophobicityD2100</th>\n      <th>_HydrophobicityD3001</th>\n      <th>_HydrophobicityD3025</th>\n      <th>_HydrophobicityD3050</th>\n      <th>_HydrophobicityD3075</th>\n      <th>_HydrophobicityD3100</th>\n    </tr>\n  </thead>\n  <tbody>\n    <tr>\n      <th>0</th>\n      <td>MSYKPIAPAPSSTPGSSTPGPGTPVPTGSVPSPSGSVPGAGAPFRP...</td>\n      <td>0</td>\n      <td>126.0</td>\n      <td>4.034</td>\n      <td>0.000308</td>\n      <td>569</td>\n      <td>905</td>\n      <td>159</td>\n      <td>181</td>\n      <td>6</td>\n      <td>...</td>\n      <td>2.740</td>\n      <td>28.767</td>\n      <td>57.534</td>\n      <td>101.370</td>\n      <td>172.603</td>\n      <td>3.846</td>\n      <td>169.231</td>\n      <td>296.154</td>\n      <td>380.769</td>\n      <td>450.000</td>\n    </tr>\n    <tr>\n      <th>1</th>\n      <td>MSDDLPIDIHSSKLLDWLVSRRHCNKDWQKSVVAIREKIKHAILDM...</td>\n      <td>0</td>\n      <td>489.0</td>\n      <td>-14.152</td>\n      <td>-0.000254</td>\n      <td>2438</td>\n      <td>3878</td>\n      <td>654</td>\n      <td>785</td>\n      <td>15</td>\n      <td>...</td>\n      <td>1.333</td>\n      <td>91.333</td>\n      <td>160.000</td>\n      <td>234.667</td>\n      <td>325.333</td>\n      <td>0.694</td>\n      <td>68.056</td>\n      <td>160.417</td>\n      <td>247.222</td>\n      <td>337.500</td>\n    </tr>\n    <tr>\n      <th>2</th>\n      <td>MPFDPAASPLSPSQARVLATLMEKARTVPDSYPMSLNGLLTGCNQK...</td>\n      <td>0</td>\n      <td>240.0</td>\n      <td>-3.983</td>\n      <td>-0.000155</td>\n      <td>1109</td>\n      <td>1754</td>\n      <td>312</td>\n      <td>360</td>\n      <td>9</td>\n      <td>...</td>\n      <td>1.852</td>\n      <td>51.852</td>\n      <td>117.593</td>\n      <td>173.148</td>\n      <td>222.222</td>\n      <td>1.538</td>\n      <td>84.615</td>\n      <td>163.077</td>\n      <td>261.538</td>\n      <td>355.385</td>\n    </tr>\n  </tbody>\n</table>\n<p>3 rows × 642 columns</p>\n</div>"
     },
     "execution_count": 13,
     "metadata": {},
     "output_type": "execute_result"
    }
   ],
   "source": [
    "df_feaTra= df_clean.iloc[:,[0,1]].merge(df_fea, how= 'left', on = 'sequence')\n",
    "df_feaTra = df_feaTra.astype({\"transporter\": int})  \n",
    "df_feaTra.iloc[:3,:]"
   ],
   "metadata": {
    "collapsed": false,
    "pycharm": {
     "name": "#%%\n"
    }
   }
  },
  {
   "cell_type": "markdown",
   "source": [
    "* O Dataset df_feaTCDB será usado para determinar a classe de transportador de uma proteína (Classificação multiclasse), tendo em conta\n",
    "as diferentes propriedades registadas pelo \"Feature calculation\"."
   ],
   "metadata": {
    "collapsed": false
   }
  },
  {
   "cell_type": "code",
   "execution_count": 14,
   "outputs": [
    {
     "data": {
      "text/plain": "                                            sequence  TCDB_ID  lenght  charge  \\\n0  MSYKPIAPAPSSTPGSSTPGPGTPVPTGSVPSPSGSVPGAGAPFRP...        0   126.0   4.034   \n1  MSDDLPIDIHSSKLLDWLVSRRHCNKDWQKSVVAIREKIKHAILDM...        0   489.0 -14.152   \n2  MPFDPAASPLSPSQARVLATLMEKARTVPDSYPMSLNGLLTGCNQK...        0   240.0  -3.983   \n\n   chargedensity  formulaC  formulaH  formulaN  formulaO  formulaS  ...  \\\n0       0.000308       569       905       159       181         6  ...   \n1      -0.000254      2438      3878       654       785        15  ...   \n2      -0.000155      1109      1754       312       360         9  ...   \n\n   _HydrophobicityD2001  _HydrophobicityD2025  _HydrophobicityD2050  \\\n0                 2.740                28.767                57.534   \n1                 1.333                91.333               160.000   \n2                 1.852                51.852               117.593   \n\n   _HydrophobicityD2075  _HydrophobicityD2100  _HydrophobicityD3001  \\\n0               101.370               172.603                 3.846   \n1               234.667               325.333                 0.694   \n2               173.148               222.222                 1.538   \n\n   _HydrophobicityD3025  _HydrophobicityD3050  _HydrophobicityD3075  \\\n0               169.231               296.154               380.769   \n1                68.056               160.417               247.222   \n2                84.615               163.077               261.538   \n\n   _HydrophobicityD3100  \n0               450.000  \n1               337.500  \n2               355.385  \n\n[3 rows x 642 columns]",
      "text/html": "<div>\n<style scoped>\n    .dataframe tbody tr th:only-of-type {\n        vertical-align: middle;\n    }\n\n    .dataframe tbody tr th {\n        vertical-align: top;\n    }\n\n    .dataframe thead th {\n        text-align: right;\n    }\n</style>\n<table border=\"1\" class=\"dataframe\">\n  <thead>\n    <tr style=\"text-align: right;\">\n      <th></th>\n      <th>sequence</th>\n      <th>TCDB_ID</th>\n      <th>lenght</th>\n      <th>charge</th>\n      <th>chargedensity</th>\n      <th>formulaC</th>\n      <th>formulaH</th>\n      <th>formulaN</th>\n      <th>formulaO</th>\n      <th>formulaS</th>\n      <th>...</th>\n      <th>_HydrophobicityD2001</th>\n      <th>_HydrophobicityD2025</th>\n      <th>_HydrophobicityD2050</th>\n      <th>_HydrophobicityD2075</th>\n      <th>_HydrophobicityD2100</th>\n      <th>_HydrophobicityD3001</th>\n      <th>_HydrophobicityD3025</th>\n      <th>_HydrophobicityD3050</th>\n      <th>_HydrophobicityD3075</th>\n      <th>_HydrophobicityD3100</th>\n    </tr>\n  </thead>\n  <tbody>\n    <tr>\n      <th>0</th>\n      <td>MSYKPIAPAPSSTPGSSTPGPGTPVPTGSVPSPSGSVPGAGAPFRP...</td>\n      <td>0</td>\n      <td>126.0</td>\n      <td>4.034</td>\n      <td>0.000308</td>\n      <td>569</td>\n      <td>905</td>\n      <td>159</td>\n      <td>181</td>\n      <td>6</td>\n      <td>...</td>\n      <td>2.740</td>\n      <td>28.767</td>\n      <td>57.534</td>\n      <td>101.370</td>\n      <td>172.603</td>\n      <td>3.846</td>\n      <td>169.231</td>\n      <td>296.154</td>\n      <td>380.769</td>\n      <td>450.000</td>\n    </tr>\n    <tr>\n      <th>1</th>\n      <td>MSDDLPIDIHSSKLLDWLVSRRHCNKDWQKSVVAIREKIKHAILDM...</td>\n      <td>0</td>\n      <td>489.0</td>\n      <td>-14.152</td>\n      <td>-0.000254</td>\n      <td>2438</td>\n      <td>3878</td>\n      <td>654</td>\n      <td>785</td>\n      <td>15</td>\n      <td>...</td>\n      <td>1.333</td>\n      <td>91.333</td>\n      <td>160.000</td>\n      <td>234.667</td>\n      <td>325.333</td>\n      <td>0.694</td>\n      <td>68.056</td>\n      <td>160.417</td>\n      <td>247.222</td>\n      <td>337.500</td>\n    </tr>\n    <tr>\n      <th>2</th>\n      <td>MPFDPAASPLSPSQARVLATLMEKARTVPDSYPMSLNGLLTGCNQK...</td>\n      <td>0</td>\n      <td>240.0</td>\n      <td>-3.983</td>\n      <td>-0.000155</td>\n      <td>1109</td>\n      <td>1754</td>\n      <td>312</td>\n      <td>360</td>\n      <td>9</td>\n      <td>...</td>\n      <td>1.852</td>\n      <td>51.852</td>\n      <td>117.593</td>\n      <td>173.148</td>\n      <td>222.222</td>\n      <td>1.538</td>\n      <td>84.615</td>\n      <td>163.077</td>\n      <td>261.538</td>\n      <td>355.385</td>\n    </tr>\n  </tbody>\n</table>\n<p>3 rows × 642 columns</p>\n</div>"
     },
     "execution_count": 14,
     "metadata": {},
     "output_type": "execute_result"
    }
   ],
   "source": [
    "df_feaTCDB = df_clean.iloc[:,[0,2]].merge(df_fea, how= 'left', on = 'sequence')\n",
    "df_feaTCDB = df_feaTCDB.astype({\"TCDB_ID\": int})\n",
    "df_feaTCDB.iloc[:3,:]"
   ],
   "metadata": {
    "collapsed": false,
    "pycharm": {
     "name": "#%%\n"
    }
   }
  },
  {
   "cell_type": "markdown",
   "source": [
    "### Contagem de Proteínas Transportadoras e Proteínas Não Transportadoras (df_feaTra) e contagem do elementos de cada Classe de Transportadores (df_feaTCDB)"
   ],
   "metadata": {
    "collapsed": false
   }
  },
  {
   "cell_type": "code",
   "execution_count": 15,
   "outputs": [
    {
     "data": {
      "text/plain": "<Figure size 720x360 with 1 Axes>",
      "image/png": "[encoded data removed]"
     },
     "metadata": {},
     "output_type": "display_data"
    },
    {
     "data": {
      "text/plain": "<Figure size 720x360 with 1 Axes>",
      "image/png": "[encoded data removed]"
     },
     "metadata": {},
     "output_type": "display_data"
    }
   ],
   "source": [
    "ContTra = df_feaTra.groupby('transporter').size()\n",
    "ContTra.index = ['Non-transporter Protein', 'Transporters Protein']\n",
    "ContTCDB = df_feaTCDB.groupby('TCDB_ID').size()\n",
    "ContTCDB.index = [ str(i) for i in list(ContTCDB.index)]\n",
    "\n",
    "barplot_counts(list(ContTra.index), list(ContTra.values), 'Transporter vs Non-transporter Protein')\n",
    "barplot_counts(list(ContTCDB.index), list(ContTCDB.values),  'Class of Transporter Protein')"
   ],
   "metadata": {
    "collapsed": false,
    "pycharm": {
     "name": "#%%\n"
    }
   }
  },
  {
   "cell_type": "markdown",
   "source": [
    "Através dos gráficos verifica-se uma distribuição desigual entre as classes. No gráfico *\"Transporter vs Non-transporter Protein\"* é possível verificar uma maior frequência das proteínas não transportadoras (*Non-transporter*). No gráfico *\"Class of Transporter Protein\"* verfica-se a maior representabilidade da Classe 0, sendo que classes como a classe 4 e 5 têm uma frequência muito inferior às restantes classes.\n",
    "\n",
    "\n",
    "### Distribuição média dos AA\n",
    "Estes dados darão uma prespetiva simples sobre a frenquência dos diferentes aminoácidos nos diferentes\n",
    "tipos de Proteínas, quer seja na sua distribuição em proteinas transportadoras e não transportadores,\n",
    "ou na distruição destes nas diferentes classes de transportadores.\n",
    "\n",
    "A representação gráfica é realizada não servirá para tirar conclusões concretas sobre possíveis previsões,\n",
    "contudo oferecem uma base para interpretações nóveis sobre o Dataset em análise.\n",
    "\n",
    "* Distruição média de AA de Proteínas Transportadoras e Não Transportadoras"
   ],
   "metadata": {
    "collapsed": false
   }
  },
  {
   "cell_type": "code",
   "execution_count": 16,
   "outputs": [
    {
     "data": {
      "text/plain": "<Figure size 1080x720 with 1 Axes>",
      "image/png": "[encoded data removed]"
     },
     "metadata": {},
     "output_type": "display_data"
    }
   ],
   "source": [
    "df_feaTra.iloc[:,26:46].columns.to_list()\n",
    "AATra = df_feaTra.groupby('transporter').mean().loc[:, 'A':'V']\n",
    "AATra.apply(lambda x: sum(x), axis=1)\n",
    "AATra.index = ['Non-transporter Protein', 'Transporters Protein']\n",
    "\n",
    "barplot_frequency(AATra.T, xlabel='Aminoacids', ylabel='Frequency (%)', title='Non-transporter vs Transporter: Aminoacid count')"
   ],
   "metadata": {
    "collapsed": false,
    "pycharm": {
     "name": "#%%\n"
    }
   }
  },
  {
   "cell_type": "markdown",
   "source": [
    "* Distribuição média de diferentes AA presentes nas diferentes Classes de Proteínas Transportadoras"
   ],
   "metadata": {
    "collapsed": false
   }
  },
  {
   "cell_type": "code",
   "execution_count": 17,
   "outputs": [
    {
     "data": {
      "text/plain": "<Figure size 1080x720 with 1 Axes>",
      "image/png": "[encoded data removed]"
     },
     "metadata": {},
     "output_type": "display_data"
    }
   ],
   "source": [
    "AATCDB =df_feaTCDB.groupby('TCDB_ID').mean().loc[:,'A':'V']\n",
    "barplot_frequency(AATCDB.T, xlabel='Aminoacids', ylabel='Frequency (%)', title='TCDB Classes Aminoacid Frequency')"
   ],
   "metadata": {
    "collapsed": false,
    "pycharm": {
     "name": "#%%\n"
    }
   }
  },
  {
   "cell_type": "markdown",
   "source": [
    "Em ambos os casos verifica-se uma diferença na frequência dos aminoácidos entre as várias classes, no entanto está diferença pode ou não dever-se a propriedades das diferentes classe. \n",
    "\n",
    "# Feature selection\n",
    "Através dos dados dos descritores foi realizada a seleção das features (descritores) que aparentam diferençar a classe binária das sequências (transportador ou não transportador) e entre as várias classes de transportadores. Para a realização de tal passo foi utilizado o modulo FeatureSelection do package ProPythia após a standartização dos datasets segundo o Standart Scaler do package Sklearn.\n",
    "\n",
    "Na utilização do módulo do FeatureSelection do package Propythia, foi realizada a análise univariada das features utilizando a função mutual_classification, uma vez que os nossos dados são discretos. A função mutual_classification utiliza métodos não paramétricos baseados na estimativa dos k-vizinhos mais próximos. A partir desta análise univariada as features foram ordenadas de modo descendente pelo seu k-score.\n",
    "Foi selelcionado o top 20 das features com o maior ranking score (k score) com o objetivo de comparação entre as várias Feacture Selection.\n",
    "## Classificação Binária\n",
    "A Standartização e a Feature Selection para a classificação binária foi realidade considerando a totalidade do dataset."
   ],
   "metadata": {
    "collapsed": false
   }
  },
  {
   "cell_type": "code",
   "execution_count": 18,
   "outputs": [
    {
     "name": "stdout",
     "output_type": "stream",
     "text": [
      "original X dataset shape: (30505, 640)\n",
      "New X dataset shape: (30505, 640)\n",
      "number of column selected: (640,)\n",
      "scores:                       scores_ranking\n",
      "bomanindex                  0.182763\n",
      "_ChargeD2100                0.180780\n",
      "_HydrophobicityD3100        0.179361\n",
      "Gravy                       0.178473\n",
      "_HydrophobicityD1100        0.176987\n",
      "...                              ...\n",
      "HQ                          0.000000\n",
      "HW                          0.000000\n",
      "WD                          0.000000\n",
      "QY                          0.000000\n",
      "SG                          0.000000\n",
      "\n",
      "[640 rows x 1 columns]\n",
      "Finished 'run_univariate' in 93.0773 secs\n",
      "Top 20 of features ranking: \n"
     ]
    },
    {
     "data": {
      "text/plain": "['bomanindex',\n '_ChargeD2100',\n '_HydrophobicityD3100',\n 'Gravy',\n '_HydrophobicityD1100',\n '_ChargeC2',\n '_SolventAccessibilityD2100',\n '_ChargeD2075',\n '_HydrophobicityD1075',\n '_SolventAccessibilityD2075',\n '_HydrophobicityC3',\n '_PolarityD1100',\n '_SolventAccessibilityC2',\n '_SolventAccessibilityT12',\n '_HydrophobicityD3075',\n '_HydrophobicityC1',\n 'SecStruct_helix',\n '_ChargeD2050',\n '_PolarityD1075',\n '_PolarityC1']"
     },
     "execution_count": 18,
     "metadata": {},
     "output_type": "execute_result"
    }
   ],
   "source": [
    "df_feaTra[list(df_feaTra.columns[2:])] = StandardScaler().fit_transform(df_feaTra[list(df_feaTra.columns[2:])])\n",
    "from propythia.feature_selection import FeatureSelection\n",
    "fsTra = FeatureSelection(x_original=df_feaTra.iloc[:,2:],\n",
    "                 target=df_feaTra.transporter,\n",
    "                 columns_names=None,\n",
    "                 dataset=df_feaTra.iloc[:,2:])\n",
    "\n",
    "transformer, x_fit_univariate, x_transf_univariate, column_selected, scores, scores_df = fsTra.run_univariate(\n",
    "    score_func=mutual_info_classif, mode='k_best',param = 640)\n",
    "fsTra.scores_ranking(scores)\n",
    "print('Top 20 of features ranking: ')\n",
    "list(fsTra.scores_ranking(scores).index[0:20])"
   ],
   "metadata": {
    "collapsed": false,
    "pycharm": {
     "name": "#%%\n"
    }
   }
  },
  {
   "cell_type": "markdown",
   "source": [
    "Relativamente ao top 20 de features selecionadas para a classificação binária consoante os\n",
    "seus rankings score, é possível verificar que todas elas representam características importantes\n",
    "para a identificação de uma proteína transportadora. A \"bomanindex\" é uma estimativa que permite\n",
    "verificar o potencial de ligação de uma proteína; a \"charge\" representa a capacidade da proteína\n",
    "produzir energia sub a forma de ATP ou outros metabolitos provenientes de reações redox que\n",
    "posteriormente poderá ser utilizada por outras proteínas transportadoras secundárias;\n",
    "\"Solvent Acessibility\" é uma feature importante nas proteínas uma vez que permite determinar a\n",
    "estabilidade da proteína bem como o folding; \"Gravy\" é um índice que\n",
    "identifica a hidrofobicidade de proteínas, isto é, uma proteína que apresente um índice de\n",
    "Gravy acima de 0, será muito provavelmente uma proteína hidrofóbica, vice-versa; a Hidrofobicidade é\n",
    "caracterizada pela afinidade entre a àgua e a cadeia de aminoácidos correspondentes da proteína,\n",
    "significando que uma proteína com um elevado grau de hidrofobicidade apresenta uma normalmente\n",
    "uma polaridade negativa.\n",
    "\n",
    "## Classificação multiclasse\n",
    "### Classificação multiclasse balanceada\n",
    "De modo a balancear o dataset, foi reduzido o número de entradas para a Class 0 de transportadores. Como anteriormente verificado a Classe 0 representava mais de 50% das entradas no dataset original.\n",
    "Esta discrepância no número de entradas poderá levar à inconsistência das análises, inviabilizando assim os resultados obtidos posteriormente.\n",
    "Ao dataset gerado foi aplicada a Standartização e a Feature Selection."
   ],
   "metadata": {
    "collapsed": false
   }
  },
  {
   "cell_type": "code",
   "execution_count": 19,
   "outputs": [
    {
     "name": "stdout",
     "output_type": "stream",
     "text": [
      "original X dataset shape: (18048, 640)\n",
      "New X dataset shape: (18048, 640)\n",
      "number of column selected: (640,)\n",
      "scores:                             scores_ranking\n",
      "_ChargeD2100                      0.236966\n",
      "bomanindex                        0.228501\n",
      "Gravy                             0.226588\n",
      "_ChargeC2                         0.226055\n",
      "_SolventAccessibilityD2100        0.225099\n",
      "...                                    ...\n",
      "HH                                0.003791\n",
      "KW                                0.003688\n",
      "WE                                0.003102\n",
      "MH                                0.002597\n",
      "WH                                0.001939\n",
      "\n",
      "[640 rows x 1 columns]\n",
      "Finished 'run_univariate' in 53.0772 secs\n",
      "Top 20 of features ranking\n"
     ]
    },
    {
     "data": {
      "text/plain": "['bomanindex',\n '_ChargeD2100',\n '_HydrophobicityD3100',\n 'Gravy',\n '_HydrophobicityD1100',\n '_ChargeC2',\n '_SolventAccessibilityD2100',\n '_ChargeD2075',\n '_HydrophobicityD1075',\n '_SolventAccessibilityD2075',\n '_HydrophobicityC3',\n '_PolarityD1100',\n '_SolventAccessibilityC2',\n '_SolventAccessibilityT12',\n '_HydrophobicityD3075',\n '_HydrophobicityC1',\n 'SecStruct_helix',\n '_ChargeD2050',\n '_PolarityD1075',\n '_PolarityC1']"
     },
     "execution_count": 19,
     "metadata": {},
     "output_type": "execute_result"
    }
   ],
   "source": [
    "def sampling_k_elements(group, k=4000):\n",
    "    if len(group) < k+1000:\n",
    "        return group\n",
    "    return group.sample(k)\n",
    "\n",
    "df_feaTCDB_blc= df_feaTCDB.groupby('TCDB_ID').apply(sampling_k_elements).reset_index(drop=True)\n",
    "df_feaTCDB_blc[list(df_feaTCDB_blc.columns[2:])] = StandardScaler().fit_transform(df_feaTCDB_blc[list(df_feaTCDB_blc.columns[2:])])\n",
    "fsTCDB_blc = FeatureSelection(x_original=df_feaTCDB_blc.iloc[:,2:],\n",
    "                 target=df_feaTCDB_blc.TCDB_ID,\n",
    "                 columns_names=None,\n",
    "                 dataset= df_feaTCDB_blc.iloc[:,2:])\n",
    "\n",
    "transformer2, x_fit_univariate2, x_transf_univariate2, column_selected2, scores2, scores_df2 = fsTCDB_blc.run_univariate(\n",
    "    score_func=mutual_info_classif, mode='k_best', param=640)\n",
    "fsTCDB_blc.scores_ranking(scores2)\n",
    "print('Top 20 of features ranking')\n",
    "list(fsTCDB_blc.scores_ranking(scores).index[0:20])"
   ],
   "metadata": {
    "collapsed": false,
    "pycharm": {
     "name": "#%%\n"
    }
   }
  },
  {
   "cell_type": "markdown",
   "source": [
    "Quando verificado o top 20 de features selecionadas para a classificação multiclasse balanceada verificamos que este top 20 é composto pelas mesmas features que no caso anterior.\n",
    "\n",
    "## Classificação multiclasse de transportadores\n",
    "Com o intuito verificar a eficácia dos métodos de análise não supervisionada para individualização das restantes classes de transportadores, foi gerado um dataset apenas de transportares (removendo todos elementos da classe 0).\n",
    "Ao dataset gerado foi aplicada a Standartização e a Feature Selection."
   ],
   "metadata": {
    "collapsed": false
   }
  },
  {
   "cell_type": "code",
   "execution_count": 20,
   "outputs": [
    {
     "name": "stdout",
     "output_type": "stream",
     "text": [
      "original X dataset shape: (14048, 640)\n",
      "New X dataset shape: (14048, 640)\n",
      "number of column selected: (640,)\n",
      "scores:                             scores_ranking\n",
      "_HydrophobicityD1100              0.156683\n",
      "_ChargeD2100                      0.156238\n",
      "_SolventAccessibilityD2100        0.155588\n",
      "hydrophobic_ratio                 0.152627\n",
      "_SolventAccessibilityC2           0.151403\n",
      "...                                    ...\n",
      "HR                                0.004137\n",
      "NH                                0.002787\n",
      "YH                                0.002038\n",
      "HN                                0.001619\n",
      "HK                                0.001604\n",
      "\n",
      "[640 rows x 1 columns]\n",
      "Finished 'run_univariate' in 42.9220 secs\n",
      "Top 20 of features ranking\n"
     ]
    },
    {
     "data": {
      "text/plain": "['bomanindex',\n '_ChargeD2100',\n '_HydrophobicityD3100',\n 'Gravy',\n '_HydrophobicityD1100',\n '_ChargeC2',\n '_SolventAccessibilityD2100',\n '_ChargeD2075',\n '_HydrophobicityD1075',\n '_SolventAccessibilityD2075',\n '_HydrophobicityC3',\n '_PolarityD1100',\n '_SolventAccessibilityC2',\n '_SolventAccessibilityT12',\n '_HydrophobicityD3075',\n '_HydrophobicityC1',\n 'SecStruct_helix',\n '_ChargeD2050',\n '_PolarityD1075',\n '_PolarityC1']"
     },
     "execution_count": 20,
     "metadata": {},
     "output_type": "execute_result"
    }
   ],
   "source": [
    "df_feaTCDB_nz= df_feaTCDB[df_feaTCDB.TCDB_ID != 0]\n",
    "df_feaTCDB_nz[list(df_feaTCDB_nz.columns[2:])] = StandardScaler().fit_transform(df_feaTCDB_nz[list(df_feaTCDB_nz.columns[2:])])\n",
    "fsTCDB_nz = FeatureSelection(x_original=df_feaTCDB_nz.iloc[:,2:],\n",
    "                 target=df_feaTCDB_nz.TCDB_ID,\n",
    "                 columns_names=None,\n",
    "                 dataset= df_feaTCDB_nz.iloc[:,2:])\n",
    "\n",
    "transformer3, x_fit_univariate3, x_transf_univariate3, column_selected3, scores3, scores_df3 = fsTCDB_nz.run_univariate(\n",
    "    score_func=mutual_info_classif, mode='k_best', param=640)\n",
    "fsTCDB_nz.scores_ranking(scores2)\n",
    "print('Top 20 of features ranking')\n",
    "list(fsTCDB_nz.scores_ranking(scores).index[0:20])"
   ],
   "metadata": {
    "collapsed": false,
    "pycharm": {
     "name": "#%%\n"
    }
   }
  },
  {
   "cell_type": "markdown",
   "source": [
    "Quando verificado o top 20 de features selecionadas para a classificação das classes de\n",
    "transportadores verificamos que o top 20 das features não se alteram em comparação com as acima descritas.\n",
    "\n",
    "# Seleção dos datasets baseado na Feature Selection\n",
    "Para a análise não supervisionada foram definidos três datasets para as classificações a realizar (classificação binária, classificação multiclasse, classificação multiclasse de transportadores).\n",
    "Estes datasets foram gravados sobre formato.csv, em que as duas primeiras colunas correspondem à sequencia e à classificação, respetivamente. As restantes colunas correspondem as features ordenadas segundo o resultado obtidos na Feature Selection (k score descendente).\n",
    "\n",
    "## Dataset para classificação binária"
   ],
   "metadata": {
    "collapsed": false
   }
  },
  {
   "cell_type": "code",
   "execution_count": 21,
   "outputs": [
    {
     "data": {
      "text/plain": "                                                sequence transporter  \\\n0      MSYKPIAPAPSSTPGSSTPGPGTPVPTGSVPSPSGSVPGAGAPFRP...      NonTra   \n1      MSDDLPIDIHSSKLLDWLVSRRHCNKDWQKSVVAIREKIKHAILDM...      NonTra   \n2      MPFDPAASPLSPSQARVLATLMEKARTVPDSYPMSLNGLLTGCNQK...      NonTra   \n3      MIHFTKMHGLGNDFMVVDGVTQNVFFSPEQIRRLADRNFGIGFDQL...      NonTra   \n4      MGSSTTEPDVGTTSNIETTTTLQNKNVNEVDQNKKSEQSNPSFKEV...      NonTra   \n...                                                  ...         ...   \n30500  MPEGKFCNRKPVNTEEDLKALLGDKGGAQYYKEMEELEVDQEALWA...         Tra   \n30501  MQHANTNKSLMTPGNIITGIILVMGLVLTVLRFTKGIGAVSNLDDN...         Tra   \n30502  MRFGVVVLAIILLTGCSAMSAISDLLPSKDGIEATAQAGESNQKTG...         Tra   \n30503  MILLTQSRFFSQKARCYITDNKRLFLPLLILIALVVPATRGFTLQA...         Tra   \n30504  MRYVRSLLGVGALLVGAGGAAAQPGAFPGAGERAPGGAPSAPVSAP...         Tra   \n\n       bomanindex  _ChargeD2100  _HydrophobicityD3100     Gravy  \\\n0        0.224854     -0.663266              2.080290 -0.728483   \n1        0.917296      1.572972              0.433034 -0.899206   \n2        0.281929     -0.436835              0.694912 -0.414872   \n3        0.280997     -0.117689             -0.083867 -0.368043   \n4        1.574354     -0.613676              1.986828 -1.987419   \n...           ...           ...                   ...       ...   \n30500    0.510703      0.607386              0.064474 -0.801156   \n30501   -1.581525     -1.315992             -1.290844  1.513113   \n30502   -0.090436     -0.604466              0.259392  0.218970   \n30503   -1.693440     -1.496199             -1.129750  1.827002   \n30504   -0.068580     -0.821776              1.291862 -0.013619   \n\n       _HydrophobicityD1100  _ChargeC2  _SolventAccessibilityD2100  \\\n0                  0.738313   0.656979                    0.738313   \n1                 -0.903760  -1.479925                   -0.903760   \n2                 -0.130083   0.401152                   -0.130083   \n3                 -0.488394   0.055034                   -0.488394   \n4                 -0.916583   0.611833                   -0.916583   \n...                     ...        ...                         ...   \n30500             -0.557507  -0.727494                   -0.557507   \n30501              1.822963   1.469604                    1.822963   \n30502              0.074191   0.596784                    0.074191   \n30503              1.309433   1.710382                    1.309433   \n30504              0.663791   0.852611                    0.663791   \n\n       _ChargeD2075  ...  _PolarizabilityC1        RY        EW        NF  \\\n0         -1.628206  ...           1.498645 -0.575967 -0.368176 -0.574696   \n1          1.628170  ...          -0.473228  0.103159  0.813932  0.837994   \n2         -0.094844  ...           0.584413 -0.575967 -0.368176  0.872450   \n3          0.020678  ...          -0.562859 -0.575967 -0.368176  0.665715   \n4         -0.260411  ...          -0.939308  0.238984 -0.368176  0.252244   \n...             ...  ...                ...       ...       ...       ...   \n30500      0.611736  ...          -0.921382 -0.575967  3.473675 -0.574696   \n30501     -1.377985  ...          -0.401524  1.189760  2.705305 -0.574696   \n30502     -0.236207  ...           2.394951 -0.575967 -0.368176 -0.574696   \n30503     -1.234283  ...          -0.114706 -0.575967 -0.368176 -0.574696   \n30504     -0.810078  ...           2.305320  0.238984 -0.368176 -0.574696   \n\n             GQ        HQ        HW        WD        QY        SG  \n0     -0.685212 -0.398884 -0.241406 -0.345193 -0.479138  0.515333  \n1     -0.134284 -0.398884 -0.241406 -0.345193  1.386198 -0.585465  \n2     -0.685212 -0.398884 -0.241406 -0.345193 -0.479138 -0.181839  \n3      1.325675 -0.398884 -0.241406 -0.345193 -0.479138 -0.291919  \n4      0.609469  5.668667 -0.241406 -0.345193  0.612766 -0.512079  \n...         ...       ...       ...       ...       ...       ...  \n30500 -0.079192 -0.398884 -0.241406  1.052822  1.477190 -0.548772  \n30501 -0.685212  0.938034  2.072837 -0.345193 -0.479138 -0.952398  \n30502 -0.685212 -0.398884 -0.241406 -0.345193 -0.479138  1.799598  \n30503  0.719654 -0.398884 -0.241406 -0.345193 -0.479138 -0.016719  \n30504  0.664561 -0.398884  1.894818 -0.345193  1.750166  0.827226  \n\n[30505 rows x 642 columns]",
      "text/html": "<div>\n<style scoped>\n    .dataframe tbody tr th:only-of-type {\n        vertical-align: middle;\n    }\n\n    .dataframe tbody tr th {\n        vertical-align: top;\n    }\n\n    .dataframe thead th {\n        text-align: right;\n    }\n</style>\n<table border=\"1\" class=\"dataframe\">\n  <thead>\n    <tr style=\"text-align: right;\">\n      <th></th>\n      <th>sequence</th>\n      <th>transporter</th>\n      <th>bomanindex</th>\n      <th>_ChargeD2100</th>\n      <th>_HydrophobicityD3100</th>\n      <th>Gravy</th>\n      <th>_HydrophobicityD1100</th>\n      <th>_ChargeC2</th>\n      <th>_SolventAccessibilityD2100</th>\n      <th>_ChargeD2075</th>\n      <th>...</th>\n      <th>_PolarizabilityC1</th>\n      <th>RY</th>\n      <th>EW</th>\n      <th>NF</th>\n      <th>GQ</th>\n      <th>HQ</th>\n      <th>HW</th>\n      <th>WD</th>\n      <th>QY</th>\n      <th>SG</th>\n    </tr>\n  </thead>\n  <tbody>\n    <tr>\n      <th>0</th>\n      <td>MSYKPIAPAPSSTPGSSTPGPGTPVPTGSVPSPSGSVPGAGAPFRP...</td>\n      <td>NonTra</td>\n      <td>0.224854</td>\n      <td>-0.663266</td>\n      <td>2.080290</td>\n      <td>-0.728483</td>\n      <td>0.738313</td>\n      <td>0.656979</td>\n      <td>0.738313</td>\n      <td>-1.628206</td>\n      <td>...</td>\n      <td>1.498645</td>\n      <td>-0.575967</td>\n      <td>-0.368176</td>\n      <td>-0.574696</td>\n      <td>-0.685212</td>\n      <td>-0.398884</td>\n      <td>-0.241406</td>\n      <td>-0.345193</td>\n      <td>-0.479138</td>\n      <td>0.515333</td>\n    </tr>\n    <tr>\n      <th>1</th>\n      <td>MSDDLPIDIHSSKLLDWLVSRRHCNKDWQKSVVAIREKIKHAILDM...</td>\n      <td>NonTra</td>\n      <td>0.917296</td>\n      <td>1.572972</td>\n      <td>0.433034</td>\n      <td>-0.899206</td>\n      <td>-0.903760</td>\n      <td>-1.479925</td>\n      <td>-0.903760</td>\n      <td>1.628170</td>\n      <td>...</td>\n      <td>-0.473228</td>\n      <td>0.103159</td>\n      <td>0.813932</td>\n      <td>0.837994</td>\n      <td>-0.134284</td>\n      <td>-0.398884</td>\n      <td>-0.241406</td>\n      <td>-0.345193</td>\n      <td>1.386198</td>\n      <td>-0.585465</td>\n    </tr>\n    <tr>\n      <th>2</th>\n      <td>MPFDPAASPLSPSQARVLATLMEKARTVPDSYPMSLNGLLTGCNQK...</td>\n      <td>NonTra</td>\n      <td>0.281929</td>\n      <td>-0.436835</td>\n      <td>0.694912</td>\n      <td>-0.414872</td>\n      <td>-0.130083</td>\n      <td>0.401152</td>\n      <td>-0.130083</td>\n      <td>-0.094844</td>\n      <td>...</td>\n      <td>0.584413</td>\n      <td>-0.575967</td>\n      <td>-0.368176</td>\n      <td>0.872450</td>\n      <td>-0.685212</td>\n      <td>-0.398884</td>\n      <td>-0.241406</td>\n      <td>-0.345193</td>\n      <td>-0.479138</td>\n      <td>-0.181839</td>\n    </tr>\n    <tr>\n      <th>3</th>\n      <td>MIHFTKMHGLGNDFMVVDGVTQNVFFSPEQIRRLADRNFGIGFDQL...</td>\n      <td>NonTra</td>\n      <td>0.280997</td>\n      <td>-0.117689</td>\n      <td>-0.083867</td>\n      <td>-0.368043</td>\n      <td>-0.488394</td>\n      <td>0.055034</td>\n      <td>-0.488394</td>\n      <td>0.020678</td>\n      <td>...</td>\n      <td>-0.562859</td>\n      <td>-0.575967</td>\n      <td>-0.368176</td>\n      <td>0.665715</td>\n      <td>1.325675</td>\n      <td>-0.398884</td>\n      <td>-0.241406</td>\n      <td>-0.345193</td>\n      <td>-0.479138</td>\n      <td>-0.291919</td>\n    </tr>\n    <tr>\n      <th>4</th>\n      <td>MGSSTTEPDVGTTSNIETTTTLQNKNVNEVDQNKKSEQSNPSFKEV...</td>\n      <td>NonTra</td>\n      <td>1.574354</td>\n      <td>-0.613676</td>\n      <td>1.986828</td>\n      <td>-1.987419</td>\n      <td>-0.916583</td>\n      <td>0.611833</td>\n      <td>-0.916583</td>\n      <td>-0.260411</td>\n      <td>...</td>\n      <td>-0.939308</td>\n      <td>0.238984</td>\n      <td>-0.368176</td>\n      <td>0.252244</td>\n      <td>0.609469</td>\n      <td>5.668667</td>\n      <td>-0.241406</td>\n      <td>-0.345193</td>\n      <td>0.612766</td>\n      <td>-0.512079</td>\n    </tr>\n    <tr>\n      <th>...</th>\n      <td>...</td>\n      <td>...</td>\n      <td>...</td>\n      <td>...</td>\n      <td>...</td>\n      <td>...</td>\n      <td>...</td>\n      <td>...</td>\n      <td>...</td>\n      <td>...</td>\n      <td>...</td>\n      <td>...</td>\n      <td>...</td>\n      <td>...</td>\n      <td>...</td>\n      <td>...</td>\n      <td>...</td>\n      <td>...</td>\n      <td>...</td>\n      <td>...</td>\n      <td>...</td>\n    </tr>\n    <tr>\n      <th>30500</th>\n      <td>MPEGKFCNRKPVNTEEDLKALLGDKGGAQYYKEMEELEVDQEALWA...</td>\n      <td>Tra</td>\n      <td>0.510703</td>\n      <td>0.607386</td>\n      <td>0.064474</td>\n      <td>-0.801156</td>\n      <td>-0.557507</td>\n      <td>-0.727494</td>\n      <td>-0.557507</td>\n      <td>0.611736</td>\n      <td>...</td>\n      <td>-0.921382</td>\n      <td>-0.575967</td>\n      <td>3.473675</td>\n      <td>-0.574696</td>\n      <td>-0.079192</td>\n      <td>-0.398884</td>\n      <td>-0.241406</td>\n      <td>1.052822</td>\n      <td>1.477190</td>\n      <td>-0.548772</td>\n    </tr>\n    <tr>\n      <th>30501</th>\n      <td>MQHANTNKSLMTPGNIITGIILVMGLVLTVLRFTKGIGAVSNLDDN...</td>\n      <td>Tra</td>\n      <td>-1.581525</td>\n      <td>-1.315992</td>\n      <td>-1.290844</td>\n      <td>1.513113</td>\n      <td>1.822963</td>\n      <td>1.469604</td>\n      <td>1.822963</td>\n      <td>-1.377985</td>\n      <td>...</td>\n      <td>-0.401524</td>\n      <td>1.189760</td>\n      <td>2.705305</td>\n      <td>-0.574696</td>\n      <td>-0.685212</td>\n      <td>0.938034</td>\n      <td>2.072837</td>\n      <td>-0.345193</td>\n      <td>-0.479138</td>\n      <td>-0.952398</td>\n    </tr>\n    <tr>\n      <th>30502</th>\n      <td>MRFGVVVLAIILLTGCSAMSAISDLLPSKDGIEATAQAGESNQKTG...</td>\n      <td>Tra</td>\n      <td>-0.090436</td>\n      <td>-0.604466</td>\n      <td>0.259392</td>\n      <td>0.218970</td>\n      <td>0.074191</td>\n      <td>0.596784</td>\n      <td>0.074191</td>\n      <td>-0.236207</td>\n      <td>...</td>\n      <td>2.394951</td>\n      <td>-0.575967</td>\n      <td>-0.368176</td>\n      <td>-0.574696</td>\n      <td>-0.685212</td>\n      <td>-0.398884</td>\n      <td>-0.241406</td>\n      <td>-0.345193</td>\n      <td>-0.479138</td>\n      <td>1.799598</td>\n    </tr>\n    <tr>\n      <th>30503</th>\n      <td>MILLTQSRFFSQKARCYITDNKRLFLPLLILIALVVPATRGFTLQA...</td>\n      <td>Tra</td>\n      <td>-1.693440</td>\n      <td>-1.496199</td>\n      <td>-1.129750</td>\n      <td>1.827002</td>\n      <td>1.309433</td>\n      <td>1.710382</td>\n      <td>1.309433</td>\n      <td>-1.234283</td>\n      <td>...</td>\n      <td>-0.114706</td>\n      <td>-0.575967</td>\n      <td>-0.368176</td>\n      <td>-0.574696</td>\n      <td>0.719654</td>\n      <td>-0.398884</td>\n      <td>-0.241406</td>\n      <td>-0.345193</td>\n      <td>-0.479138</td>\n      <td>-0.016719</td>\n    </tr>\n    <tr>\n      <th>30504</th>\n      <td>MRYVRSLLGVGALLVGAGGAAAQPGAFPGAGERAPGGAPSAPVSAP...</td>\n      <td>Tra</td>\n      <td>-0.068580</td>\n      <td>-0.821776</td>\n      <td>1.291862</td>\n      <td>-0.013619</td>\n      <td>0.663791</td>\n      <td>0.852611</td>\n      <td>0.663791</td>\n      <td>-0.810078</td>\n      <td>...</td>\n      <td>2.305320</td>\n      <td>0.238984</td>\n      <td>-0.368176</td>\n      <td>-0.574696</td>\n      <td>0.664561</td>\n      <td>-0.398884</td>\n      <td>1.894818</td>\n      <td>-0.345193</td>\n      <td>1.750166</td>\n      <td>0.827226</td>\n    </tr>\n  </tbody>\n</table>\n<p>30505 rows × 642 columns</p>\n</div>"
     },
     "execution_count": 21,
     "metadata": {},
     "output_type": "execute_result"
    }
   ],
   "source": [
    "df_Tra = df_feaTra.loc[:, list(df_feaTra.columns[:2]) + list(fsTra.scores_ranking(scores).index[:])]\n",
    "dici = {0:'NonTra', 1 : 'Tra'}\n",
    "df_Tra.transporter = df_Tra.transporter.apply(lambda x: dici[x])\n",
    "df_Tra.to_csv('df_Tra.csv')\n",
    "df_Tra"
   ],
   "metadata": {
    "collapsed": false,
    "pycharm": {
     "name": "#%%\n"
    }
   }
  },
  {
   "cell_type": "markdown",
   "source": [
    "## Dataset para classificação multiclasse balanceado"
   ],
   "metadata": {
    "collapsed": false
   }
  },
  {
   "cell_type": "code",
   "execution_count": 22,
   "outputs": [
    {
     "data": {
      "text/plain": "                                                sequence TCDB_ID  \\\n0      MTQMNVESFNLDHTKVKAPYIRLVGVTEGDKGDKIYKYDIRVKQPN...    cls0   \n1      MGRMRGEALAQEVLRLKRERNAVILAHSYQLPEVQEVADFVGDSLG...    cls0   \n2      MTRSPLRRLIFGALRRLLYLWVRSETINQSAMSLQLDRSRPVFYAL...    cls0   \n3      MSNKAWGGRFEVQPEEWVDDFNASITFDQTLINQDIEGSIAHATML...    cls0   \n4      MKQSHFFAHLSRMKLINRWPLMRNVRTENVSEHSLQVAMVAHALAA...    cls0   \n...                                                  ...     ...   \n18043  MAKSDTSNLGYAYHLPSGGCLMRIRNALSQFSDLFSEFNRYIAPAY...     cl8   \n18044  MWLSVFALQCALFAGFCFARDIRYSTGVSITLRNDAWTSPKKEPHR...     cl8   \n18045  MTATAKGINVMNTPLSTSQEPPIQFSTIASEFLHQQTDDVQPSGFQ...     cl8   \n18046  MSMFNILKQVVNLNKVQLCQKSFQVNSKSFAQYSYRLNSSYILNNS...     cl8   \n18047  MVAFQILSWFPAVITSLVVVYFIDILLKRGVVGLFKSFANAILLLP...     cl8   \n\n       _ChargeD2100  bomanindex     Gravy  _ChargeC2  \\\n0          0.759279    1.055460 -1.126033  -0.802890   \n1          1.112996    0.420463 -0.163105  -1.118912   \n2          0.067800    0.469576 -0.276162  -0.125701   \n3          0.254021    0.841222 -0.857528  -0.321333   \n4          0.779939    0.723605 -0.671107  -0.817939   \n...             ...         ...       ...        ...   \n18043     -0.314695    0.026696  0.044050   0.250516   \n18044      1.370975    1.452603 -1.158931  -1.344641   \n18045      0.344779    1.219002 -1.156709  -0.411625   \n18046     -0.031259    0.348854 -0.441076  -0.080555   \n18047     -0.143416    0.169290 -0.201189   0.084981   \n\n       _SolventAccessibilityD2100  _HydrophobicityD1100  \\\n0                       -0.974398             -0.974398   \n1                       -0.542919             -0.542919   \n2                       -0.402101             -0.402101   \n3                       -0.751149             -0.751149   \n4                       -0.860360             -0.860360   \n...                           ...                   ...   \n18043                   -0.057942             -0.057942   \n18044                   -0.922430             -0.922430   \n18045                   -0.670283             -0.670283   \n18046                   -0.636272             -0.636272   \n18047                   -0.141538             -0.141538   \n\n       _SolventAccessibilityC2  _ChargeD2075  ...        KF        CQ  \\\n0                     1.332676      0.741912  ... -0.579766  3.428950   \n1                     0.385043      0.740938  ... -0.579766 -0.236330   \n2                     0.208152      0.164542  ... -0.579766 -0.236330   \n3                     0.865177      0.374152  ...  0.104198 -0.236330   \n4                     1.042068      0.521961  ...  1.005787 -0.236330   \n...                        ...           ...  ...       ...       ...   \n18043                -0.234076     -0.317937  ...  0.601626  0.818827   \n18044                 1.130514      1.464293  ...  0.570537  1.152034   \n18045                 0.688286      0.643615  ... -0.113427 -0.236330   \n18046                 0.625110     -0.078279  ... -0.579766  1.873983   \n18047                -0.158266     -0.169520  ... -0.237784 -0.236330   \n\n             HQ        KY        HM        HH        KW        WE        MH  \\\n0     -0.386144  1.629340  5.032043  3.364823 -0.336860 -0.354468 -0.298901   \n1     -0.386144 -0.550494 -0.288766 -0.290831 -0.336860 -0.354468 -0.298901   \n2     -0.386144 -0.550494 -0.288766 -0.290831 -0.336860 -0.354468 -0.298901   \n3      0.842466 -0.550494 -0.288766  2.146272 -0.336860 -0.354468  1.334128   \n4     -0.386144  1.133923 -0.288766 -0.290831 -0.336860 -0.354468 -0.298901   \n...         ...       ...       ...       ...       ...       ...       ...   \n18043 -0.386144  0.704562 -0.288766  0.761555  0.658481 -0.354468  1.111442   \n18044 -0.386144  0.275201 -0.288766  0.373834  0.972799  1.259807 -0.298901   \n18045  1.233388 -0.550494 -0.288766  0.540000 -0.336860 -0.354468  1.853728   \n18046 -0.386144  0.704562 -0.288766 -0.290831  1.653822 -0.354468 -0.298901   \n18047  0.898312 -0.187189 -0.288766 -0.290831 -0.336860 -0.354468  0.517613   \n\n             WH  \n0     -0.247049  \n1     -0.247049  \n2     -0.247049  \n3     -0.247049  \n4     -0.247049  \n...         ...  \n18043 -0.247049  \n18044 -0.247049  \n18045 -0.247049  \n18046 -0.247049  \n18047 -0.247049  \n\n[18048 rows x 642 columns]",
      "text/html": "<div>\n<style scoped>\n    .dataframe tbody tr th:only-of-type {\n        vertical-align: middle;\n    }\n\n    .dataframe tbody tr th {\n        vertical-align: top;\n    }\n\n    .dataframe thead th {\n        text-align: right;\n    }\n</style>\n<table border=\"1\" class=\"dataframe\">\n  <thead>\n    <tr style=\"text-align: right;\">\n      <th></th>\n      <th>sequence</th>\n      <th>TCDB_ID</th>\n      <th>_ChargeD2100</th>\n      <th>bomanindex</th>\n      <th>Gravy</th>\n      <th>_ChargeC2</th>\n      <th>_SolventAccessibilityD2100</th>\n      <th>_HydrophobicityD1100</th>\n      <th>_SolventAccessibilityC2</th>\n      <th>_ChargeD2075</th>\n      <th>...</th>\n      <th>KF</th>\n      <th>CQ</th>\n      <th>HQ</th>\n      <th>KY</th>\n      <th>HM</th>\n      <th>HH</th>\n      <th>KW</th>\n      <th>WE</th>\n      <th>MH</th>\n      <th>WH</th>\n    </tr>\n  </thead>\n  <tbody>\n    <tr>\n      <th>0</th>\n      <td>MTQMNVESFNLDHTKVKAPYIRLVGVTEGDKGDKIYKYDIRVKQPN...</td>\n      <td>cls0</td>\n      <td>0.759279</td>\n      <td>1.055460</td>\n      <td>-1.126033</td>\n      <td>-0.802890</td>\n      <td>-0.974398</td>\n      <td>-0.974398</td>\n      <td>1.332676</td>\n      <td>0.741912</td>\n      <td>...</td>\n      <td>-0.579766</td>\n      <td>3.428950</td>\n      <td>-0.386144</td>\n      <td>1.629340</td>\n      <td>5.032043</td>\n      <td>3.364823</td>\n      <td>-0.336860</td>\n      <td>-0.354468</td>\n      <td>-0.298901</td>\n      <td>-0.247049</td>\n    </tr>\n    <tr>\n      <th>1</th>\n      <td>MGRMRGEALAQEVLRLKRERNAVILAHSYQLPEVQEVADFVGDSLG...</td>\n      <td>cls0</td>\n      <td>1.112996</td>\n      <td>0.420463</td>\n      <td>-0.163105</td>\n      <td>-1.118912</td>\n      <td>-0.542919</td>\n      <td>-0.542919</td>\n      <td>0.385043</td>\n      <td>0.740938</td>\n      <td>...</td>\n      <td>-0.579766</td>\n      <td>-0.236330</td>\n      <td>-0.386144</td>\n      <td>-0.550494</td>\n      <td>-0.288766</td>\n      <td>-0.290831</td>\n      <td>-0.336860</td>\n      <td>-0.354468</td>\n      <td>-0.298901</td>\n      <td>-0.247049</td>\n    </tr>\n    <tr>\n      <th>2</th>\n      <td>MTRSPLRRLIFGALRRLLYLWVRSETINQSAMSLQLDRSRPVFYAL...</td>\n      <td>cls0</td>\n      <td>0.067800</td>\n      <td>0.469576</td>\n      <td>-0.276162</td>\n      <td>-0.125701</td>\n      <td>-0.402101</td>\n      <td>-0.402101</td>\n      <td>0.208152</td>\n      <td>0.164542</td>\n      <td>...</td>\n      <td>-0.579766</td>\n      <td>-0.236330</td>\n      <td>-0.386144</td>\n      <td>-0.550494</td>\n      <td>-0.288766</td>\n      <td>-0.290831</td>\n      <td>-0.336860</td>\n      <td>-0.354468</td>\n      <td>-0.298901</td>\n      <td>-0.247049</td>\n    </tr>\n    <tr>\n      <th>3</th>\n      <td>MSNKAWGGRFEVQPEEWVDDFNASITFDQTLINQDIEGSIAHATML...</td>\n      <td>cls0</td>\n      <td>0.254021</td>\n      <td>0.841222</td>\n      <td>-0.857528</td>\n      <td>-0.321333</td>\n      <td>-0.751149</td>\n      <td>-0.751149</td>\n      <td>0.865177</td>\n      <td>0.374152</td>\n      <td>...</td>\n      <td>0.104198</td>\n      <td>-0.236330</td>\n      <td>0.842466</td>\n      <td>-0.550494</td>\n      <td>-0.288766</td>\n      <td>2.146272</td>\n      <td>-0.336860</td>\n      <td>-0.354468</td>\n      <td>1.334128</td>\n      <td>-0.247049</td>\n    </tr>\n    <tr>\n      <th>4</th>\n      <td>MKQSHFFAHLSRMKLINRWPLMRNVRTENVSEHSLQVAMVAHALAA...</td>\n      <td>cls0</td>\n      <td>0.779939</td>\n      <td>0.723605</td>\n      <td>-0.671107</td>\n      <td>-0.817939</td>\n      <td>-0.860360</td>\n      <td>-0.860360</td>\n      <td>1.042068</td>\n      <td>0.521961</td>\n      <td>...</td>\n      <td>1.005787</td>\n      <td>-0.236330</td>\n      <td>-0.386144</td>\n      <td>1.133923</td>\n      <td>-0.288766</td>\n      <td>-0.290831</td>\n      <td>-0.336860</td>\n      <td>-0.354468</td>\n      <td>-0.298901</td>\n      <td>-0.247049</td>\n    </tr>\n    <tr>\n      <th>...</th>\n      <td>...</td>\n      <td>...</td>\n      <td>...</td>\n      <td>...</td>\n      <td>...</td>\n      <td>...</td>\n      <td>...</td>\n      <td>...</td>\n      <td>...</td>\n      <td>...</td>\n      <td>...</td>\n      <td>...</td>\n      <td>...</td>\n      <td>...</td>\n      <td>...</td>\n      <td>...</td>\n      <td>...</td>\n      <td>...</td>\n      <td>...</td>\n      <td>...</td>\n      <td>...</td>\n    </tr>\n    <tr>\n      <th>18043</th>\n      <td>MAKSDTSNLGYAYHLPSGGCLMRIRNALSQFSDLFSEFNRYIAPAY...</td>\n      <td>cl8</td>\n      <td>-0.314695</td>\n      <td>0.026696</td>\n      <td>0.044050</td>\n      <td>0.250516</td>\n      <td>-0.057942</td>\n      <td>-0.057942</td>\n      <td>-0.234076</td>\n      <td>-0.317937</td>\n      <td>...</td>\n      <td>0.601626</td>\n      <td>0.818827</td>\n      <td>-0.386144</td>\n      <td>0.704562</td>\n      <td>-0.288766</td>\n      <td>0.761555</td>\n      <td>0.658481</td>\n      <td>-0.354468</td>\n      <td>1.111442</td>\n      <td>-0.247049</td>\n    </tr>\n    <tr>\n      <th>18044</th>\n      <td>MWLSVFALQCALFAGFCFARDIRYSTGVSITLRNDAWTSPKKEPHR...</td>\n      <td>cl8</td>\n      <td>1.370975</td>\n      <td>1.452603</td>\n      <td>-1.158931</td>\n      <td>-1.344641</td>\n      <td>-0.922430</td>\n      <td>-0.922430</td>\n      <td>1.130514</td>\n      <td>1.464293</td>\n      <td>...</td>\n      <td>0.570537</td>\n      <td>1.152034</td>\n      <td>-0.386144</td>\n      <td>0.275201</td>\n      <td>-0.288766</td>\n      <td>0.373834</td>\n      <td>0.972799</td>\n      <td>1.259807</td>\n      <td>-0.298901</td>\n      <td>-0.247049</td>\n    </tr>\n    <tr>\n      <th>18045</th>\n      <td>MTATAKGINVMNTPLSTSQEPPIQFSTIASEFLHQQTDDVQPSGFQ...</td>\n      <td>cl8</td>\n      <td>0.344779</td>\n      <td>1.219002</td>\n      <td>-1.156709</td>\n      <td>-0.411625</td>\n      <td>-0.670283</td>\n      <td>-0.670283</td>\n      <td>0.688286</td>\n      <td>0.643615</td>\n      <td>...</td>\n      <td>-0.113427</td>\n      <td>-0.236330</td>\n      <td>1.233388</td>\n      <td>-0.550494</td>\n      <td>-0.288766</td>\n      <td>0.540000</td>\n      <td>-0.336860</td>\n      <td>-0.354468</td>\n      <td>1.853728</td>\n      <td>-0.247049</td>\n    </tr>\n    <tr>\n      <th>18046</th>\n      <td>MSMFNILKQVVNLNKVQLCQKSFQVNSKSFAQYSYRLNSSYILNNS...</td>\n      <td>cl8</td>\n      <td>-0.031259</td>\n      <td>0.348854</td>\n      <td>-0.441076</td>\n      <td>-0.080555</td>\n      <td>-0.636272</td>\n      <td>-0.636272</td>\n      <td>0.625110</td>\n      <td>-0.078279</td>\n      <td>...</td>\n      <td>-0.579766</td>\n      <td>1.873983</td>\n      <td>-0.386144</td>\n      <td>0.704562</td>\n      <td>-0.288766</td>\n      <td>-0.290831</td>\n      <td>1.653822</td>\n      <td>-0.354468</td>\n      <td>-0.298901</td>\n      <td>-0.247049</td>\n    </tr>\n    <tr>\n      <th>18047</th>\n      <td>MVAFQILSWFPAVITSLVVVYFIDILLKRGVVGLFKSFANAILLLP...</td>\n      <td>cl8</td>\n      <td>-0.143416</td>\n      <td>0.169290</td>\n      <td>-0.201189</td>\n      <td>0.084981</td>\n      <td>-0.141538</td>\n      <td>-0.141538</td>\n      <td>-0.158266</td>\n      <td>-0.169520</td>\n      <td>...</td>\n      <td>-0.237784</td>\n      <td>-0.236330</td>\n      <td>0.898312</td>\n      <td>-0.187189</td>\n      <td>-0.288766</td>\n      <td>-0.290831</td>\n      <td>-0.336860</td>\n      <td>-0.354468</td>\n      <td>0.517613</td>\n      <td>-0.247049</td>\n    </tr>\n  </tbody>\n</table>\n<p>18048 rows × 642 columns</p>\n</div>"
     },
     "execution_count": 22,
     "metadata": {},
     "output_type": "execute_result"
    }
   ],
   "source": [
    "df_TCDB_blc = df_feaTCDB_blc.loc[:, list(df_feaTCDB.columns[:2]) + list(fsTCDB_blc.scores_ranking(scores2).index[:])]\n",
    "dici = {0:'cls0', 1 : 'cl1',2:'cl2',3:'cl3',4:'cl4',5:'cl5',8:'cl8' }\n",
    "df_TCDB_blc.TCDB_ID = df_TCDB_blc.TCDB_ID.apply(lambda x: dici[x])\n",
    "df_TCDB_blc.to_csv('df_TCDB_blc.csv')\n",
    "df_TCDB_blc"
   ],
   "metadata": {
    "collapsed": false,
    "pycharm": {
     "name": "#%%\n"
    }
   }
  },
  {
   "cell_type": "markdown",
   "source": [
    "## Dataset para classificação multiclasse de transportadores"
   ],
   "metadata": {
    "collapsed": false
   }
  },
  {
   "cell_type": "code",
   "execution_count": 23,
   "outputs": [
    {
     "data": {
      "text/plain": "                                                sequence TCDB_ID  \\\n16457  MDSIRPATFQIPAAVRELGWAALLLFFVLLSVHEWFSPPGWFGLLA...     cl4   \n16458  MSPSRTARLYFLLVLDLLFFVLEISIGYAVGSLALVADSFHMLNDV...     cl2   \n16459  MHFGLNDRPEQVASASHSIFSSDDNKLRLSASLPDTAVTDLRRLGR...     cl2   \n16460  MFPLSALPRCVALRSKHGNSYLRSVHDKSQGGNFVELSADNDGGVM...     cl1   \n16461     FGFKDIIRAIRRIAVPVVSTLFPPAAPLAHAIGEGVDYLLGDEAQA     cl1   \n...                                                  ...     ...   \n30500  MPEGKFCNRKPVNTEEDLKALLGDKGGAQYYKEMEELEVDQEALWA...     cl5   \n30501  MQHANTNKSLMTPGNIITGIILVMGLVLTVLRFTKGIGAVSNLDDN...     cl5   \n30502  MRFGVVVLAIILLTGCSAMSAISDLLPSKDGIEATAQAGESNQKTG...     cl1   \n30503  MILLTQSRFFSQKARCYITDNKRLFLPLLILIALVVPATRGFTLQA...     cl2   \n30504  MRYVRSLLGVGALLVGAGGAAAQPGAFPGAGERAPGGAPSAPVSAP...     cl1   \n\n       _HydrophobicityD1100  _ChargeD2100  _SolventAccessibilityD2100  \\\n16457              0.963098     -0.891240                    0.963098   \n16458              0.308846     -0.396637                    0.308846   \n16459             -0.540370      0.471229                   -0.540370   \n16460             -0.779495      0.905993                   -0.779495   \n16461              0.104314      0.179309                    0.104314   \n...                     ...           ...                         ...   \n30500             -0.908812      1.340654                   -0.908812   \n30501              1.108509     -0.915757                    1.108509   \n30502             -0.373482     -0.081031                   -0.373482   \n30503              0.673320     -1.127166                    0.673320   \n30504              0.126172     -0.335968                    0.126172   \n\n       hydrophobic_ratio  _SolventAccessibilityC2     Gravy  bomanindex  \\\n16457           1.151802                -1.053496  0.914927   -0.888562   \n16458          -0.544895                -0.597386 -0.265547    0.400992   \n16459          -0.322973                 0.393026 -0.430169    0.612418   \n16460          -1.400136                 0.823074 -1.142603    1.179043   \n16461           1.113481                -0.467068  0.673374   -0.458626   \n...                  ...                      ...       ...         ...   \n30500          -0.971821                 1.109772 -1.259992    1.051610   \n30501           0.752002                -1.144719  0.910925   -1.006250   \n30502          -0.683305                 0.106328 -0.303055    0.460346   \n30503           1.200391                -1.027433  1.205370   -1.116326   \n30504          -0.724593                -0.454037 -0.521237    0.481843   \n\n       _ChargeD3100  ...        VH        NC        WK        EH        HH  \\\n16457      0.770825  ...  1.530334 -0.250250 -0.380315 -0.437222 -0.289560   \n16458     -0.216299  ...  1.530334  0.893768 -0.380315  2.535112  0.963302   \n16459     -0.605204  ...  1.874961 -0.250250  0.824445  1.863940 -0.289560   \n16460     -0.701986  ...  1.579566 -0.250250 -0.380315  1.576295 -0.289560   \n16461     -0.628210  ... -0.488196 -0.250250 -0.380315 -0.437222 -0.289560   \n...             ...  ...       ...       ...       ...       ...       ...   \n30500     -0.880588  ... -0.488196  0.948245 -0.380315  1.624236 -0.289560   \n30501      0.611843  ... -0.488196 -0.250250 -0.380315  0.809241  1.261602   \n30502     -0.665177  ... -0.488196 -0.250250 -0.380315 -0.437222 -0.289560   \n30503      0.762407  ... -0.488196 -0.250250  0.924842 -0.437222 -0.289560   \n30504     -0.177275  ... -0.488196 -0.250250 -0.380315 -0.437222  1.142282   \n\n             HR        NH        YH        HN        HK  \n16457 -0.440332 -0.392031  2.334183 -0.383786 -0.411758  \n16458  2.537851 -0.392031  2.334183  0.916904  0.761645  \n16459  3.018203 -0.392031  2.793955 -0.383786 -0.411758  \n16460 -0.440332 -0.392031 -0.358767  0.916904 -0.411758  \n16461 -0.440332 -0.392031 -0.358767 -0.383786 -0.411758  \n...         ...       ...       ...       ...       ...  \n30500  1.625182  0.910957 -0.358767  2.279532 -0.411758  \n30501 -0.440332 -0.392031  1.348958 -0.383786  1.041027  \n30502 -0.440332 -0.392031 -0.358767 -0.383786 -0.411758  \n30503  0.808584 -0.392031 -0.358767 -0.383786 -0.411758  \n30504 -0.440332 -0.392031  1.217594 -0.383786 -0.411758  \n\n[14048 rows x 642 columns]",
      "text/html": "<div>\n<style scoped>\n    .dataframe tbody tr th:only-of-type {\n        vertical-align: middle;\n    }\n\n    .dataframe tbody tr th {\n        vertical-align: top;\n    }\n\n    .dataframe thead th {\n        text-align: right;\n    }\n</style>\n<table border=\"1\" class=\"dataframe\">\n  <thead>\n    <tr style=\"text-align: right;\">\n      <th></th>\n      <th>sequence</th>\n      <th>TCDB_ID</th>\n      <th>_HydrophobicityD1100</th>\n      <th>_ChargeD2100</th>\n      <th>_SolventAccessibilityD2100</th>\n      <th>hydrophobic_ratio</th>\n      <th>_SolventAccessibilityC2</th>\n      <th>Gravy</th>\n      <th>bomanindex</th>\n      <th>_ChargeD3100</th>\n      <th>...</th>\n      <th>VH</th>\n      <th>NC</th>\n      <th>WK</th>\n      <th>EH</th>\n      <th>HH</th>\n      <th>HR</th>\n      <th>NH</th>\n      <th>YH</th>\n      <th>HN</th>\n      <th>HK</th>\n    </tr>\n  </thead>\n  <tbody>\n    <tr>\n      <th>16457</th>\n      <td>MDSIRPATFQIPAAVRELGWAALLLFFVLLSVHEWFSPPGWFGLLA...</td>\n      <td>cl4</td>\n      <td>0.963098</td>\n      <td>-0.891240</td>\n      <td>0.963098</td>\n      <td>1.151802</td>\n      <td>-1.053496</td>\n      <td>0.914927</td>\n      <td>-0.888562</td>\n      <td>0.770825</td>\n      <td>...</td>\n      <td>1.530334</td>\n      <td>-0.250250</td>\n      <td>-0.380315</td>\n      <td>-0.437222</td>\n      <td>-0.289560</td>\n      <td>-0.440332</td>\n      <td>-0.392031</td>\n      <td>2.334183</td>\n      <td>-0.383786</td>\n      <td>-0.411758</td>\n    </tr>\n    <tr>\n      <th>16458</th>\n      <td>MSPSRTARLYFLLVLDLLFFVLEISIGYAVGSLALVADSFHMLNDV...</td>\n      <td>cl2</td>\n      <td>0.308846</td>\n      <td>-0.396637</td>\n      <td>0.308846</td>\n      <td>-0.544895</td>\n      <td>-0.597386</td>\n      <td>-0.265547</td>\n      <td>0.400992</td>\n      <td>-0.216299</td>\n      <td>...</td>\n      <td>1.530334</td>\n      <td>0.893768</td>\n      <td>-0.380315</td>\n      <td>2.535112</td>\n      <td>0.963302</td>\n      <td>2.537851</td>\n      <td>-0.392031</td>\n      <td>2.334183</td>\n      <td>0.916904</td>\n      <td>0.761645</td>\n    </tr>\n    <tr>\n      <th>16459</th>\n      <td>MHFGLNDRPEQVASASHSIFSSDDNKLRLSASLPDTAVTDLRRLGR...</td>\n      <td>cl2</td>\n      <td>-0.540370</td>\n      <td>0.471229</td>\n      <td>-0.540370</td>\n      <td>-0.322973</td>\n      <td>0.393026</td>\n      <td>-0.430169</td>\n      <td>0.612418</td>\n      <td>-0.605204</td>\n      <td>...</td>\n      <td>1.874961</td>\n      <td>-0.250250</td>\n      <td>0.824445</td>\n      <td>1.863940</td>\n      <td>-0.289560</td>\n      <td>3.018203</td>\n      <td>-0.392031</td>\n      <td>2.793955</td>\n      <td>-0.383786</td>\n      <td>-0.411758</td>\n    </tr>\n    <tr>\n      <th>16460</th>\n      <td>MFPLSALPRCVALRSKHGNSYLRSVHDKSQGGNFVELSADNDGGVM...</td>\n      <td>cl1</td>\n      <td>-0.779495</td>\n      <td>0.905993</td>\n      <td>-0.779495</td>\n      <td>-1.400136</td>\n      <td>0.823074</td>\n      <td>-1.142603</td>\n      <td>1.179043</td>\n      <td>-0.701986</td>\n      <td>...</td>\n      <td>1.579566</td>\n      <td>-0.250250</td>\n      <td>-0.380315</td>\n      <td>1.576295</td>\n      <td>-0.289560</td>\n      <td>-0.440332</td>\n      <td>-0.392031</td>\n      <td>-0.358767</td>\n      <td>0.916904</td>\n      <td>-0.411758</td>\n    </tr>\n    <tr>\n      <th>16461</th>\n      <td>FGFKDIIRAIRRIAVPVVSTLFPPAAPLAHAIGEGVDYLLGDEAQA</td>\n      <td>cl1</td>\n      <td>0.104314</td>\n      <td>0.179309</td>\n      <td>0.104314</td>\n      <td>1.113481</td>\n      <td>-0.467068</td>\n      <td>0.673374</td>\n      <td>-0.458626</td>\n      <td>-0.628210</td>\n      <td>...</td>\n      <td>-0.488196</td>\n      <td>-0.250250</td>\n      <td>-0.380315</td>\n      <td>-0.437222</td>\n      <td>-0.289560</td>\n      <td>-0.440332</td>\n      <td>-0.392031</td>\n      <td>-0.358767</td>\n      <td>-0.383786</td>\n      <td>-0.411758</td>\n    </tr>\n    <tr>\n      <th>...</th>\n      <td>...</td>\n      <td>...</td>\n      <td>...</td>\n      <td>...</td>\n      <td>...</td>\n      <td>...</td>\n      <td>...</td>\n      <td>...</td>\n      <td>...</td>\n      <td>...</td>\n      <td>...</td>\n      <td>...</td>\n      <td>...</td>\n      <td>...</td>\n      <td>...</td>\n      <td>...</td>\n      <td>...</td>\n      <td>...</td>\n      <td>...</td>\n      <td>...</td>\n      <td>...</td>\n    </tr>\n    <tr>\n      <th>30500</th>\n      <td>MPEGKFCNRKPVNTEEDLKALLGDKGGAQYYKEMEELEVDQEALWA...</td>\n      <td>cl5</td>\n      <td>-0.908812</td>\n      <td>1.340654</td>\n      <td>-0.908812</td>\n      <td>-0.971821</td>\n      <td>1.109772</td>\n      <td>-1.259992</td>\n      <td>1.051610</td>\n      <td>-0.880588</td>\n      <td>...</td>\n      <td>-0.488196</td>\n      <td>0.948245</td>\n      <td>-0.380315</td>\n      <td>1.624236</td>\n      <td>-0.289560</td>\n      <td>1.625182</td>\n      <td>0.910957</td>\n      <td>-0.358767</td>\n      <td>2.279532</td>\n      <td>-0.411758</td>\n    </tr>\n    <tr>\n      <th>30501</th>\n      <td>MQHANTNKSLMTPGNIITGIILVMGLVLTVLRFTKGIGAVSNLDDN...</td>\n      <td>cl5</td>\n      <td>1.108509</td>\n      <td>-0.915757</td>\n      <td>1.108509</td>\n      <td>0.752002</td>\n      <td>-1.144719</td>\n      <td>0.910925</td>\n      <td>-1.006250</td>\n      <td>0.611843</td>\n      <td>...</td>\n      <td>-0.488196</td>\n      <td>-0.250250</td>\n      <td>-0.380315</td>\n      <td>0.809241</td>\n      <td>1.261602</td>\n      <td>-0.440332</td>\n      <td>-0.392031</td>\n      <td>1.348958</td>\n      <td>-0.383786</td>\n      <td>1.041027</td>\n    </tr>\n    <tr>\n      <th>30502</th>\n      <td>MRFGVVVLAIILLTGCSAMSAISDLLPSKDGIEATAQAGESNQKTG...</td>\n      <td>cl1</td>\n      <td>-0.373482</td>\n      <td>-0.081031</td>\n      <td>-0.373482</td>\n      <td>-0.683305</td>\n      <td>0.106328</td>\n      <td>-0.303055</td>\n      <td>0.460346</td>\n      <td>-0.665177</td>\n      <td>...</td>\n      <td>-0.488196</td>\n      <td>-0.250250</td>\n      <td>-0.380315</td>\n      <td>-0.437222</td>\n      <td>-0.289560</td>\n      <td>-0.440332</td>\n      <td>-0.392031</td>\n      <td>-0.358767</td>\n      <td>-0.383786</td>\n      <td>-0.411758</td>\n    </tr>\n    <tr>\n      <th>30503</th>\n      <td>MILLTQSRFFSQKARCYITDNKRLFLPLLILIALVVPATRGFTLQA...</td>\n      <td>cl2</td>\n      <td>0.673320</td>\n      <td>-1.127166</td>\n      <td>0.673320</td>\n      <td>1.200391</td>\n      <td>-1.027433</td>\n      <td>1.205370</td>\n      <td>-1.116326</td>\n      <td>0.762407</td>\n      <td>...</td>\n      <td>-0.488196</td>\n      <td>-0.250250</td>\n      <td>0.924842</td>\n      <td>-0.437222</td>\n      <td>-0.289560</td>\n      <td>0.808584</td>\n      <td>-0.392031</td>\n      <td>-0.358767</td>\n      <td>-0.383786</td>\n      <td>-0.411758</td>\n    </tr>\n    <tr>\n      <th>30504</th>\n      <td>MRYVRSLLGVGALLVGAGGAAAQPGAFPGAGERAPGGAPSAPVSAP...</td>\n      <td>cl1</td>\n      <td>0.126172</td>\n      <td>-0.335968</td>\n      <td>0.126172</td>\n      <td>-0.724593</td>\n      <td>-0.454037</td>\n      <td>-0.521237</td>\n      <td>0.481843</td>\n      <td>-0.177275</td>\n      <td>...</td>\n      <td>-0.488196</td>\n      <td>-0.250250</td>\n      <td>-0.380315</td>\n      <td>-0.437222</td>\n      <td>1.142282</td>\n      <td>-0.440332</td>\n      <td>-0.392031</td>\n      <td>1.217594</td>\n      <td>-0.383786</td>\n      <td>-0.411758</td>\n    </tr>\n  </tbody>\n</table>\n<p>14048 rows × 642 columns</p>\n</div>"
     },
     "execution_count": 23,
     "metadata": {},
     "output_type": "execute_result"
    }
   ],
   "source": [
    "df_TCDB_nz = df_feaTCDB_nz.loc[:, list(df_feaTCDB.columns[:2]) + list(fsTCDB_nz.scores_ranking(scores3).index[:])]\n",
    "df_TCDB_nz.TCDB_ID = df_TCDB_nz.TCDB_ID.apply(lambda x: dici[x])\n",
    "df_TCDB_nz.to_csv('df_TCDB_nz.csv')\n",
    "df_TCDB_nz"
   ],
   "metadata": {
    "collapsed": false,
    "pycharm": {
     "name": "#%%\n"
    }
   }
  },
  {
   "cell_type": "markdown",
   "source": [
    "# One-hot-encoding\n",
    "De seguida foi realizada a técnica de one-hot-encoding para as sequências do dataset, com o intuito de utilizar esta feature nas próximas etapas, nomeadamente Machine Learning e Deep Learning."
   ],
   "metadata": {
    "collapsed": false,
    "pycharm": {
     "name": "#%% md\n"
    }
   }
  },
  {
   "cell_type": "code",
   "execution_count": 24,
   "outputs": [],
   "source": [
    "df_enco = df_clean.copy()\n",
    "cdx = Hotencoding(df_enco.sequence)\n",
    "df_sequence = cdx.fit_transform()"
   ],
   "metadata": {
    "collapsed": false,
    "pycharm": {
     "name": "#%%\n"
    }
   }
  },
  {
   "cell_type": "code",
   "execution_count": 25,
   "outputs": [
    {
     "data": {
      "text/plain": "                                                sequence  transporter TCDB_ID  \\\n0      MSYKPIAPAPSSTPGSSTPGPGTPVPTGSVPSPSGSVPGAGAPFRP...            0       0   \n1      MSDDLPIDIHSSKLLDWLVSRRHCNKDWQKSVVAIREKIKHAILDM...            0       0   \n2      MPFDPAASPLSPSQARVLATLMEKARTVPDSYPMSLNGLLTGCNQK...            0       0   \n3      MIHFTKMHGLGNDFMVVDGVTQNVFFSPEQIRRLADRNFGIGFDQL...            0       0   \n4      MGSSTTEPDVGTTSNIETTTTLQNKNVNEVDQNKKSEQSNPSFKEV...            0       0   \n...                                                  ...          ...     ...   \n30617  MPEGKFCNRKPVNTEEDLKALLGDKGGAQYYKEMEELEVDQEALWA...            1       5   \n30618  MQHANTNKSLMTPGNIITGIILVMGLVLTVLRFTKGIGAVSNLDDN...            1       5   \n30619  MRFGVVVLAIILLTGCSAMSAISDLLPSKDGIEATAQAGESNQKTG...            1       1   \n30620  MILLTQSRFFSQKARCYITDNKRLFLPLLILIALVVPATRGFTLQA...            1       2   \n30621  MRYVRSLLGVGALLVGAGGAAAQPGAFPGAGERAPGGAPSAPVSAP...            1       1   \n\n                                                  Hotenc  \n0      [[0.0, 0.0, 0.0, 0.0, 0.0, 0.0, 0.0, 0.0, 0.0,...  \n1      [[0.0, 0.0, 0.0, 0.0, 0.0, 0.0, 0.0, 0.0, 0.0,...  \n2      [[0.0, 0.0, 0.0, 0.0, 0.0, 0.0, 0.0, 0.0, 0.0,...  \n3      [[0.0, 0.0, 0.0, 0.0, 0.0, 0.0, 0.0, 0.0, 0.0,...  \n4      [[0.0, 0.0, 0.0, 0.0, 0.0, 0.0, 0.0, 0.0, 0.0,...  \n...                                                  ...  \n30617  [[0.0, 0.0, 0.0, 0.0, 0.0, 0.0, 0.0, 0.0, 0.0,...  \n30618  [[0.0, 0.0, 0.0, 0.0, 0.0, 0.0, 0.0, 0.0, 0.0,...  \n30619  [[0.0, 0.0, 0.0, 0.0, 0.0, 0.0, 0.0, 0.0, 0.0,...  \n30620  [[0.0, 0.0, 0.0, 0.0, 0.0, 0.0, 0.0, 0.0, 0.0,...  \n30621  [[0.0, 0.0, 0.0, 0.0, 0.0, 0.0, 0.0, 0.0, 0.0,...  \n\n[30505 rows x 4 columns]",
      "text/html": "<div>\n<style scoped>\n    .dataframe tbody tr th:only-of-type {\n        vertical-align: middle;\n    }\n\n    .dataframe tbody tr th {\n        vertical-align: top;\n    }\n\n    .dataframe thead th {\n        text-align: right;\n    }\n</style>\n<table border=\"1\" class=\"dataframe\">\n  <thead>\n    <tr style=\"text-align: right;\">\n      <th></th>\n      <th>sequence</th>\n      <th>transporter</th>\n      <th>TCDB_ID</th>\n      <th>Hotenc</th>\n    </tr>\n  </thead>\n  <tbody>\n    <tr>\n      <th>0</th>\n      <td>MSYKPIAPAPSSTPGSSTPGPGTPVPTGSVPSPSGSVPGAGAPFRP...</td>\n      <td>0</td>\n      <td>0</td>\n      <td>[[0.0, 0.0, 0.0, 0.0, 0.0, 0.0, 0.0, 0.0, 0.0,...</td>\n    </tr>\n    <tr>\n      <th>1</th>\n      <td>MSDDLPIDIHSSKLLDWLVSRRHCNKDWQKSVVAIREKIKHAILDM...</td>\n      <td>0</td>\n      <td>0</td>\n      <td>[[0.0, 0.0, 0.0, 0.0, 0.0, 0.0, 0.0, 0.0, 0.0,...</td>\n    </tr>\n    <tr>\n      <th>2</th>\n      <td>MPFDPAASPLSPSQARVLATLMEKARTVPDSYPMSLNGLLTGCNQK...</td>\n      <td>0</td>\n      <td>0</td>\n      <td>[[0.0, 0.0, 0.0, 0.0, 0.0, 0.0, 0.0, 0.0, 0.0,...</td>\n    </tr>\n    <tr>\n      <th>3</th>\n      <td>MIHFTKMHGLGNDFMVVDGVTQNVFFSPEQIRRLADRNFGIGFDQL...</td>\n      <td>0</td>\n      <td>0</td>\n      <td>[[0.0, 0.0, 0.0, 0.0, 0.0, 0.0, 0.0, 0.0, 0.0,...</td>\n    </tr>\n    <tr>\n      <th>4</th>\n      <td>MGSSTTEPDVGTTSNIETTTTLQNKNVNEVDQNKKSEQSNPSFKEV...</td>\n      <td>0</td>\n      <td>0</td>\n      <td>[[0.0, 0.0, 0.0, 0.0, 0.0, 0.0, 0.0, 0.0, 0.0,...</td>\n    </tr>\n    <tr>\n      <th>...</th>\n      <td>...</td>\n      <td>...</td>\n      <td>...</td>\n      <td>...</td>\n    </tr>\n    <tr>\n      <th>30617</th>\n      <td>MPEGKFCNRKPVNTEEDLKALLGDKGGAQYYKEMEELEVDQEALWA...</td>\n      <td>1</td>\n      <td>5</td>\n      <td>[[0.0, 0.0, 0.0, 0.0, 0.0, 0.0, 0.0, 0.0, 0.0,...</td>\n    </tr>\n    <tr>\n      <th>30618</th>\n      <td>MQHANTNKSLMTPGNIITGIILVMGLVLTVLRFTKGIGAVSNLDDN...</td>\n      <td>1</td>\n      <td>5</td>\n      <td>[[0.0, 0.0, 0.0, 0.0, 0.0, 0.0, 0.0, 0.0, 0.0,...</td>\n    </tr>\n    <tr>\n      <th>30619</th>\n      <td>MRFGVVVLAIILLTGCSAMSAISDLLPSKDGIEATAQAGESNQKTG...</td>\n      <td>1</td>\n      <td>1</td>\n      <td>[[0.0, 0.0, 0.0, 0.0, 0.0, 0.0, 0.0, 0.0, 0.0,...</td>\n    </tr>\n    <tr>\n      <th>30620</th>\n      <td>MILLTQSRFFSQKARCYITDNKRLFLPLLILIALVVPATRGFTLQA...</td>\n      <td>1</td>\n      <td>2</td>\n      <td>[[0.0, 0.0, 0.0, 0.0, 0.0, 0.0, 0.0, 0.0, 0.0,...</td>\n    </tr>\n    <tr>\n      <th>30621</th>\n      <td>MRYVRSLLGVGALLVGAGGAAAQPGAFPGAGERAPGGAPSAPVSAP...</td>\n      <td>1</td>\n      <td>1</td>\n      <td>[[0.0, 0.0, 0.0, 0.0, 0.0, 0.0, 0.0, 0.0, 0.0,...</td>\n    </tr>\n  </tbody>\n</table>\n<p>30505 rows × 4 columns</p>\n</div>"
     },
     "execution_count": 25,
     "metadata": {},
     "output_type": "execute_result"
    }
   ],
   "source": [
    "df_enco.insert(len(df_enco.columns), \"Hotenc\",df_sequence)\n",
    "df_enco.to_csv('df_enco.csv')\n",
    "df_enco\n"
   ],
   "metadata": {
    "collapsed": false,
    "pycharm": {
     "name": "#%%\n"
    }
   }
  }
 ],
 "metadata": {
  "celltoolbar": "Tags",
  "kernelspec": {
   "display_name": "Python 3 (ipykernel)",
   "language": "python",
   "name": "python3"
  },
  "language_info": {
   "codemirror_mode": {
    "name": "ipython",
    "version": 3
   },
   "file_extension": ".py",
   "mimetype": "text/x-python",
   "name": "python",
   "nbconvert_exporter": "python",
   "pygments_lexer": "ipython3",
   "version": "3.8.11"
  }
 },
 "nbformat": 4,
 "nbformat_minor": 1
}